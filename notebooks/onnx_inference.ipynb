{
  "nbformat": 4,
  "nbformat_minor": 0,
  "metadata": {
    "colab": {
      "provenance": [],
      "gpuType": "T4"
    },
    "kernelspec": {
      "name": "python3",
      "display_name": "Python 3"
    },
    "language_info": {
      "name": "python"
    },
    "widgets": {
      "application/vnd.jupyter.widget-state+json": {
        "6024e224d12a4963b36af9a658a05afa": {
          "model_module": "@jupyter-widgets/controls",
          "model_name": "HBoxModel",
          "model_module_version": "1.5.0",
          "state": {
            "_dom_classes": [],
            "_model_module": "@jupyter-widgets/controls",
            "_model_module_version": "1.5.0",
            "_model_name": "HBoxModel",
            "_view_count": null,
            "_view_module": "@jupyter-widgets/controls",
            "_view_module_version": "1.5.0",
            "_view_name": "HBoxView",
            "box_style": "",
            "children": [
              "IPY_MODEL_62f66dcd79b04e008192481307c4913f",
              "IPY_MODEL_437b13348522412492f5ace6546057d5",
              "IPY_MODEL_cde4ab65dfa84ef3ad7a9b3fc0fc8c75"
            ],
            "layout": "IPY_MODEL_c477b2666e644a148299d81822372bad"
          }
        },
        "62f66dcd79b04e008192481307c4913f": {
          "model_module": "@jupyter-widgets/controls",
          "model_name": "HTMLModel",
          "model_module_version": "1.5.0",
          "state": {
            "_dom_classes": [],
            "_model_module": "@jupyter-widgets/controls",
            "_model_module_version": "1.5.0",
            "_model_name": "HTMLModel",
            "_view_count": null,
            "_view_module": "@jupyter-widgets/controls",
            "_view_module_version": "1.5.0",
            "_view_name": "HTMLView",
            "description": "",
            "description_tooltip": null,
            "layout": "IPY_MODEL_f6c49760f0294db2a519b1aca3213549",
            "placeholder": "​",
            "style": "IPY_MODEL_3c68969218504af78c5d6965bdaca4c6",
            "value": "100%"
          }
        },
        "437b13348522412492f5ace6546057d5": {
          "model_module": "@jupyter-widgets/controls",
          "model_name": "FloatProgressModel",
          "model_module_version": "1.5.0",
          "state": {
            "_dom_classes": [],
            "_model_module": "@jupyter-widgets/controls",
            "_model_module_version": "1.5.0",
            "_model_name": "FloatProgressModel",
            "_view_count": null,
            "_view_module": "@jupyter-widgets/controls",
            "_view_module_version": "1.5.0",
            "_view_name": "ProgressView",
            "bar_style": "success",
            "description": "",
            "description_tooltip": null,
            "layout": "IPY_MODEL_0bf58fd181454af4958282905428f46b",
            "max": 2120,
            "min": 0,
            "orientation": "horizontal",
            "style": "IPY_MODEL_2d914d4f9d1148d49eb839ea1b5ee094",
            "value": 2120
          }
        },
        "cde4ab65dfa84ef3ad7a9b3fc0fc8c75": {
          "model_module": "@jupyter-widgets/controls",
          "model_name": "HTMLModel",
          "model_module_version": "1.5.0",
          "state": {
            "_dom_classes": [],
            "_model_module": "@jupyter-widgets/controls",
            "_model_module_version": "1.5.0",
            "_model_name": "HTMLModel",
            "_view_count": null,
            "_view_module": "@jupyter-widgets/controls",
            "_view_module_version": "1.5.0",
            "_view_name": "HTMLView",
            "description": "",
            "description_tooltip": null,
            "layout": "IPY_MODEL_ab7d3a7a3f3f4d1ca7e5691dfbda28a0",
            "placeholder": "​",
            "style": "IPY_MODEL_3ea7da45ec514a01b49e674e4315e974",
            "value": " 2120/2120 [23:06&lt;00:00,  1.52it/s]"
          }
        },
        "c477b2666e644a148299d81822372bad": {
          "model_module": "@jupyter-widgets/base",
          "model_name": "LayoutModel",
          "model_module_version": "1.2.0",
          "state": {
            "_model_module": "@jupyter-widgets/base",
            "_model_module_version": "1.2.0",
            "_model_name": "LayoutModel",
            "_view_count": null,
            "_view_module": "@jupyter-widgets/base",
            "_view_module_version": "1.2.0",
            "_view_name": "LayoutView",
            "align_content": null,
            "align_items": null,
            "align_self": null,
            "border": null,
            "bottom": null,
            "display": null,
            "flex": null,
            "flex_flow": null,
            "grid_area": null,
            "grid_auto_columns": null,
            "grid_auto_flow": null,
            "grid_auto_rows": null,
            "grid_column": null,
            "grid_gap": null,
            "grid_row": null,
            "grid_template_areas": null,
            "grid_template_columns": null,
            "grid_template_rows": null,
            "height": null,
            "justify_content": null,
            "justify_items": null,
            "left": null,
            "margin": null,
            "max_height": null,
            "max_width": null,
            "min_height": null,
            "min_width": null,
            "object_fit": null,
            "object_position": null,
            "order": null,
            "overflow": null,
            "overflow_x": null,
            "overflow_y": null,
            "padding": null,
            "right": null,
            "top": null,
            "visibility": null,
            "width": null
          }
        },
        "f6c49760f0294db2a519b1aca3213549": {
          "model_module": "@jupyter-widgets/base",
          "model_name": "LayoutModel",
          "model_module_version": "1.2.0",
          "state": {
            "_model_module": "@jupyter-widgets/base",
            "_model_module_version": "1.2.0",
            "_model_name": "LayoutModel",
            "_view_count": null,
            "_view_module": "@jupyter-widgets/base",
            "_view_module_version": "1.2.0",
            "_view_name": "LayoutView",
            "align_content": null,
            "align_items": null,
            "align_self": null,
            "border": null,
            "bottom": null,
            "display": null,
            "flex": null,
            "flex_flow": null,
            "grid_area": null,
            "grid_auto_columns": null,
            "grid_auto_flow": null,
            "grid_auto_rows": null,
            "grid_column": null,
            "grid_gap": null,
            "grid_row": null,
            "grid_template_areas": null,
            "grid_template_columns": null,
            "grid_template_rows": null,
            "height": null,
            "justify_content": null,
            "justify_items": null,
            "left": null,
            "margin": null,
            "max_height": null,
            "max_width": null,
            "min_height": null,
            "min_width": null,
            "object_fit": null,
            "object_position": null,
            "order": null,
            "overflow": null,
            "overflow_x": null,
            "overflow_y": null,
            "padding": null,
            "right": null,
            "top": null,
            "visibility": null,
            "width": null
          }
        },
        "3c68969218504af78c5d6965bdaca4c6": {
          "model_module": "@jupyter-widgets/controls",
          "model_name": "DescriptionStyleModel",
          "model_module_version": "1.5.0",
          "state": {
            "_model_module": "@jupyter-widgets/controls",
            "_model_module_version": "1.5.0",
            "_model_name": "DescriptionStyleModel",
            "_view_count": null,
            "_view_module": "@jupyter-widgets/base",
            "_view_module_version": "1.2.0",
            "_view_name": "StyleView",
            "description_width": ""
          }
        },
        "0bf58fd181454af4958282905428f46b": {
          "model_module": "@jupyter-widgets/base",
          "model_name": "LayoutModel",
          "model_module_version": "1.2.0",
          "state": {
            "_model_module": "@jupyter-widgets/base",
            "_model_module_version": "1.2.0",
            "_model_name": "LayoutModel",
            "_view_count": null,
            "_view_module": "@jupyter-widgets/base",
            "_view_module_version": "1.2.0",
            "_view_name": "LayoutView",
            "align_content": null,
            "align_items": null,
            "align_self": null,
            "border": null,
            "bottom": null,
            "display": null,
            "flex": null,
            "flex_flow": null,
            "grid_area": null,
            "grid_auto_columns": null,
            "grid_auto_flow": null,
            "grid_auto_rows": null,
            "grid_column": null,
            "grid_gap": null,
            "grid_row": null,
            "grid_template_areas": null,
            "grid_template_columns": null,
            "grid_template_rows": null,
            "height": null,
            "justify_content": null,
            "justify_items": null,
            "left": null,
            "margin": null,
            "max_height": null,
            "max_width": null,
            "min_height": null,
            "min_width": null,
            "object_fit": null,
            "object_position": null,
            "order": null,
            "overflow": null,
            "overflow_x": null,
            "overflow_y": null,
            "padding": null,
            "right": null,
            "top": null,
            "visibility": null,
            "width": null
          }
        },
        "2d914d4f9d1148d49eb839ea1b5ee094": {
          "model_module": "@jupyter-widgets/controls",
          "model_name": "ProgressStyleModel",
          "model_module_version": "1.5.0",
          "state": {
            "_model_module": "@jupyter-widgets/controls",
            "_model_module_version": "1.5.0",
            "_model_name": "ProgressStyleModel",
            "_view_count": null,
            "_view_module": "@jupyter-widgets/base",
            "_view_module_version": "1.2.0",
            "_view_name": "StyleView",
            "bar_color": null,
            "description_width": ""
          }
        },
        "ab7d3a7a3f3f4d1ca7e5691dfbda28a0": {
          "model_module": "@jupyter-widgets/base",
          "model_name": "LayoutModel",
          "model_module_version": "1.2.0",
          "state": {
            "_model_module": "@jupyter-widgets/base",
            "_model_module_version": "1.2.0",
            "_model_name": "LayoutModel",
            "_view_count": null,
            "_view_module": "@jupyter-widgets/base",
            "_view_module_version": "1.2.0",
            "_view_name": "LayoutView",
            "align_content": null,
            "align_items": null,
            "align_self": null,
            "border": null,
            "bottom": null,
            "display": null,
            "flex": null,
            "flex_flow": null,
            "grid_area": null,
            "grid_auto_columns": null,
            "grid_auto_flow": null,
            "grid_auto_rows": null,
            "grid_column": null,
            "grid_gap": null,
            "grid_row": null,
            "grid_template_areas": null,
            "grid_template_columns": null,
            "grid_template_rows": null,
            "height": null,
            "justify_content": null,
            "justify_items": null,
            "left": null,
            "margin": null,
            "max_height": null,
            "max_width": null,
            "min_height": null,
            "min_width": null,
            "object_fit": null,
            "object_position": null,
            "order": null,
            "overflow": null,
            "overflow_x": null,
            "overflow_y": null,
            "padding": null,
            "right": null,
            "top": null,
            "visibility": null,
            "width": null
          }
        },
        "3ea7da45ec514a01b49e674e4315e974": {
          "model_module": "@jupyter-widgets/controls",
          "model_name": "DescriptionStyleModel",
          "model_module_version": "1.5.0",
          "state": {
            "_model_module": "@jupyter-widgets/controls",
            "_model_module_version": "1.5.0",
            "_model_name": "DescriptionStyleModel",
            "_view_count": null,
            "_view_module": "@jupyter-widgets/base",
            "_view_module_version": "1.2.0",
            "_view_name": "StyleView",
            "description_width": ""
          }
        },
        "60a8d4e2846f4084be3619cafac37072": {
          "model_module": "@jupyter-widgets/controls",
          "model_name": "HBoxModel",
          "model_module_version": "1.5.0",
          "state": {
            "_dom_classes": [],
            "_model_module": "@jupyter-widgets/controls",
            "_model_module_version": "1.5.0",
            "_model_name": "HBoxModel",
            "_view_count": null,
            "_view_module": "@jupyter-widgets/controls",
            "_view_module_version": "1.5.0",
            "_view_name": "HBoxView",
            "box_style": "",
            "children": [
              "IPY_MODEL_bd745b024766483a869f9a0a11875549",
              "IPY_MODEL_0ebf264eabb5496b99af3d66b0470e3d",
              "IPY_MODEL_568b0f3af17b4069a195d8135f0f9d72"
            ],
            "layout": "IPY_MODEL_fd1b3f4f170d4f509733967e2043bce2"
          }
        },
        "bd745b024766483a869f9a0a11875549": {
          "model_module": "@jupyter-widgets/controls",
          "model_name": "HTMLModel",
          "model_module_version": "1.5.0",
          "state": {
            "_dom_classes": [],
            "_model_module": "@jupyter-widgets/controls",
            "_model_module_version": "1.5.0",
            "_model_name": "HTMLModel",
            "_view_count": null,
            "_view_module": "@jupyter-widgets/controls",
            "_view_module_version": "1.5.0",
            "_view_name": "HTMLView",
            "description": "",
            "description_tooltip": null,
            "layout": "IPY_MODEL_a7d53b12adb04789bab967f5f0e4e01c",
            "placeholder": "​",
            "style": "IPY_MODEL_75efab4498b94312be3035fa26a32774",
            "value": "100%"
          }
        },
        "0ebf264eabb5496b99af3d66b0470e3d": {
          "model_module": "@jupyter-widgets/controls",
          "model_name": "FloatProgressModel",
          "model_module_version": "1.5.0",
          "state": {
            "_dom_classes": [],
            "_model_module": "@jupyter-widgets/controls",
            "_model_module_version": "1.5.0",
            "_model_name": "FloatProgressModel",
            "_view_count": null,
            "_view_module": "@jupyter-widgets/controls",
            "_view_module_version": "1.5.0",
            "_view_name": "ProgressView",
            "bar_style": "success",
            "description": "",
            "description_tooltip": null,
            "layout": "IPY_MODEL_4ccb725035c74d428bbaf687c5416869",
            "max": 2120,
            "min": 0,
            "orientation": "horizontal",
            "style": "IPY_MODEL_ccbcd70a3fa748ca994a1a1655968d9b",
            "value": 2120
          }
        },
        "568b0f3af17b4069a195d8135f0f9d72": {
          "model_module": "@jupyter-widgets/controls",
          "model_name": "HTMLModel",
          "model_module_version": "1.5.0",
          "state": {
            "_dom_classes": [],
            "_model_module": "@jupyter-widgets/controls",
            "_model_module_version": "1.5.0",
            "_model_name": "HTMLModel",
            "_view_count": null,
            "_view_module": "@jupyter-widgets/controls",
            "_view_module_version": "1.5.0",
            "_view_name": "HTMLView",
            "description": "",
            "description_tooltip": null,
            "layout": "IPY_MODEL_767cd7f3e85b42a5a6119bf3d0844de4",
            "placeholder": "​",
            "style": "IPY_MODEL_8409f5bef97440b7bbbc86915030d285",
            "value": " 2120/2120 [20:45&lt;00:00,  1.83it/s]"
          }
        },
        "fd1b3f4f170d4f509733967e2043bce2": {
          "model_module": "@jupyter-widgets/base",
          "model_name": "LayoutModel",
          "model_module_version": "1.2.0",
          "state": {
            "_model_module": "@jupyter-widgets/base",
            "_model_module_version": "1.2.0",
            "_model_name": "LayoutModel",
            "_view_count": null,
            "_view_module": "@jupyter-widgets/base",
            "_view_module_version": "1.2.0",
            "_view_name": "LayoutView",
            "align_content": null,
            "align_items": null,
            "align_self": null,
            "border": null,
            "bottom": null,
            "display": null,
            "flex": null,
            "flex_flow": null,
            "grid_area": null,
            "grid_auto_columns": null,
            "grid_auto_flow": null,
            "grid_auto_rows": null,
            "grid_column": null,
            "grid_gap": null,
            "grid_row": null,
            "grid_template_areas": null,
            "grid_template_columns": null,
            "grid_template_rows": null,
            "height": null,
            "justify_content": null,
            "justify_items": null,
            "left": null,
            "margin": null,
            "max_height": null,
            "max_width": null,
            "min_height": null,
            "min_width": null,
            "object_fit": null,
            "object_position": null,
            "order": null,
            "overflow": null,
            "overflow_x": null,
            "overflow_y": null,
            "padding": null,
            "right": null,
            "top": null,
            "visibility": null,
            "width": null
          }
        },
        "a7d53b12adb04789bab967f5f0e4e01c": {
          "model_module": "@jupyter-widgets/base",
          "model_name": "LayoutModel",
          "model_module_version": "1.2.0",
          "state": {
            "_model_module": "@jupyter-widgets/base",
            "_model_module_version": "1.2.0",
            "_model_name": "LayoutModel",
            "_view_count": null,
            "_view_module": "@jupyter-widgets/base",
            "_view_module_version": "1.2.0",
            "_view_name": "LayoutView",
            "align_content": null,
            "align_items": null,
            "align_self": null,
            "border": null,
            "bottom": null,
            "display": null,
            "flex": null,
            "flex_flow": null,
            "grid_area": null,
            "grid_auto_columns": null,
            "grid_auto_flow": null,
            "grid_auto_rows": null,
            "grid_column": null,
            "grid_gap": null,
            "grid_row": null,
            "grid_template_areas": null,
            "grid_template_columns": null,
            "grid_template_rows": null,
            "height": null,
            "justify_content": null,
            "justify_items": null,
            "left": null,
            "margin": null,
            "max_height": null,
            "max_width": null,
            "min_height": null,
            "min_width": null,
            "object_fit": null,
            "object_position": null,
            "order": null,
            "overflow": null,
            "overflow_x": null,
            "overflow_y": null,
            "padding": null,
            "right": null,
            "top": null,
            "visibility": null,
            "width": null
          }
        },
        "75efab4498b94312be3035fa26a32774": {
          "model_module": "@jupyter-widgets/controls",
          "model_name": "DescriptionStyleModel",
          "model_module_version": "1.5.0",
          "state": {
            "_model_module": "@jupyter-widgets/controls",
            "_model_module_version": "1.5.0",
            "_model_name": "DescriptionStyleModel",
            "_view_count": null,
            "_view_module": "@jupyter-widgets/base",
            "_view_module_version": "1.2.0",
            "_view_name": "StyleView",
            "description_width": ""
          }
        },
        "4ccb725035c74d428bbaf687c5416869": {
          "model_module": "@jupyter-widgets/base",
          "model_name": "LayoutModel",
          "model_module_version": "1.2.0",
          "state": {
            "_model_module": "@jupyter-widgets/base",
            "_model_module_version": "1.2.0",
            "_model_name": "LayoutModel",
            "_view_count": null,
            "_view_module": "@jupyter-widgets/base",
            "_view_module_version": "1.2.0",
            "_view_name": "LayoutView",
            "align_content": null,
            "align_items": null,
            "align_self": null,
            "border": null,
            "bottom": null,
            "display": null,
            "flex": null,
            "flex_flow": null,
            "grid_area": null,
            "grid_auto_columns": null,
            "grid_auto_flow": null,
            "grid_auto_rows": null,
            "grid_column": null,
            "grid_gap": null,
            "grid_row": null,
            "grid_template_areas": null,
            "grid_template_columns": null,
            "grid_template_rows": null,
            "height": null,
            "justify_content": null,
            "justify_items": null,
            "left": null,
            "margin": null,
            "max_height": null,
            "max_width": null,
            "min_height": null,
            "min_width": null,
            "object_fit": null,
            "object_position": null,
            "order": null,
            "overflow": null,
            "overflow_x": null,
            "overflow_y": null,
            "padding": null,
            "right": null,
            "top": null,
            "visibility": null,
            "width": null
          }
        },
        "ccbcd70a3fa748ca994a1a1655968d9b": {
          "model_module": "@jupyter-widgets/controls",
          "model_name": "ProgressStyleModel",
          "model_module_version": "1.5.0",
          "state": {
            "_model_module": "@jupyter-widgets/controls",
            "_model_module_version": "1.5.0",
            "_model_name": "ProgressStyleModel",
            "_view_count": null,
            "_view_module": "@jupyter-widgets/base",
            "_view_module_version": "1.2.0",
            "_view_name": "StyleView",
            "bar_color": null,
            "description_width": ""
          }
        },
        "767cd7f3e85b42a5a6119bf3d0844de4": {
          "model_module": "@jupyter-widgets/base",
          "model_name": "LayoutModel",
          "model_module_version": "1.2.0",
          "state": {
            "_model_module": "@jupyter-widgets/base",
            "_model_module_version": "1.2.0",
            "_model_name": "LayoutModel",
            "_view_count": null,
            "_view_module": "@jupyter-widgets/base",
            "_view_module_version": "1.2.0",
            "_view_name": "LayoutView",
            "align_content": null,
            "align_items": null,
            "align_self": null,
            "border": null,
            "bottom": null,
            "display": null,
            "flex": null,
            "flex_flow": null,
            "grid_area": null,
            "grid_auto_columns": null,
            "grid_auto_flow": null,
            "grid_auto_rows": null,
            "grid_column": null,
            "grid_gap": null,
            "grid_row": null,
            "grid_template_areas": null,
            "grid_template_columns": null,
            "grid_template_rows": null,
            "height": null,
            "justify_content": null,
            "justify_items": null,
            "left": null,
            "margin": null,
            "max_height": null,
            "max_width": null,
            "min_height": null,
            "min_width": null,
            "object_fit": null,
            "object_position": null,
            "order": null,
            "overflow": null,
            "overflow_x": null,
            "overflow_y": null,
            "padding": null,
            "right": null,
            "top": null,
            "visibility": null,
            "width": null
          }
        },
        "8409f5bef97440b7bbbc86915030d285": {
          "model_module": "@jupyter-widgets/controls",
          "model_name": "DescriptionStyleModel",
          "model_module_version": "1.5.0",
          "state": {
            "_model_module": "@jupyter-widgets/controls",
            "_model_module_version": "1.5.0",
            "_model_name": "DescriptionStyleModel",
            "_view_count": null,
            "_view_module": "@jupyter-widgets/base",
            "_view_module_version": "1.2.0",
            "_view_name": "StyleView",
            "description_width": ""
          }
        },
        "9f6e6c6588744e88b2b53a0ba4ff1c06": {
          "model_module": "@jupyter-widgets/controls",
          "model_name": "HBoxModel",
          "model_module_version": "1.5.0",
          "state": {
            "_dom_classes": [],
            "_model_module": "@jupyter-widgets/controls",
            "_model_module_version": "1.5.0",
            "_model_name": "HBoxModel",
            "_view_count": null,
            "_view_module": "@jupyter-widgets/controls",
            "_view_module_version": "1.5.0",
            "_view_name": "HBoxView",
            "box_style": "",
            "children": [
              "IPY_MODEL_10dd8b97062a4e76acc4c151b6445806",
              "IPY_MODEL_5ab7bbe29a3242a4a450332de19cd593",
              "IPY_MODEL_308afce7a8c34a71a17cd9714bdbca08"
            ],
            "layout": "IPY_MODEL_122736e15e5e43109149384e521036ba"
          }
        },
        "10dd8b97062a4e76acc4c151b6445806": {
          "model_module": "@jupyter-widgets/controls",
          "model_name": "HTMLModel",
          "model_module_version": "1.5.0",
          "state": {
            "_dom_classes": [],
            "_model_module": "@jupyter-widgets/controls",
            "_model_module_version": "1.5.0",
            "_model_name": "HTMLModel",
            "_view_count": null,
            "_view_module": "@jupyter-widgets/controls",
            "_view_module_version": "1.5.0",
            "_view_name": "HTMLView",
            "description": "",
            "description_tooltip": null,
            "layout": "IPY_MODEL_30974e8668fc48fd9116501c089b9b92",
            "placeholder": "​",
            "style": "IPY_MODEL_2a2aaecbf2214e1191c40f392f7a7ac7",
            "value": "100%"
          }
        },
        "5ab7bbe29a3242a4a450332de19cd593": {
          "model_module": "@jupyter-widgets/controls",
          "model_name": "FloatProgressModel",
          "model_module_version": "1.5.0",
          "state": {
            "_dom_classes": [],
            "_model_module": "@jupyter-widgets/controls",
            "_model_module_version": "1.5.0",
            "_model_name": "FloatProgressModel",
            "_view_count": null,
            "_view_module": "@jupyter-widgets/controls",
            "_view_module_version": "1.5.0",
            "_view_name": "ProgressView",
            "bar_style": "success",
            "description": "",
            "description_tooltip": null,
            "layout": "IPY_MODEL_a7cfb147d8ea4185981f180e65280b78",
            "max": 2120,
            "min": 0,
            "orientation": "horizontal",
            "style": "IPY_MODEL_b4282c41754a4dc49bf215488699fe9e",
            "value": 2120
          }
        },
        "308afce7a8c34a71a17cd9714bdbca08": {
          "model_module": "@jupyter-widgets/controls",
          "model_name": "HTMLModel",
          "model_module_version": "1.5.0",
          "state": {
            "_dom_classes": [],
            "_model_module": "@jupyter-widgets/controls",
            "_model_module_version": "1.5.0",
            "_model_name": "HTMLModel",
            "_view_count": null,
            "_view_module": "@jupyter-widgets/controls",
            "_view_module_version": "1.5.0",
            "_view_name": "HTMLView",
            "description": "",
            "description_tooltip": null,
            "layout": "IPY_MODEL_22b52227ef054522821bd0466720887b",
            "placeholder": "​",
            "style": "IPY_MODEL_e428b9d90f5d4f18ac76b2970742d3ee",
            "value": " 2120/2120 [17:56&lt;00:00,  1.33it/s]"
          }
        },
        "122736e15e5e43109149384e521036ba": {
          "model_module": "@jupyter-widgets/base",
          "model_name": "LayoutModel",
          "model_module_version": "1.2.0",
          "state": {
            "_model_module": "@jupyter-widgets/base",
            "_model_module_version": "1.2.0",
            "_model_name": "LayoutModel",
            "_view_count": null,
            "_view_module": "@jupyter-widgets/base",
            "_view_module_version": "1.2.0",
            "_view_name": "LayoutView",
            "align_content": null,
            "align_items": null,
            "align_self": null,
            "border": null,
            "bottom": null,
            "display": null,
            "flex": null,
            "flex_flow": null,
            "grid_area": null,
            "grid_auto_columns": null,
            "grid_auto_flow": null,
            "grid_auto_rows": null,
            "grid_column": null,
            "grid_gap": null,
            "grid_row": null,
            "grid_template_areas": null,
            "grid_template_columns": null,
            "grid_template_rows": null,
            "height": null,
            "justify_content": null,
            "justify_items": null,
            "left": null,
            "margin": null,
            "max_height": null,
            "max_width": null,
            "min_height": null,
            "min_width": null,
            "object_fit": null,
            "object_position": null,
            "order": null,
            "overflow": null,
            "overflow_x": null,
            "overflow_y": null,
            "padding": null,
            "right": null,
            "top": null,
            "visibility": null,
            "width": null
          }
        },
        "30974e8668fc48fd9116501c089b9b92": {
          "model_module": "@jupyter-widgets/base",
          "model_name": "LayoutModel",
          "model_module_version": "1.2.0",
          "state": {
            "_model_module": "@jupyter-widgets/base",
            "_model_module_version": "1.2.0",
            "_model_name": "LayoutModel",
            "_view_count": null,
            "_view_module": "@jupyter-widgets/base",
            "_view_module_version": "1.2.0",
            "_view_name": "LayoutView",
            "align_content": null,
            "align_items": null,
            "align_self": null,
            "border": null,
            "bottom": null,
            "display": null,
            "flex": null,
            "flex_flow": null,
            "grid_area": null,
            "grid_auto_columns": null,
            "grid_auto_flow": null,
            "grid_auto_rows": null,
            "grid_column": null,
            "grid_gap": null,
            "grid_row": null,
            "grid_template_areas": null,
            "grid_template_columns": null,
            "grid_template_rows": null,
            "height": null,
            "justify_content": null,
            "justify_items": null,
            "left": null,
            "margin": null,
            "max_height": null,
            "max_width": null,
            "min_height": null,
            "min_width": null,
            "object_fit": null,
            "object_position": null,
            "order": null,
            "overflow": null,
            "overflow_x": null,
            "overflow_y": null,
            "padding": null,
            "right": null,
            "top": null,
            "visibility": null,
            "width": null
          }
        },
        "2a2aaecbf2214e1191c40f392f7a7ac7": {
          "model_module": "@jupyter-widgets/controls",
          "model_name": "DescriptionStyleModel",
          "model_module_version": "1.5.0",
          "state": {
            "_model_module": "@jupyter-widgets/controls",
            "_model_module_version": "1.5.0",
            "_model_name": "DescriptionStyleModel",
            "_view_count": null,
            "_view_module": "@jupyter-widgets/base",
            "_view_module_version": "1.2.0",
            "_view_name": "StyleView",
            "description_width": ""
          }
        },
        "a7cfb147d8ea4185981f180e65280b78": {
          "model_module": "@jupyter-widgets/base",
          "model_name": "LayoutModel",
          "model_module_version": "1.2.0",
          "state": {
            "_model_module": "@jupyter-widgets/base",
            "_model_module_version": "1.2.0",
            "_model_name": "LayoutModel",
            "_view_count": null,
            "_view_module": "@jupyter-widgets/base",
            "_view_module_version": "1.2.0",
            "_view_name": "LayoutView",
            "align_content": null,
            "align_items": null,
            "align_self": null,
            "border": null,
            "bottom": null,
            "display": null,
            "flex": null,
            "flex_flow": null,
            "grid_area": null,
            "grid_auto_columns": null,
            "grid_auto_flow": null,
            "grid_auto_rows": null,
            "grid_column": null,
            "grid_gap": null,
            "grid_row": null,
            "grid_template_areas": null,
            "grid_template_columns": null,
            "grid_template_rows": null,
            "height": null,
            "justify_content": null,
            "justify_items": null,
            "left": null,
            "margin": null,
            "max_height": null,
            "max_width": null,
            "min_height": null,
            "min_width": null,
            "object_fit": null,
            "object_position": null,
            "order": null,
            "overflow": null,
            "overflow_x": null,
            "overflow_y": null,
            "padding": null,
            "right": null,
            "top": null,
            "visibility": null,
            "width": null
          }
        },
        "b4282c41754a4dc49bf215488699fe9e": {
          "model_module": "@jupyter-widgets/controls",
          "model_name": "ProgressStyleModel",
          "model_module_version": "1.5.0",
          "state": {
            "_model_module": "@jupyter-widgets/controls",
            "_model_module_version": "1.5.0",
            "_model_name": "ProgressStyleModel",
            "_view_count": null,
            "_view_module": "@jupyter-widgets/base",
            "_view_module_version": "1.2.0",
            "_view_name": "StyleView",
            "bar_color": null,
            "description_width": ""
          }
        },
        "22b52227ef054522821bd0466720887b": {
          "model_module": "@jupyter-widgets/base",
          "model_name": "LayoutModel",
          "model_module_version": "1.2.0",
          "state": {
            "_model_module": "@jupyter-widgets/base",
            "_model_module_version": "1.2.0",
            "_model_name": "LayoutModel",
            "_view_count": null,
            "_view_module": "@jupyter-widgets/base",
            "_view_module_version": "1.2.0",
            "_view_name": "LayoutView",
            "align_content": null,
            "align_items": null,
            "align_self": null,
            "border": null,
            "bottom": null,
            "display": null,
            "flex": null,
            "flex_flow": null,
            "grid_area": null,
            "grid_auto_columns": null,
            "grid_auto_flow": null,
            "grid_auto_rows": null,
            "grid_column": null,
            "grid_gap": null,
            "grid_row": null,
            "grid_template_areas": null,
            "grid_template_columns": null,
            "grid_template_rows": null,
            "height": null,
            "justify_content": null,
            "justify_items": null,
            "left": null,
            "margin": null,
            "max_height": null,
            "max_width": null,
            "min_height": null,
            "min_width": null,
            "object_fit": null,
            "object_position": null,
            "order": null,
            "overflow": null,
            "overflow_x": null,
            "overflow_y": null,
            "padding": null,
            "right": null,
            "top": null,
            "visibility": null,
            "width": null
          }
        },
        "e428b9d90f5d4f18ac76b2970742d3ee": {
          "model_module": "@jupyter-widgets/controls",
          "model_name": "DescriptionStyleModel",
          "model_module_version": "1.5.0",
          "state": {
            "_model_module": "@jupyter-widgets/controls",
            "_model_module_version": "1.5.0",
            "_model_name": "DescriptionStyleModel",
            "_view_count": null,
            "_view_module": "@jupyter-widgets/base",
            "_view_module_version": "1.2.0",
            "_view_name": "StyleView",
            "description_width": ""
          }
        }
      }
    }
  },
  "cells": [
    {
      "cell_type": "markdown",
      "source": [
        "# Setting Up"
      ],
      "metadata": {
        "id": "WWZfX9RGxDWn"
      }
    },
    {
      "cell_type": "code",
      "source": [
        "!nvidia-smi"
      ],
      "metadata": {
        "colab": {
          "base_uri": "https://localhost:8080/"
        },
        "id": "TBXk57rFDEAX",
        "outputId": "2de59428-7f5f-49e6-8712-7667a38d9a4d"
      },
      "execution_count": null,
      "outputs": [
        {
          "output_type": "stream",
          "name": "stdout",
          "text": [
            "/bin/bash: line 1: nvidia-smi: command not found\n"
          ]
        }
      ]
    },
    {
      "cell_type": "code",
      "execution_count": null,
      "metadata": {
        "id": "qqbGE5VDwwk4"
      },
      "outputs": [],
      "source": [
        "%reload_ext autoreload\n",
        "%autoreload 2\n",
        "%matplotlib inline"
      ]
    },
    {
      "cell_type": "code",
      "source": [
        "!pip install torch"
      ],
      "metadata": {
        "id": "uI_zFF0RC7lh",
        "colab": {
          "base_uri": "https://localhost:8080/"
        },
        "outputId": "8c3a21d7-bb32-4dee-aae3-56d288021c9c"
      },
      "execution_count": null,
      "outputs": [
        {
          "output_type": "stream",
          "name": "stdout",
          "text": [
            "Requirement already satisfied: torch in /usr/local/lib/python3.10/dist-packages (1.13.1)\n",
            "Requirement already satisfied: typing-extensions in /usr/local/lib/python3.10/dist-packages (from torch) (4.7.1)\n",
            "Requirement already satisfied: nvidia-cuda-runtime-cu11==11.7.99 in /usr/local/lib/python3.10/dist-packages (from torch) (11.7.99)\n",
            "Requirement already satisfied: nvidia-cudnn-cu11==8.5.0.96 in /usr/local/lib/python3.10/dist-packages (from torch) (8.5.0.96)\n",
            "Requirement already satisfied: nvidia-cublas-cu11==11.10.3.66 in /usr/local/lib/python3.10/dist-packages (from torch) (11.10.3.66)\n",
            "Requirement already satisfied: nvidia-cuda-nvrtc-cu11==11.7.99 in /usr/local/lib/python3.10/dist-packages (from torch) (11.7.99)\n",
            "Requirement already satisfied: setuptools in /usr/local/lib/python3.10/dist-packages (from nvidia-cublas-cu11==11.10.3.66->torch) (67.7.2)\n",
            "Requirement already satisfied: wheel in /usr/local/lib/python3.10/dist-packages (from nvidia-cublas-cu11==11.10.3.66->torch) (0.41.0)\n"
          ]
        }
      ]
    },
    {
      "cell_type": "code",
      "source": [
        "! pip install -q transformers[sentencepiece] fastai ohmeow-blurr nbdev"
      ],
      "metadata": {
        "id": "7LIYeFLnxHHE"
      },
      "execution_count": null,
      "outputs": []
    },
    {
      "cell_type": "code",
      "source": [
        "! pip install -q onnx==1.10.0 onnxruntime-gpu onnxruntime_tools"
      ],
      "metadata": {
        "colab": {
          "base_uri": "https://localhost:8080/"
        },
        "id": "J33mujA1xQ5-",
        "outputId": "285ad1fb-599d-4e8a-f17e-90249b313295"
      },
      "execution_count": null,
      "outputs": [
        {
          "output_type": "stream",
          "name": "stdout",
          "text": [
            "  \u001b[1;31merror\u001b[0m: \u001b[1msubprocess-exited-with-error\u001b[0m\n",
            "  \n",
            "  \u001b[31m×\u001b[0m \u001b[32mpython setup.py egg_info\u001b[0m did not run successfully.\n",
            "  \u001b[31m│\u001b[0m exit code: \u001b[1;36m1\u001b[0m\n",
            "  \u001b[31m╰─>\u001b[0m See above for output.\n",
            "  \n",
            "  \u001b[1;35mnote\u001b[0m: This error originates from a subprocess, and is likely not a problem with pip.\n",
            "  Preparing metadata (setup.py) ... \u001b[?25l\u001b[?25herror\n",
            "\u001b[1;31merror\u001b[0m: \u001b[1mmetadata-generation-failed\u001b[0m\n",
            "\n",
            "\u001b[31m×\u001b[0m Encountered error while generating package metadata.\n",
            "\u001b[31m╰─>\u001b[0m See above for output.\n",
            "\n",
            "\u001b[1;35mnote\u001b[0m: This is an issue with the package mentioned above, not pip.\n",
            "\u001b[1;36mhint\u001b[0m: See above for details.\n"
          ]
        }
      ]
    },
    {
      "cell_type": "code",
      "source": [
        "!pip install -q onnxruntime==1.12.0\n"
      ],
      "metadata": {
        "id": "0dJZUb9WDrlb"
      },
      "execution_count": null,
      "outputs": []
    },
    {
      "cell_type": "code",
      "source": [
        "!pip show onnx\n",
        "\n",
        "\n"
      ],
      "metadata": {
        "colab": {
          "base_uri": "https://localhost:8080/"
        },
        "id": "-LYBqxdDI3KZ",
        "outputId": "4be5c235-5cca-44f4-85d0-65724607e39d"
      },
      "execution_count": null,
      "outputs": [
        {
          "output_type": "stream",
          "name": "stdout",
          "text": [
            "Name: onnx\n",
            "Version: 1.14.0\n",
            "Summary: Open Neural Network Exchange\n",
            "Home-page: https://github.com/onnx/onnx\n",
            "Author: ONNX\n",
            "Author-email: onnx-technical-discuss@lists.lfaidata.foundation\n",
            "License: Apache License v2.0\n",
            "Location: /usr/local/lib/python3.10/dist-packages\n",
            "Requires: numpy, protobuf, typing-extensions\n",
            "Required-by: onnxruntime-tools\n"
          ]
        }
      ]
    },
    {
      "cell_type": "code",
      "source": [
        "!pip install --pre --no-cache-dir --no-deps --no-color --only-binary :all: onnx\n"
      ],
      "metadata": {
        "colab": {
          "base_uri": "https://localhost:8080/"
        },
        "id": "PTSrkZPfKTuH",
        "outputId": "5f1ed7ea-6105-49e4-a2a3-b2a5ca7e5873"
      },
      "execution_count": null,
      "outputs": [
        {
          "output_type": "stream",
          "name": "stdout",
          "text": [
            "Requirement already satisfied: onnx in /usr/local/lib/python3.10/dist-packages (1.14.0)\n"
          ]
        }
      ]
    },
    {
      "cell_type": "code",
      "source": [
        "!pip install -q onnxruntime-gpu onnxruntime-tools\n"
      ],
      "metadata": {
        "id": "tZOZjA5HD-ge"
      },
      "execution_count": null,
      "outputs": []
    },
    {
      "cell_type": "code",
      "source": [
        "import torch\n",
        "from transformers import AutoModelForSequenceClassification, AutoConfig\n",
        "from fastai.text.all import *\n",
        "from blurr.text.data.all import *\n",
        "from blurr.text.modeling.all import *"
      ],
      "metadata": {
        "colab": {
          "base_uri": "https://localhost:8080/"
        },
        "id": "MSDGY3C1xYb3",
        "outputId": "eae7e344-854d-4ddf-852a-deedf3e19c2d"
      },
      "execution_count": null,
      "outputs": [
        {
          "output_type": "stream",
          "name": "stderr",
          "text": [
            "/usr/local/lib/python3.10/dist-packages/blurr/text/modeling/question_answering.py:31: FutureWarning: load_metric is deprecated and will be removed in the next major version of datasets. Use 'evaluate.load' instead, from the new library 🤗 Evaluate: https://huggingface.co/docs/evaluate\n",
            "  squad_metric = load_metric(\"squad\")\n"
          ]
        }
      ]
    },
    {
      "cell_type": "code",
      "source": [
        "from tqdm.notebook import tqdm\n",
        "import numpy as np"
      ],
      "metadata": {
        "id": "0kamDZGsxb_f"
      },
      "execution_count": null,
      "outputs": []
    },
    {
      "cell_type": "code",
      "source": [
        "from google.colab import drive\n",
        "drive.mount('/content/drive')"
      ],
      "metadata": {
        "colab": {
          "base_uri": "https://localhost:8080/"
        },
        "id": "Mmdjs_Vyxfye",
        "outputId": "aecebdbb-1e5e-44f4-83a1-d9fe04cb674f"
      },
      "execution_count": null,
      "outputs": [
        {
          "output_type": "stream",
          "name": "stdout",
          "text": [
            "Drive already mounted at /content/drive; to attempt to forcibly remount, call drive.mount(\"/content/drive\", force_remount=True).\n"
          ]
        }
      ]
    },
    {
      "cell_type": "code",
      "source": [
        "%cd /content/drive/MyDrive/ml-classifier"
      ],
      "metadata": {
        "colab": {
          "base_uri": "https://localhost:8080/"
        },
        "id": "8eTnIaJ4xg2j",
        "outputId": "d9e1345d-0b37-4819-ca50-8f20d783f112"
      },
      "execution_count": null,
      "outputs": [
        {
          "output_type": "stream",
          "name": "stdout",
          "text": [
            "/content/drive/MyDrive/ml-classifier\n"
          ]
        }
      ]
    },
    {
      "cell_type": "markdown",
      "source": [
        "# Data"
      ],
      "metadata": {
        "id": "yZCgEpADxukk"
      }
    },
    {
      "cell_type": "code",
      "source": [
        "df = pd.read_csv(\"book_details_with_50colors.csv\")\n",
        "df.head()"
      ],
      "metadata": {
        "colab": {
          "base_uri": "https://localhost:8080/",
          "height": 667
        },
        "id": "_6olMHPyxveX",
        "outputId": "8c0363be-96ce-49f6-e64f-0b6fd2c8170f"
      },
      "execution_count": null,
      "outputs": [
        {
          "output_type": "execute_result",
          "data": {
            "text/plain": [
              "                                                                   title  \\\n",
              "0  Awakening Your Money Chakras Secrets to Attracting Wealth and Success   \n",
              "1                                                        Emotions A to Z   \n",
              "2                             The Art of Raise Capital for a New Venture   \n",
              "3                                                  райдуга навколо сонця   \n",
              "4                                      Sibiloi: The Genesis of Humanity?   \n",
              "\n",
              "                                                                                                                                                                                                                                                                                                                                                                                                                                                                                                                                                                                                               description  \\\n",
              "0  Welcome to our enlightening guide on \"Awakening Your Money Chakras: Secrets to Attracting Wealth and Success.\" If you've ever wondered how some people effortlessly attract abundance into their lives while others struggle, this book has the answers you seek!\\n\\nIn this empowering read, we delve into the fascinating world of chakras, the energy centers within us that influence our financial well-being. From the Root Chakra to the Crown Chakra, we explore how each one impacts our money mindset and ability to manifest prosperity.\\n\\nLearn how to identify blockages and imbalances that may have ...   \n",
              "1  \"The Empathy Weave: Embracing Emotional Intelligence for Meaningful Connections\" is a captivating and transformative exploration of emotional intelligence and empathy—a tapestry of understanding and compassion that weaves hearts together with profound human connections. In this enlightening book, readers embark on a journey of self-discovery and growth, unlocking the power of emotional intelligence to enhance personal relationships, professional success, and overall well-being.\\n\\nDrawing upon the rich tapestry of emotional intelligence, this book delves deep into the intricacies of self-a...   \n",
              "2  \"The Art of Raise Capital for Your New Venture\" is a practical and insightful guide that equips entrepreneurs with the knowledge and strategies needed to secure capital for their startup ventures. Authored with the understanding of the challenges faced by startup founders, this book serves as a valuable resource for aspiring entrepreneurs and seasoned founders alike.\\n\\nAt the core of successful fundraising lies the art of visionary storytelling. The book emphasizes the importance of articulating a powerful vision that resonates with potential investors. Through effective communication, en...   \n",
              "3                                                                                                                                                       Життя заможного бізнесмена Марка можна побачити лише у казках: квартири, дорогі автомобілі, красива дівчина. Проте одна подія змінює Марка: врятувавши дівчинку з полум'я та сам ледь не загинувши, він полишає все та вирішує піти у паломництво до Єрусалиму у пошуках відповідей на свої запитання. Шлях далекий та складний, сповнений пригод та небезпек. Але Марк впевнений, що там, біля Гробу Господнього, на нього чекає відповідь на найбільшу таємницю.   \n",
              "4                           ONE Mysterious belt in an antique shop in London is a compass to secret caves of the Amalek tribe in Sibiloi, Northern Kenya.\\n\\nFOUR Researchers want to unravel the truth: biologist Dr Martha Watkins, anthropologist Jim Trevor, and archeologists Dr Paul Brando from California, US, and Professor Simiyu from Kenya.\\n\\nTWO Extremist organisations want the truth buried forever: a religious sect and a terror organisation.\\n\\nDeep in the caves of Sibiloi in Turkana, Kenya, is the answer that has evaded researchers for ages: Sibiloi holds secrets of the genesis of humanity.   \n",
              "\n",
              "                                                                                                                                                                                                                 top_genres  \\\n",
              "0  [\" 'Nonfiction'\", \" 'Business & Economics'\", \" 'New Age'\", \" 'Meditation'\", \" 'Personal finance / money management'\", \" 'Religion & Spirituality'\", \" 'Body\", ' mind', \" & spirit'\", \" 'Inspiration & personal growth'\"]   \n",
              "1                                                                  [\" 'Nonfiction'\", \" 'Inspiration'\", \" 'General self-help'\", \" 'Self-improvement'\", \" 'Anxieties & Phobias'\", \"['Nonfiction'\", \" 'Anxieties & Phobias']\"]   \n",
              "2                                                                                                          [\" 'Business & Economics'\", \" 'Nonfiction'\", \" 'Starting up'\", \" 'Budgeting'\", \"['Nonfiction'\", \" 'Budgeting']\"]   \n",
              "3                                                                                                                                     [\" 'Adventure'\", \" 'Fiction'\", \" 'General'\", \" 'Travel'\", \"['Fiction'\", \" 'Travel']\"]   \n",
              "4                                                                                                                       [\" 'Fiction'\", \" 'Adventure'\", \" 'Science fiction'\", \" 'High tech'\", \"['Fiction'\", \" 'High tech']\"]   \n",
              "\n",
              "                                                                                                                        colors  \n",
              "0  ['firebrick', 'mediumseagreen', 'darkviolet', 'magenta', 'mediumblue', 'limegreen', 'seagreen', 'tomato', 'blue', 'silver']  \n",
              "1                                       ['firebrick', 'teal', 'mediumslateblue', 'darkturquoise', 'salmon', 'blue', 'crimson']  \n",
              "2                                                         ['mediumseagreen', 'firebrick', 'cyan', 'teal', 'blue', 'slategrey']  \n",
              "3                                                      ['salmon', 'slategrey', 'gold', 'darkviolet', 'cadetblue', 'indianred']  \n",
              "4                                                   ['slategrey', 'salmon', 'saddlebrown', 'salmon', 'cadetblue', 'firebrick']  "
            ],
            "text/html": [
              "\n",
              "\n",
              "  <div id=\"df-5fc11360-9962-479a-bcdb-ba10221f26ad\">\n",
              "    <div class=\"colab-df-container\">\n",
              "      <div>\n",
              "<style scoped>\n",
              "    .dataframe tbody tr th:only-of-type {\n",
              "        vertical-align: middle;\n",
              "    }\n",
              "\n",
              "    .dataframe tbody tr th {\n",
              "        vertical-align: top;\n",
              "    }\n",
              "\n",
              "    .dataframe thead th {\n",
              "        text-align: right;\n",
              "    }\n",
              "</style>\n",
              "<table border=\"1\" class=\"dataframe\">\n",
              "  <thead>\n",
              "    <tr style=\"text-align: right;\">\n",
              "      <th></th>\n",
              "      <th>title</th>\n",
              "      <th>description</th>\n",
              "      <th>top_genres</th>\n",
              "      <th>colors</th>\n",
              "    </tr>\n",
              "  </thead>\n",
              "  <tbody>\n",
              "    <tr>\n",
              "      <th>0</th>\n",
              "      <td>Awakening Your Money Chakras Secrets to Attracting Wealth and Success</td>\n",
              "      <td>Welcome to our enlightening guide on \"Awakening Your Money Chakras: Secrets to Attracting Wealth and Success.\" If you've ever wondered how some people effortlessly attract abundance into their lives while others struggle, this book has the answers you seek!\\n\\nIn this empowering read, we delve into the fascinating world of chakras, the energy centers within us that influence our financial well-being. From the Root Chakra to the Crown Chakra, we explore how each one impacts our money mindset and ability to manifest prosperity.\\n\\nLearn how to identify blockages and imbalances that may have ...</td>\n",
              "      <td>[\" 'Nonfiction'\", \" 'Business &amp; Economics'\", \" 'New Age'\", \" 'Meditation'\", \" 'Personal finance / money management'\", \" 'Religion &amp; Spirituality'\", \" 'Body\", ' mind', \" &amp; spirit'\", \" 'Inspiration &amp; personal growth'\"]</td>\n",
              "      <td>['firebrick', 'mediumseagreen', 'darkviolet', 'magenta', 'mediumblue', 'limegreen', 'seagreen', 'tomato', 'blue', 'silver']</td>\n",
              "    </tr>\n",
              "    <tr>\n",
              "      <th>1</th>\n",
              "      <td>Emotions A to Z</td>\n",
              "      <td>\"The Empathy Weave: Embracing Emotional Intelligence for Meaningful Connections\" is a captivating and transformative exploration of emotional intelligence and empathy—a tapestry of understanding and compassion that weaves hearts together with profound human connections. In this enlightening book, readers embark on a journey of self-discovery and growth, unlocking the power of emotional intelligence to enhance personal relationships, professional success, and overall well-being.\\n\\nDrawing upon the rich tapestry of emotional intelligence, this book delves deep into the intricacies of self-a...</td>\n",
              "      <td>[\" 'Nonfiction'\", \" 'Inspiration'\", \" 'General self-help'\", \" 'Self-improvement'\", \" 'Anxieties &amp; Phobias'\", \"['Nonfiction'\", \" 'Anxieties &amp; Phobias']\"]</td>\n",
              "      <td>['firebrick', 'teal', 'mediumslateblue', 'darkturquoise', 'salmon', 'blue', 'crimson']</td>\n",
              "    </tr>\n",
              "    <tr>\n",
              "      <th>2</th>\n",
              "      <td>The Art of Raise Capital for a New Venture</td>\n",
              "      <td>\"The Art of Raise Capital for Your New Venture\" is a practical and insightful guide that equips entrepreneurs with the knowledge and strategies needed to secure capital for their startup ventures. Authored with the understanding of the challenges faced by startup founders, this book serves as a valuable resource for aspiring entrepreneurs and seasoned founders alike.\\n\\nAt the core of successful fundraising lies the art of visionary storytelling. The book emphasizes the importance of articulating a powerful vision that resonates with potential investors. Through effective communication, en...</td>\n",
              "      <td>[\" 'Business &amp; Economics'\", \" 'Nonfiction'\", \" 'Starting up'\", \" 'Budgeting'\", \"['Nonfiction'\", \" 'Budgeting']\"]</td>\n",
              "      <td>['mediumseagreen', 'firebrick', 'cyan', 'teal', 'blue', 'slategrey']</td>\n",
              "    </tr>\n",
              "    <tr>\n",
              "      <th>3</th>\n",
              "      <td>райдуга навколо сонця</td>\n",
              "      <td>Життя заможного бізнесмена Марка можна побачити лише у казках: квартири, дорогі автомобілі, красива дівчина. Проте одна подія змінює Марка: врятувавши дівчинку з полум'я та сам ледь не загинувши, він полишає все та вирішує піти у паломництво до Єрусалиму у пошуках відповідей на свої запитання. Шлях далекий та складний, сповнений пригод та небезпек. Але Марк впевнений, що там, біля Гробу Господнього, на нього чекає відповідь на найбільшу таємницю.</td>\n",
              "      <td>[\" 'Adventure'\", \" 'Fiction'\", \" 'General'\", \" 'Travel'\", \"['Fiction'\", \" 'Travel']\"]</td>\n",
              "      <td>['salmon', 'slategrey', 'gold', 'darkviolet', 'cadetblue', 'indianred']</td>\n",
              "    </tr>\n",
              "    <tr>\n",
              "      <th>4</th>\n",
              "      <td>Sibiloi: The Genesis of Humanity?</td>\n",
              "      <td>ONE Mysterious belt in an antique shop in London is a compass to secret caves of the Amalek tribe in Sibiloi, Northern Kenya.\\n\\nFOUR Researchers want to unravel the truth: biologist Dr Martha Watkins, anthropologist Jim Trevor, and archeologists Dr Paul Brando from California, US, and Professor Simiyu from Kenya.\\n\\nTWO Extremist organisations want the truth buried forever: a religious sect and a terror organisation.\\n\\nDeep in the caves of Sibiloi in Turkana, Kenya, is the answer that has evaded researchers for ages: Sibiloi holds secrets of the genesis of humanity.</td>\n",
              "      <td>[\" 'Fiction'\", \" 'Adventure'\", \" 'Science fiction'\", \" 'High tech'\", \"['Fiction'\", \" 'High tech']\"]</td>\n",
              "      <td>['slategrey', 'salmon', 'saddlebrown', 'salmon', 'cadetblue', 'firebrick']</td>\n",
              "    </tr>\n",
              "  </tbody>\n",
              "</table>\n",
              "</div>\n",
              "      <button class=\"colab-df-convert\" onclick=\"convertToInteractive('df-5fc11360-9962-479a-bcdb-ba10221f26ad')\"\n",
              "              title=\"Convert this dataframe to an interactive table.\"\n",
              "              style=\"display:none;\">\n",
              "\n",
              "  <svg xmlns=\"http://www.w3.org/2000/svg\" height=\"24px\"viewBox=\"0 0 24 24\"\n",
              "       width=\"24px\">\n",
              "    <path d=\"M0 0h24v24H0V0z\" fill=\"none\"/>\n",
              "    <path d=\"M18.56 5.44l.94 2.06.94-2.06 2.06-.94-2.06-.94-.94-2.06-.94 2.06-2.06.94zm-11 1L8.5 8.5l.94-2.06 2.06-.94-2.06-.94L8.5 2.5l-.94 2.06-2.06.94zm10 10l.94 2.06.94-2.06 2.06-.94-2.06-.94-.94-2.06-.94 2.06-2.06.94z\"/><path d=\"M17.41 7.96l-1.37-1.37c-.4-.4-.92-.59-1.43-.59-.52 0-1.04.2-1.43.59L10.3 9.45l-7.72 7.72c-.78.78-.78 2.05 0 2.83L4 21.41c.39.39.9.59 1.41.59.51 0 1.02-.2 1.41-.59l7.78-7.78 2.81-2.81c.8-.78.8-2.07 0-2.86zM5.41 20L4 18.59l7.72-7.72 1.47 1.35L5.41 20z\"/>\n",
              "  </svg>\n",
              "      </button>\n",
              "\n",
              "\n",
              "\n",
              "    <div id=\"df-0fc4cb18-b069-48a6-851d-20137a3d06d8\">\n",
              "      <button class=\"colab-df-quickchart\" onclick=\"quickchart('df-0fc4cb18-b069-48a6-851d-20137a3d06d8')\"\n",
              "              title=\"Suggest charts.\"\n",
              "              style=\"display:none;\">\n",
              "\n",
              "<svg xmlns=\"http://www.w3.org/2000/svg\" height=\"24px\"viewBox=\"0 0 24 24\"\n",
              "     width=\"24px\">\n",
              "    <g>\n",
              "        <path d=\"M19 3H5c-1.1 0-2 .9-2 2v14c0 1.1.9 2 2 2h14c1.1 0 2-.9 2-2V5c0-1.1-.9-2-2-2zM9 17H7v-7h2v7zm4 0h-2V7h2v10zm4 0h-2v-4h2v4z\"/>\n",
              "    </g>\n",
              "</svg>\n",
              "      </button>\n",
              "    </div>\n",
              "\n",
              "<style>\n",
              "  .colab-df-quickchart {\n",
              "    background-color: #E8F0FE;\n",
              "    border: none;\n",
              "    border-radius: 50%;\n",
              "    cursor: pointer;\n",
              "    display: none;\n",
              "    fill: #1967D2;\n",
              "    height: 32px;\n",
              "    padding: 0 0 0 0;\n",
              "    width: 32px;\n",
              "  }\n",
              "\n",
              "  .colab-df-quickchart:hover {\n",
              "    background-color: #E2EBFA;\n",
              "    box-shadow: 0px 1px 2px rgba(60, 64, 67, 0.3), 0px 1px 3px 1px rgba(60, 64, 67, 0.15);\n",
              "    fill: #174EA6;\n",
              "  }\n",
              "\n",
              "  [theme=dark] .colab-df-quickchart {\n",
              "    background-color: #3B4455;\n",
              "    fill: #D2E3FC;\n",
              "  }\n",
              "\n",
              "  [theme=dark] .colab-df-quickchart:hover {\n",
              "    background-color: #434B5C;\n",
              "    box-shadow: 0px 1px 3px 1px rgba(0, 0, 0, 0.15);\n",
              "    filter: drop-shadow(0px 1px 2px rgba(0, 0, 0, 0.3));\n",
              "    fill: #FFFFFF;\n",
              "  }\n",
              "</style>\n",
              "\n",
              "    <script>\n",
              "      async function quickchart(key) {\n",
              "        const containerElement = document.querySelector('#' + key);\n",
              "        const charts = await google.colab.kernel.invokeFunction(\n",
              "            'suggestCharts', [key], {});\n",
              "      }\n",
              "    </script>\n",
              "\n",
              "      <script>\n",
              "\n",
              "function displayQuickchartButton(domScope) {\n",
              "  let quickchartButtonEl =\n",
              "    domScope.querySelector('#df-0fc4cb18-b069-48a6-851d-20137a3d06d8 button.colab-df-quickchart');\n",
              "  quickchartButtonEl.style.display =\n",
              "    google.colab.kernel.accessAllowed ? 'block' : 'none';\n",
              "}\n",
              "\n",
              "        displayQuickchartButton(document);\n",
              "      </script>\n",
              "      <style>\n",
              "    .colab-df-container {\n",
              "      display:flex;\n",
              "      flex-wrap:wrap;\n",
              "      gap: 12px;\n",
              "    }\n",
              "\n",
              "    .colab-df-convert {\n",
              "      background-color: #E8F0FE;\n",
              "      border: none;\n",
              "      border-radius: 50%;\n",
              "      cursor: pointer;\n",
              "      display: none;\n",
              "      fill: #1967D2;\n",
              "      height: 32px;\n",
              "      padding: 0 0 0 0;\n",
              "      width: 32px;\n",
              "    }\n",
              "\n",
              "    .colab-df-convert:hover {\n",
              "      background-color: #E2EBFA;\n",
              "      box-shadow: 0px 1px 2px rgba(60, 64, 67, 0.3), 0px 1px 3px 1px rgba(60, 64, 67, 0.15);\n",
              "      fill: #174EA6;\n",
              "    }\n",
              "\n",
              "    [theme=dark] .colab-df-convert {\n",
              "      background-color: #3B4455;\n",
              "      fill: #D2E3FC;\n",
              "    }\n",
              "\n",
              "    [theme=dark] .colab-df-convert:hover {\n",
              "      background-color: #434B5C;\n",
              "      box-shadow: 0px 1px 3px 1px rgba(0, 0, 0, 0.15);\n",
              "      filter: drop-shadow(0px 1px 2px rgba(0, 0, 0, 0.3));\n",
              "      fill: #FFFFFF;\n",
              "    }\n",
              "  </style>\n",
              "\n",
              "      <script>\n",
              "        const buttonEl =\n",
              "          document.querySelector('#df-5fc11360-9962-479a-bcdb-ba10221f26ad button.colab-df-convert');\n",
              "        buttonEl.style.display =\n",
              "          google.colab.kernel.accessAllowed ? 'block' : 'none';\n",
              "\n",
              "        async function convertToInteractive(key) {\n",
              "          const element = document.querySelector('#df-5fc11360-9962-479a-bcdb-ba10221f26ad');\n",
              "          const dataTable =\n",
              "            await google.colab.kernel.invokeFunction('convertToInteractive',\n",
              "                                                     [key], {});\n",
              "          if (!dataTable) return;\n",
              "\n",
              "          const docLinkHtml = 'Like what you see? Visit the ' +\n",
              "            '<a target=\"_blank\" href=https://colab.research.google.com/notebooks/data_table.ipynb>data table notebook</a>'\n",
              "            + ' to learn more about interactive tables.';\n",
              "          element.innerHTML = '';\n",
              "          dataTable['output_type'] = 'display_data';\n",
              "          await google.colab.output.renderOutput(dataTable, element);\n",
              "          const docLink = document.createElement('div');\n",
              "          docLink.innerHTML = docLinkHtml;\n",
              "          element.appendChild(docLink);\n",
              "        }\n",
              "      </script>\n",
              "    </div>\n",
              "  </div>\n"
            ]
          },
          "metadata": {},
          "execution_count": 39
        }
      ]
    },
    {
      "cell_type": "code",
      "source": [
        "df = df.dropna().reset_index(drop=True)\n",
        "df.shape"
      ],
      "metadata": {
        "colab": {
          "base_uri": "https://localhost:8080/"
        },
        "id": "x2N3pvQZyWVO",
        "outputId": "69f74dd2-098b-4115-aa1e-522b4ac5f347"
      },
      "execution_count": null,
      "outputs": [
        {
          "output_type": "execute_result",
          "data": {
            "text/plain": [
              "(21204, 4)"
            ]
          },
          "metadata": {},
          "execution_count": 40
        }
      ]
    },
    {
      "cell_type": "code",
      "source": [
        "colors_list = df.colors.to_list()\n",
        "color_count = {}\n",
        "for colors in colors_list:\n",
        "  colors_list = eval(colors)\n",
        "  for color in colors_list:\n",
        "    if color in color_count.keys():\n",
        "      color_count[color] += 1\n",
        "    else:\n",
        "      color_count[color] = 1\n",
        "print(f\"Number of colors for different Genres: {len(color_count)}\")\n",
        "print(color_count)\n",
        "\n",
        "threshold = int(len(df) * 0.01)\n",
        "rare_colors = [key for key, value in color_count.items() if value < threshold]\n",
        "len(rare_colors)"
      ],
      "metadata": {
        "colab": {
          "base_uri": "https://localhost:8080/"
        },
        "id": "sbcW-fUlyK02",
        "outputId": "aa4ce7fb-8b63-4465-b802-1773f9fe8f6e"
      },
      "execution_count": null,
      "outputs": [
        {
          "output_type": "stream",
          "name": "stdout",
          "text": [
            "Number of colors for different Genres: 58\n",
            "{'firebrick': 20592, 'mediumseagreen': 3674, 'darkviolet': 3306, 'magenta': 1827, 'mediumblue': 1402, 'limegreen': 4004, 'seagreen': 3068, 'tomato': 1973, 'blue': 14904, 'silver': 1257, 'teal': 1985, 'mediumslateblue': 2084, 'darkturquoise': 2408, 'salmon': 1668, 'crimson': 3066, 'cyan': 2643, 'slategrey': 4392, 'gold': 5111, 'cadetblue': 4252, 'indianred': 1177, 'saddlebrown': 1962, 'orangered': 3508, 'yellow': 5030, 'darkgoldenrod': 3043, 'orange': 915, 'mediumspringgreen': 1599, 'olive': 1505, 'darkorange': 2608, 'lavender': 1873, 'rosybrown': 1853, 'brown': 3034, 'pink': 2404, 'orchid': 1831, 'navy': 2251, 'indigo': 1944, 'royalblue': 2471, 'mediumvioletred': 2116, 'red': 3054, 'steelblue': 2618, 'deeppink': 2620, 'darkkhaki': 3061, 'palevioletred': 1290, 'chocolate': 1534, 'green': 2283, 'slateblue': 1418, 'coral': 1250, 'mediumorchid': 1480, 'turquoise': 1874, 'purple': 3674, 'lime': 2911, 'darkcyan': 1576, 'peru': 2826, 'sienna': 1134, 'deepskyblue': 1251, 'maroon': 2825, 'forestgreen': 1103, 'darkslategray': 1018, 'dodgerblue': 1208}\n"
          ]
        },
        {
          "output_type": "execute_result",
          "data": {
            "text/plain": [
              "0"
            ]
          },
          "metadata": {},
          "execution_count": 41
        }
      ]
    },
    {
      "cell_type": "code",
      "source": [
        "colors_list = df.colors.to_list()\n",
        "revised_color_list = []\n",
        "indices_to_drop = []\n",
        "\n",
        "for idx, colors in enumerate(colors_list):\n",
        "  color_list = eval(colors)\n",
        "  revised_colors = []\n",
        "\n",
        "  for color in color_list:\n",
        "    if color not in rare_colors:\n",
        "      revised_colors.append(color)\n",
        "\n",
        "  if len(revised_colors) == 0:\n",
        "    indices_to_drop.append(idx)\n",
        "  else:\n",
        "    revised_color_list.append(revised_colors)\n",
        "\n",
        "df = df.drop(indices_to_drop).reset_index(drop=True)\n",
        "df['revised_colors'] = revised_color_list\n",
        "df.shape"
      ],
      "metadata": {
        "colab": {
          "base_uri": "https://localhost:8080/"
        },
        "id": "bZ_J5T23yLQM",
        "outputId": "0b04cf81-185f-40c5-9a8a-85a4619c42f8"
      },
      "execution_count": null,
      "outputs": [
        {
          "output_type": "execute_result",
          "data": {
            "text/plain": [
              "(21204, 5)"
            ]
          },
          "metadata": {},
          "execution_count": 42
        }
      ]
    },
    {
      "cell_type": "code",
      "source": [
        "revised_colors_list = df.revised_colors.to_list()\n",
        "revised_color_count = {}\n",
        "for colors in revised_colors_list:\n",
        "  color_list = colors\n",
        "  for color in color_list:\n",
        "    if color in revised_color_count.keys():\n",
        "      revised_color_count[color] += 1\n",
        "    else:\n",
        "      revised_color_count[color] = 1\n",
        "print(f\"Number of colors for different Genres: {len(revised_color_count)}\")"
      ],
      "metadata": {
        "colab": {
          "base_uri": "https://localhost:8080/"
        },
        "id": "HxYdpV_GydOR",
        "outputId": "a89db652-6336-4b9b-80f6-d2bdfd692e39"
      },
      "execution_count": null,
      "outputs": [
        {
          "output_type": "stream",
          "name": "stdout",
          "text": [
            "Number of colors for different Genres: 58\n"
          ]
        }
      ]
    },
    {
      "cell_type": "code",
      "source": [
        "encode_color_types = { key: idx for idx, (key, value) in enumerate(revised_color_count.items())}\n",
        "with open(\"color_types_encoded.json\", \"w\") as fp:\n",
        "  json.dump(encode_color_types, fp)\n",
        "\n",
        "# We need this because for multilabel classification all genres have possibility to be present in the predictions\n",
        "categorical_color_list = []\n",
        "revised_colors_list = df.revised_colors.to_list()\n",
        "\n",
        "for revised_colors in revised_colors_list:\n",
        "  categorical_list = [0] * len(encode_color_types)\n",
        "  for color in revised_colors:\n",
        "    color_type_index = encode_color_types[color]\n",
        "    categorical_list[color_type_index] = 1\n",
        "  categorical_color_list.append(categorical_list)\n",
        "\n",
        "df['color_cat_list'] = categorical_color_list\n",
        "df.shape"
      ],
      "metadata": {
        "colab": {
          "base_uri": "https://localhost:8080/"
        },
        "id": "emcfDKz2yfQg",
        "outputId": "7484af72-5af4-415c-c963-e8ee30dc4faf"
      },
      "execution_count": null,
      "outputs": [
        {
          "output_type": "execute_result",
          "data": {
            "text/plain": [
              "(21204, 6)"
            ]
          },
          "metadata": {},
          "execution_count": 44
        }
      ]
    },
    {
      "cell_type": "code",
      "source": [
        "labels = list(encode_color_types.keys())\n",
        "len(labels), labels[:5]"
      ],
      "metadata": {
        "colab": {
          "base_uri": "https://localhost:8080/"
        },
        "id": "mqozxSKSymTR",
        "outputId": "13a14561-01bb-41ce-8569-173f07e56fea"
      },
      "execution_count": null,
      "outputs": [
        {
          "output_type": "execute_result",
          "data": {
            "text/plain": [
              "(58, ['firebrick', 'mediumseagreen', 'darkviolet', 'magenta', 'mediumblue'])"
            ]
          },
          "metadata": {},
          "execution_count": 45
        }
      ]
    },
    {
      "cell_type": "markdown",
      "source": [
        "# Data Split"
      ],
      "metadata": {
        "id": "6UIk-nebzjp3"
      }
    },
    {
      "cell_type": "code",
      "source": [
        "splitter = RandomSplitter(valid_pct=0.1, seed=42)\n",
        "train_ids, valid_ids = splitter(df)\n",
        "len(train_ids), len(valid_ids)"
      ],
      "metadata": {
        "colab": {
          "base_uri": "https://localhost:8080/"
        },
        "id": "zlCDrzRN0BLn",
        "outputId": "6430048e-17b1-44cd-e694-7ec6bf820cf1"
      },
      "execution_count": null,
      "outputs": [
        {
          "output_type": "execute_result",
          "data": {
            "text/plain": [
              "(19084, 2120)"
            ]
          },
          "metadata": {},
          "execution_count": 46
        }
      ]
    },
    {
      "cell_type": "code",
      "source": [
        "valid_df = df.loc[valid_ids]\n",
        "valid_df.head()"
      ],
      "metadata": {
        "colab": {
          "base_uri": "https://localhost:8080/",
          "height": 927
        },
        "id": "ONSE-r4UEiWD",
        "outputId": "e731f36e-5f20-4ba7-ed2f-563baab46845"
      },
      "execution_count": null,
      "outputs": [
        {
          "output_type": "execute_result",
          "data": {
            "text/plain": [
              "                                                                    title  \\\n",
              "17286                                          भारतीय स्मारकों का संरक्षण   \n",
              "815            Sous Vide Cookbook: 575 Best Sous Vide Recipes of All Time   \n",
              "14900                                                               Vapor   \n",
              "17257  Ultimate Guide to Understanding Soft Skills for Interior Designers   \n",
              "14830                                            Hush, I Know Your Secret   \n",
              "\n",
              "                                                                                                                                                                                                                                                                                                                                                                                                                                                                                                                                                                                                                   description  \\\n",
              "17286  भारत का इतिहास समृद्ध और संरक्षण के योग्य है। भारत में मंदिरों, मस्जिदों, मकबरों, प्राचीन शहर के खंडहरों, महलों और अन्य स्मारकों की संख्या चौंका देने वाली है। आज भी पुरातत्वविदों को नए-नए स्थानों पर महान स्मारकों के अवशेष मिल रहे हैं।\\n\\nदुख की बात है कि विभिन्न कारकों जैसे विकास, क्षरण आदि ने हमारी प्राचीन विरासत को नुकसान पहुंचाया है और अभी भी नुकसान पहुंचा रहे हैं। शहरों का अनियोजित विस्तार, नई सड़कों और शॉपिंग मॉल और रिहायशी इलाकों का निर्माण, अप्रतिबंधित पर्यटन, ये सब अक्सर हमारी पुरातत्व विरासत को नुकसान पहुंचाते हैं।\\n\\nइस पुस्तक में हम पाठकों को प्राचीन इमारतों और स्मारकों के संरक्...   \n",
              "815    The only sous vide cookbook you will ever need!\\n\\nThe best part of Sous Vide, you ask?\\n\\nRegardless of the level of your experience, you will be able to prepare the \"Perfect\" meal every single time.\\n\\nNow, this might sound a little bit difficult to believe at first, but it's actually true.\\n\\nBefore exploring the more than 500 amazing recipes in this book, I would ask you to walk through this in-depth introductory chapter that will introduce you to the basics of Sous Vide cooking and help you master the art.\\n\\nThis book is targeted toward amateurs and new chefs alike, so everything is ...   \n",
              "14900                                                                                                                                                                                                                                                                                                                                                                                            After Cindy's husband admits a painful secret, she discovers a satisfying way to make her presence known. Although it is mostly out of her control, she uses it to its full advantage, almost as good as having X-Ray vision!   \n",
              "17257  Interior designers like any other professionals require a lot of qualities to become successful in their careers. Soft skills like communication, time management, critical thinking, etc. play a vital role in their professional progress. This is a perfect ebook with comprehensive guidelines as to how to be great in soft skills, which are also known as emotional intelligence. This ebook is important for interior design students and professionals alike as it can help enhance professional success. The handbook covers a variety of topics that can help you improve your professional personality.\\...   \n",
              "14830                                                                                                                                                                                                                                                                                                                                                                                 9 Authors telling their secrets and crossing lines to cover up all the crimes and evil people do.\\nPete Thron, S. M. Revolinski, Yvonne Mason, Cree Nations, Allison Cosgrove, Rayne Cross, Allie Harrison, DarkAngel and Candace Dowds.   \n",
              "\n",
              "                                                                                                                                                                                                                            top_genres  \\\n",
              "17286                            [\" 'Art\", ' Architecture', \" Photography'\", \" 'Architecture'\", \" 'Historic preservation'\", \" 'Nonfiction'\", \" 'General'\", \" 'Restoration techniques'\", \"['Nonfiction'\", \" 'Restoration techniques']\"]   \n",
              "815    [\" 'Cooking\", ' Food', ' Wine', \" Spirits'\", \" 'Nonfiction'\", \" 'Vegetarian & Vegan'\", \" 'Specific Ingredients / Meat'\", \" 'Specific Ingredients / Poultry'\", \" 'Methods / Professional'\", \" 'Specific ingredients / seafood'\"]   \n",
              "14900                                                                                                                     [\" 'Fiction'\", \" 'Horror'\", \" 'Ghost'\", \" 'Fantasy'\", \" 'Short stories'\", \"['Fiction'\", \" 'Short stories']\"]   \n",
              "17257                                   [\" 'Nonfiction'\", \" 'Art\", ' Architecture', \" Photography'\", \" 'Architecture'\", \" 'Home & Garden'\", \" 'Interior decorating'\", \" 'General'\", \" 'Study & teaching'\", \" 'Professional practice'\"]   \n",
              "14830                                         [\" 'Fiction'\", \" 'Thriller & suspense'\", \" 'General'\", \" 'Action & suspense'\", \" 'Psychological thriller'\", \" 'Themes & motifs'\", \" 'Technological'\", \"['Fiction'\", \" 'Technological']\"]   \n",
              "\n",
              "                                                                                                                                colors  \\\n",
              "17286                           ['gold', 'darkkhaki', 'deeppink', 'seagreen', 'purple', 'firebrick', 'gold', 'cyan', 'blue', 'salmon']   \n",
              "815    ['maroon', 'steelblue', 'limegreen', 'darkorange', 'firebrick', 'crimson', 'mediumseagreen', 'peru', 'purple', 'palevioletred']   \n",
              "14900                                     ['slategrey', 'rosybrown', 'crimson', 'navy', 'mediumseagreen', 'cadetblue', 'mediumorchid']   \n",
              "17257             ['firebrick', 'gold', 'darkkhaki', 'deeppink', 'seagreen', 'green', 'lavender', 'gold', 'seagreen', 'darkturquoise']   \n",
              "14830           ['slategrey', 'crimson', 'gold', 'purple', 'slateblue', 'mediumblue', 'mediumseagreen', 'cadetblue', 'mediumseagreen']   \n",
              "\n",
              "                                                                                                    revised_colors  \\\n",
              "17286                           [gold, darkkhaki, deeppink, seagreen, purple, firebrick, gold, cyan, blue, salmon]   \n",
              "815    [maroon, steelblue, limegreen, darkorange, firebrick, crimson, mediumseagreen, peru, purple, palevioletred]   \n",
              "14900                               [slategrey, rosybrown, crimson, navy, mediumseagreen, cadetblue, mediumorchid]   \n",
              "17257             [firebrick, gold, darkkhaki, deeppink, seagreen, green, lavender, gold, seagreen, darkturquoise]   \n",
              "14830         [slategrey, crimson, gold, purple, slateblue, mediumblue, mediumseagreen, cadetblue, mediumseagreen]   \n",
              "\n",
              "                                                                                                                                                                       color_cat_list  \n",
              "17286  [1, 0, 0, 0, 0, 0, 1, 0, 1, 0, 0, 0, 0, 1, 0, 1, 0, 1, 0, 0, 0, 0, 0, 0, 0, 0, 0, 0, 0, 0, 0, 0, 0, 0, 0, 0, 0, 0, 0, 1, 1, 0, 0, 0, 0, 0, 0, 0, 1, 0, 0, 0, 0, 0, 0, 0, 0, 0]  \n",
              "815    [1, 1, 0, 0, 0, 1, 0, 0, 0, 0, 0, 0, 0, 0, 1, 0, 0, 0, 0, 0, 0, 0, 0, 0, 0, 0, 0, 1, 0, 0, 0, 0, 0, 0, 0, 0, 0, 0, 1, 0, 0, 1, 0, 0, 0, 0, 0, 0, 1, 0, 0, 1, 0, 0, 1, 0, 0, 0]  \n",
              "14900  [0, 1, 0, 0, 0, 0, 0, 0, 0, 0, 0, 0, 0, 0, 1, 0, 1, 0, 1, 0, 0, 0, 0, 0, 0, 0, 0, 0, 0, 1, 0, 0, 0, 1, 0, 0, 0, 0, 0, 0, 0, 0, 0, 0, 0, 0, 1, 0, 0, 0, 0, 0, 0, 0, 0, 0, 0, 0]  \n",
              "17257  [1, 0, 0, 0, 0, 0, 1, 0, 0, 0, 0, 0, 1, 0, 0, 0, 0, 1, 0, 0, 0, 0, 0, 0, 0, 0, 0, 0, 1, 0, 0, 0, 0, 0, 0, 0, 0, 0, 0, 1, 1, 0, 0, 1, 0, 0, 0, 0, 0, 0, 0, 0, 0, 0, 0, 0, 0, 0]  \n",
              "14830  [0, 1, 0, 0, 1, 0, 0, 0, 0, 0, 0, 0, 0, 0, 1, 0, 1, 1, 1, 0, 0, 0, 0, 0, 0, 0, 0, 0, 0, 0, 0, 0, 0, 0, 0, 0, 0, 0, 0, 0, 0, 0, 0, 0, 1, 0, 0, 0, 1, 0, 0, 0, 0, 0, 0, 0, 0, 0]  "
            ],
            "text/html": [
              "\n",
              "\n",
              "  <div id=\"df-ad143c96-e7f1-42c6-874d-6be514863e15\">\n",
              "    <div class=\"colab-df-container\">\n",
              "      <div>\n",
              "<style scoped>\n",
              "    .dataframe tbody tr th:only-of-type {\n",
              "        vertical-align: middle;\n",
              "    }\n",
              "\n",
              "    .dataframe tbody tr th {\n",
              "        vertical-align: top;\n",
              "    }\n",
              "\n",
              "    .dataframe thead th {\n",
              "        text-align: right;\n",
              "    }\n",
              "</style>\n",
              "<table border=\"1\" class=\"dataframe\">\n",
              "  <thead>\n",
              "    <tr style=\"text-align: right;\">\n",
              "      <th></th>\n",
              "      <th>title</th>\n",
              "      <th>description</th>\n",
              "      <th>top_genres</th>\n",
              "      <th>colors</th>\n",
              "      <th>revised_colors</th>\n",
              "      <th>color_cat_list</th>\n",
              "    </tr>\n",
              "  </thead>\n",
              "  <tbody>\n",
              "    <tr>\n",
              "      <th>17286</th>\n",
              "      <td>भारतीय स्मारकों का संरक्षण</td>\n",
              "      <td>भारत का इतिहास समृद्ध और संरक्षण के योग्य है। भारत में मंदिरों, मस्जिदों, मकबरों, प्राचीन शहर के खंडहरों, महलों और अन्य स्मारकों की संख्या चौंका देने वाली है। आज भी पुरातत्वविदों को नए-नए स्थानों पर महान स्मारकों के अवशेष मिल रहे हैं।\\n\\nदुख की बात है कि विभिन्न कारकों जैसे विकास, क्षरण आदि ने हमारी प्राचीन विरासत को नुकसान पहुंचाया है और अभी भी नुकसान पहुंचा रहे हैं। शहरों का अनियोजित विस्तार, नई सड़कों और शॉपिंग मॉल और रिहायशी इलाकों का निर्माण, अप्रतिबंधित पर्यटन, ये सब अक्सर हमारी पुरातत्व विरासत को नुकसान पहुंचाते हैं।\\n\\nइस पुस्तक में हम पाठकों को प्राचीन इमारतों और स्मारकों के संरक्...</td>\n",
              "      <td>[\" 'Art\", ' Architecture', \" Photography'\", \" 'Architecture'\", \" 'Historic preservation'\", \" 'Nonfiction'\", \" 'General'\", \" 'Restoration techniques'\", \"['Nonfiction'\", \" 'Restoration techniques']\"]</td>\n",
              "      <td>['gold', 'darkkhaki', 'deeppink', 'seagreen', 'purple', 'firebrick', 'gold', 'cyan', 'blue', 'salmon']</td>\n",
              "      <td>[gold, darkkhaki, deeppink, seagreen, purple, firebrick, gold, cyan, blue, salmon]</td>\n",
              "      <td>[1, 0, 0, 0, 0, 0, 1, 0, 1, 0, 0, 0, 0, 1, 0, 1, 0, 1, 0, 0, 0, 0, 0, 0, 0, 0, 0, 0, 0, 0, 0, 0, 0, 0, 0, 0, 0, 0, 0, 1, 1, 0, 0, 0, 0, 0, 0, 0, 1, 0, 0, 0, 0, 0, 0, 0, 0, 0]</td>\n",
              "    </tr>\n",
              "    <tr>\n",
              "      <th>815</th>\n",
              "      <td>Sous Vide Cookbook: 575 Best Sous Vide Recipes of All Time</td>\n",
              "      <td>The only sous vide cookbook you will ever need!\\n\\nThe best part of Sous Vide, you ask?\\n\\nRegardless of the level of your experience, you will be able to prepare the \"Perfect\" meal every single time.\\n\\nNow, this might sound a little bit difficult to believe at first, but it's actually true.\\n\\nBefore exploring the more than 500 amazing recipes in this book, I would ask you to walk through this in-depth introductory chapter that will introduce you to the basics of Sous Vide cooking and help you master the art.\\n\\nThis book is targeted toward amateurs and new chefs alike, so everything is ...</td>\n",
              "      <td>[\" 'Cooking\", ' Food', ' Wine', \" Spirits'\", \" 'Nonfiction'\", \" 'Vegetarian &amp; Vegan'\", \" 'Specific Ingredients / Meat'\", \" 'Specific Ingredients / Poultry'\", \" 'Methods / Professional'\", \" 'Specific ingredients / seafood'\"]</td>\n",
              "      <td>['maroon', 'steelblue', 'limegreen', 'darkorange', 'firebrick', 'crimson', 'mediumseagreen', 'peru', 'purple', 'palevioletred']</td>\n",
              "      <td>[maroon, steelblue, limegreen, darkorange, firebrick, crimson, mediumseagreen, peru, purple, palevioletred]</td>\n",
              "      <td>[1, 1, 0, 0, 0, 1, 0, 0, 0, 0, 0, 0, 0, 0, 1, 0, 0, 0, 0, 0, 0, 0, 0, 0, 0, 0, 0, 1, 0, 0, 0, 0, 0, 0, 0, 0, 0, 0, 1, 0, 0, 1, 0, 0, 0, 0, 0, 0, 1, 0, 0, 1, 0, 0, 1, 0, 0, 0]</td>\n",
              "    </tr>\n",
              "    <tr>\n",
              "      <th>14900</th>\n",
              "      <td>Vapor</td>\n",
              "      <td>After Cindy's husband admits a painful secret, she discovers a satisfying way to make her presence known. Although it is mostly out of her control, she uses it to its full advantage, almost as good as having X-Ray vision!</td>\n",
              "      <td>[\" 'Fiction'\", \" 'Horror'\", \" 'Ghost'\", \" 'Fantasy'\", \" 'Short stories'\", \"['Fiction'\", \" 'Short stories']\"]</td>\n",
              "      <td>['slategrey', 'rosybrown', 'crimson', 'navy', 'mediumseagreen', 'cadetblue', 'mediumorchid']</td>\n",
              "      <td>[slategrey, rosybrown, crimson, navy, mediumseagreen, cadetblue, mediumorchid]</td>\n",
              "      <td>[0, 1, 0, 0, 0, 0, 0, 0, 0, 0, 0, 0, 0, 0, 1, 0, 1, 0, 1, 0, 0, 0, 0, 0, 0, 0, 0, 0, 0, 1, 0, 0, 0, 1, 0, 0, 0, 0, 0, 0, 0, 0, 0, 0, 0, 0, 1, 0, 0, 0, 0, 0, 0, 0, 0, 0, 0, 0]</td>\n",
              "    </tr>\n",
              "    <tr>\n",
              "      <th>17257</th>\n",
              "      <td>Ultimate Guide to Understanding Soft Skills for Interior Designers</td>\n",
              "      <td>Interior designers like any other professionals require a lot of qualities to become successful in their careers. Soft skills like communication, time management, critical thinking, etc. play a vital role in their professional progress. This is a perfect ebook with comprehensive guidelines as to how to be great in soft skills, which are also known as emotional intelligence. This ebook is important for interior design students and professionals alike as it can help enhance professional success. The handbook covers a variety of topics that can help you improve your professional personality.\\...</td>\n",
              "      <td>[\" 'Nonfiction'\", \" 'Art\", ' Architecture', \" Photography'\", \" 'Architecture'\", \" 'Home &amp; Garden'\", \" 'Interior decorating'\", \" 'General'\", \" 'Study &amp; teaching'\", \" 'Professional practice'\"]</td>\n",
              "      <td>['firebrick', 'gold', 'darkkhaki', 'deeppink', 'seagreen', 'green', 'lavender', 'gold', 'seagreen', 'darkturquoise']</td>\n",
              "      <td>[firebrick, gold, darkkhaki, deeppink, seagreen, green, lavender, gold, seagreen, darkturquoise]</td>\n",
              "      <td>[1, 0, 0, 0, 0, 0, 1, 0, 0, 0, 0, 0, 1, 0, 0, 0, 0, 1, 0, 0, 0, 0, 0, 0, 0, 0, 0, 0, 1, 0, 0, 0, 0, 0, 0, 0, 0, 0, 0, 1, 1, 0, 0, 1, 0, 0, 0, 0, 0, 0, 0, 0, 0, 0, 0, 0, 0, 0]</td>\n",
              "    </tr>\n",
              "    <tr>\n",
              "      <th>14830</th>\n",
              "      <td>Hush, I Know Your Secret</td>\n",
              "      <td>9 Authors telling their secrets and crossing lines to cover up all the crimes and evil people do.\\nPete Thron, S. M. Revolinski, Yvonne Mason, Cree Nations, Allison Cosgrove, Rayne Cross, Allie Harrison, DarkAngel and Candace Dowds.</td>\n",
              "      <td>[\" 'Fiction'\", \" 'Thriller &amp; suspense'\", \" 'General'\", \" 'Action &amp; suspense'\", \" 'Psychological thriller'\", \" 'Themes &amp; motifs'\", \" 'Technological'\", \"['Fiction'\", \" 'Technological']\"]</td>\n",
              "      <td>['slategrey', 'crimson', 'gold', 'purple', 'slateblue', 'mediumblue', 'mediumseagreen', 'cadetblue', 'mediumseagreen']</td>\n",
              "      <td>[slategrey, crimson, gold, purple, slateblue, mediumblue, mediumseagreen, cadetblue, mediumseagreen]</td>\n",
              "      <td>[0, 1, 0, 0, 1, 0, 0, 0, 0, 0, 0, 0, 0, 0, 1, 0, 1, 1, 1, 0, 0, 0, 0, 0, 0, 0, 0, 0, 0, 0, 0, 0, 0, 0, 0, 0, 0, 0, 0, 0, 0, 0, 0, 0, 1, 0, 0, 0, 1, 0, 0, 0, 0, 0, 0, 0, 0, 0]</td>\n",
              "    </tr>\n",
              "  </tbody>\n",
              "</table>\n",
              "</div>\n",
              "      <button class=\"colab-df-convert\" onclick=\"convertToInteractive('df-ad143c96-e7f1-42c6-874d-6be514863e15')\"\n",
              "              title=\"Convert this dataframe to an interactive table.\"\n",
              "              style=\"display:none;\">\n",
              "\n",
              "  <svg xmlns=\"http://www.w3.org/2000/svg\" height=\"24px\"viewBox=\"0 0 24 24\"\n",
              "       width=\"24px\">\n",
              "    <path d=\"M0 0h24v24H0V0z\" fill=\"none\"/>\n",
              "    <path d=\"M18.56 5.44l.94 2.06.94-2.06 2.06-.94-2.06-.94-.94-2.06-.94 2.06-2.06.94zm-11 1L8.5 8.5l.94-2.06 2.06-.94-2.06-.94L8.5 2.5l-.94 2.06-2.06.94zm10 10l.94 2.06.94-2.06 2.06-.94-2.06-.94-.94-2.06-.94 2.06-2.06.94z\"/><path d=\"M17.41 7.96l-1.37-1.37c-.4-.4-.92-.59-1.43-.59-.52 0-1.04.2-1.43.59L10.3 9.45l-7.72 7.72c-.78.78-.78 2.05 0 2.83L4 21.41c.39.39.9.59 1.41.59.51 0 1.02-.2 1.41-.59l7.78-7.78 2.81-2.81c.8-.78.8-2.07 0-2.86zM5.41 20L4 18.59l7.72-7.72 1.47 1.35L5.41 20z\"/>\n",
              "  </svg>\n",
              "      </button>\n",
              "\n",
              "\n",
              "\n",
              "    <div id=\"df-c9ced605-e875-4939-afa4-c1852bd1cd40\">\n",
              "      <button class=\"colab-df-quickchart\" onclick=\"quickchart('df-c9ced605-e875-4939-afa4-c1852bd1cd40')\"\n",
              "              title=\"Suggest charts.\"\n",
              "              style=\"display:none;\">\n",
              "\n",
              "<svg xmlns=\"http://www.w3.org/2000/svg\" height=\"24px\"viewBox=\"0 0 24 24\"\n",
              "     width=\"24px\">\n",
              "    <g>\n",
              "        <path d=\"M19 3H5c-1.1 0-2 .9-2 2v14c0 1.1.9 2 2 2h14c1.1 0 2-.9 2-2V5c0-1.1-.9-2-2-2zM9 17H7v-7h2v7zm4 0h-2V7h2v10zm4 0h-2v-4h2v4z\"/>\n",
              "    </g>\n",
              "</svg>\n",
              "      </button>\n",
              "    </div>\n",
              "\n",
              "<style>\n",
              "  .colab-df-quickchart {\n",
              "    background-color: #E8F0FE;\n",
              "    border: none;\n",
              "    border-radius: 50%;\n",
              "    cursor: pointer;\n",
              "    display: none;\n",
              "    fill: #1967D2;\n",
              "    height: 32px;\n",
              "    padding: 0 0 0 0;\n",
              "    width: 32px;\n",
              "  }\n",
              "\n",
              "  .colab-df-quickchart:hover {\n",
              "    background-color: #E2EBFA;\n",
              "    box-shadow: 0px 1px 2px rgba(60, 64, 67, 0.3), 0px 1px 3px 1px rgba(60, 64, 67, 0.15);\n",
              "    fill: #174EA6;\n",
              "  }\n",
              "\n",
              "  [theme=dark] .colab-df-quickchart {\n",
              "    background-color: #3B4455;\n",
              "    fill: #D2E3FC;\n",
              "  }\n",
              "\n",
              "  [theme=dark] .colab-df-quickchart:hover {\n",
              "    background-color: #434B5C;\n",
              "    box-shadow: 0px 1px 3px 1px rgba(0, 0, 0, 0.15);\n",
              "    filter: drop-shadow(0px 1px 2px rgba(0, 0, 0, 0.3));\n",
              "    fill: #FFFFFF;\n",
              "  }\n",
              "</style>\n",
              "\n",
              "    <script>\n",
              "      async function quickchart(key) {\n",
              "        const containerElement = document.querySelector('#' + key);\n",
              "        const charts = await google.colab.kernel.invokeFunction(\n",
              "            'suggestCharts', [key], {});\n",
              "      }\n",
              "    </script>\n",
              "\n",
              "      <script>\n",
              "\n",
              "function displayQuickchartButton(domScope) {\n",
              "  let quickchartButtonEl =\n",
              "    domScope.querySelector('#df-c9ced605-e875-4939-afa4-c1852bd1cd40 button.colab-df-quickchart');\n",
              "  quickchartButtonEl.style.display =\n",
              "    google.colab.kernel.accessAllowed ? 'block' : 'none';\n",
              "}\n",
              "\n",
              "        displayQuickchartButton(document);\n",
              "      </script>\n",
              "      <style>\n",
              "    .colab-df-container {\n",
              "      display:flex;\n",
              "      flex-wrap:wrap;\n",
              "      gap: 12px;\n",
              "    }\n",
              "\n",
              "    .colab-df-convert {\n",
              "      background-color: #E8F0FE;\n",
              "      border: none;\n",
              "      border-radius: 50%;\n",
              "      cursor: pointer;\n",
              "      display: none;\n",
              "      fill: #1967D2;\n",
              "      height: 32px;\n",
              "      padding: 0 0 0 0;\n",
              "      width: 32px;\n",
              "    }\n",
              "\n",
              "    .colab-df-convert:hover {\n",
              "      background-color: #E2EBFA;\n",
              "      box-shadow: 0px 1px 2px rgba(60, 64, 67, 0.3), 0px 1px 3px 1px rgba(60, 64, 67, 0.15);\n",
              "      fill: #174EA6;\n",
              "    }\n",
              "\n",
              "    [theme=dark] .colab-df-convert {\n",
              "      background-color: #3B4455;\n",
              "      fill: #D2E3FC;\n",
              "    }\n",
              "\n",
              "    [theme=dark] .colab-df-convert:hover {\n",
              "      background-color: #434B5C;\n",
              "      box-shadow: 0px 1px 3px 1px rgba(0, 0, 0, 0.15);\n",
              "      filter: drop-shadow(0px 1px 2px rgba(0, 0, 0, 0.3));\n",
              "      fill: #FFFFFF;\n",
              "    }\n",
              "  </style>\n",
              "\n",
              "      <script>\n",
              "        const buttonEl =\n",
              "          document.querySelector('#df-ad143c96-e7f1-42c6-874d-6be514863e15 button.colab-df-convert');\n",
              "        buttonEl.style.display =\n",
              "          google.colab.kernel.accessAllowed ? 'block' : 'none';\n",
              "\n",
              "        async function convertToInteractive(key) {\n",
              "          const element = document.querySelector('#df-ad143c96-e7f1-42c6-874d-6be514863e15');\n",
              "          const dataTable =\n",
              "            await google.colab.kernel.invokeFunction('convertToInteractive',\n",
              "                                                     [key], {});\n",
              "          if (!dataTable) return;\n",
              "\n",
              "          const docLinkHtml = 'Like what you see? Visit the ' +\n",
              "            '<a target=\"_blank\" href=https://colab.research.google.com/notebooks/data_table.ipynb>data table notebook</a>'\n",
              "            + ' to learn more about interactive tables.';\n",
              "          element.innerHTML = '';\n",
              "          dataTable['output_type'] = 'display_data';\n",
              "          await google.colab.output.renderOutput(dataTable, element);\n",
              "          const docLink = document.createElement('div');\n",
              "          docLink.innerHTML = docLinkHtml;\n",
              "          element.appendChild(docLink);\n",
              "        }\n",
              "      </script>\n",
              "    </div>\n",
              "  </div>\n"
            ]
          },
          "metadata": {},
          "execution_count": 47
        }
      ]
    },
    {
      "cell_type": "markdown",
      "source": [
        "We will be using `valid_df` for all inference testing"
      ],
      "metadata": {
        "id": "wVWpZARu0PPf"
      }
    },
    {
      "cell_type": "markdown",
      "source": [
        "# Fastai & Blurr Inference"
      ],
      "metadata": {
        "id": "k48Mzr8yy97P"
      }
    },
    {
      "cell_type": "code",
      "source": [
        "from google.colab import drive\n",
        "drive.mount('/content/drive')"
      ],
      "metadata": {
        "colab": {
          "base_uri": "https://localhost:8080/"
        },
        "id": "DfghulGCU24g",
        "outputId": "90508384-d074-484e-a3ff-e1a7422bf2ab"
      },
      "execution_count": null,
      "outputs": [
        {
          "output_type": "stream",
          "name": "stdout",
          "text": [
            "Drive already mounted at /content/drive; to attempt to forcibly remount, call drive.mount(\"/content/drive\", force_remount=True).\n"
          ]
        }
      ]
    },
    {
      "cell_type": "code",
      "source": [
        "%cd /content/drive/MyDrive/ml-classifier"
      ],
      "metadata": {
        "colab": {
          "base_uri": "https://localhost:8080/"
        },
        "id": "oAvpsV4DU32c",
        "outputId": "8621ad0f-d92b-442c-8f3b-1f119fc4ed93"
      },
      "execution_count": null,
      "outputs": [
        {
          "output_type": "stream",
          "name": "stdout",
          "text": [
            "/content/drive/MyDrive/ml-classifier\n"
          ]
        }
      ]
    },
    {
      "cell_type": "code",
      "source": [
        "model_path = \"models/rainbow-genre-cover-classifier-stage-01.pkl\"\n",
        "learner_inf = load_learner(model_path)"
      ],
      "metadata": {
        "id": "SWDpv__nzCYX"
      },
      "execution_count": null,
      "outputs": []
    },
    {
      "cell_type": "code",
      "source": [
        "learner_inf.blurr_predict(\"random placeholder\")"
      ],
      "metadata": {
        "id": "5uoheElKzURd",
        "colab": {
          "base_uri": "https://localhost:8080/"
        },
        "outputId": "75ec345d-8ebb-4316-de57-341edca5210b"
      },
      "execution_count": null,
      "outputs": [
        {
          "output_type": "execute_result",
          "data": {
            "text/plain": [
              "[{'labels': ['slategrey', 'cadetblue'],\n",
              "  'scores': [0.9016855359077454, 0.5734331011772156],\n",
              "  'class_indices': [0,\n",
              "   0,\n",
              "   0,\n",
              "   0,\n",
              "   0,\n",
              "   0,\n",
              "   0,\n",
              "   0,\n",
              "   0,\n",
              "   0,\n",
              "   0,\n",
              "   0,\n",
              "   0,\n",
              "   0,\n",
              "   0,\n",
              "   0,\n",
              "   1,\n",
              "   0,\n",
              "   1,\n",
              "   0,\n",
              "   0,\n",
              "   0,\n",
              "   0,\n",
              "   0,\n",
              "   0,\n",
              "   0,\n",
              "   0,\n",
              "   0,\n",
              "   0,\n",
              "   0,\n",
              "   0,\n",
              "   0,\n",
              "   0,\n",
              "   0,\n",
              "   0,\n",
              "   0,\n",
              "   0,\n",
              "   0,\n",
              "   0,\n",
              "   0,\n",
              "   0,\n",
              "   0,\n",
              "   0,\n",
              "   0,\n",
              "   0,\n",
              "   0,\n",
              "   0,\n",
              "   0,\n",
              "   0,\n",
              "   0,\n",
              "   0,\n",
              "   0,\n",
              "   0,\n",
              "   0,\n",
              "   0,\n",
              "   0,\n",
              "   0,\n",
              "   0],\n",
              "  'class_labels': ['firebrick', 'mediumseagreen', 'darkviolet', 'magenta', 'mediumblue', 'limegreen', 'seagreen', 'tomato', 'blue', 'silver', 'teal', 'mediumslateblue', 'darkturquoise', 'salmon', 'crimson', 'cyan', 'slategrey', 'gold', 'cadetblue', 'indianred', 'saddlebrown', 'orangered', 'yellow', 'darkgoldenrod', 'orange', 'mediumspringgreen', 'olive', 'darkorange', 'lavender', 'rosybrown', 'brown', 'pink', 'orchid', 'navy', 'indigo', 'royalblue', 'mediumvioletred', 'red', 'steelblue', 'deeppink', 'darkkhaki', 'palevioletred', 'chocolate', 'green', 'slateblue', 'coral', 'mediumorchid', 'turquoise', 'purple', 'lime', 'darkcyan', 'peru', 'sienna', 'deepskyblue', 'maroon', 'forestgreen', 'darkslategray', 'dodgerblue'],\n",
              "  'probs': [0.3410671651363373,\n",
              "   0.003051363630220294,\n",
              "   0.02590811625123024,\n",
              "   0.08566141128540039,\n",
              "   0.014466088265180588,\n",
              "   0.015294205397367477,\n",
              "   0.042048901319503784,\n",
              "   0.026803316548466682,\n",
              "   0.2752476930618286,\n",
              "   0.013652045279741287,\n",
              "   0.08024025708436966,\n",
              "   0.008234551176428795,\n",
              "   0.03429149091243744,\n",
              "   0.019048012793064117,\n",
              "   0.004476290661841631,\n",
              "   0.09799004346132278,\n",
              "   0.9016855359077454,\n",
              "   0.1196717917919159,\n",
              "   0.5734331011772156,\n",
              "   0.014389806427061558,\n",
              "   0.024361558258533478,\n",
              "   0.009325427934527397,\n",
              "   0.0058279442600905895,\n",
              "   0.051715247333049774,\n",
              "   0.00989655964076519,\n",
              "   0.0067764585837721825,\n",
              "   0.0033024412114173174,\n",
              "   0.00964425876736641,\n",
              "   0.042827919125556946,\n",
              "   0.16967208683490753,\n",
              "   0.01502032671123743,\n",
              "   0.14998912811279297,\n",
              "   0.06392520666122437,\n",
              "   0.01953982375562191,\n",
              "   0.001080868998542428,\n",
              "   0.016247853636741638,\n",
              "   0.24828195571899414,\n",
              "   0.001976632745936513,\n",
              "   0.037388671189546585,\n",
              "   0.017028139904141426,\n",
              "   0.04273771494626999,\n",
              "   0.0008182006422430277,\n",
              "   0.05934715270996094,\n",
              "   0.25681212544441223,\n",
              "   0.06482158601284027,\n",
              "   0.014190766029059887,\n",
              "   0.36083298921585083,\n",
              "   0.0006690290756523609,\n",
              "   0.022902721539139748,\n",
              "   0.020591089501976967,\n",
              "   0.013151127845048904,\n",
              "   0.19078435003757477,\n",
              "   0.023704707622528076,\n",
              "   0.002994213718920946,\n",
              "   0.000979159027338028,\n",
              "   0.02036050520837307,\n",
              "   0.030712885782122612,\n",
              "   0.011350627057254314]}]"
            ]
          },
          "metadata": {},
          "execution_count": 23
        }
      ]
    },
    {
      "cell_type": "code",
      "source": [
        "learner_inf.blurr_predict(\"random placeholder\")[0]['labels']"
      ],
      "metadata": {
        "colab": {
          "base_uri": "https://localhost:8080/"
        },
        "id": "6aMxgtZBCU_S",
        "outputId": "db7010fb-d1ed-4c09-80aa-be70899833a2"
      },
      "execution_count": null,
      "outputs": [
        {
          "output_type": "execute_result",
          "data": {
            "text/plain": [
              "['slategrey', 'cadetblue']"
            ]
          },
          "metadata": {},
          "execution_count": 24
        }
      ]
    },
    {
      "cell_type": "markdown",
      "source": [
        "## Evaluation"
      ],
      "metadata": {
        "id": "QYRg4ExrCi4P"
      }
    },
    {
      "cell_type": "code",
      "source": [
        "from sklearn import metrics\n",
        "\n",
        "def metric_measures(test_df, preds):\n",
        "\n",
        "  targets = [np.asarray(target) for target in test_df['color_cat_list'].to_list()]\n",
        "  outputs = [np.asarray(pred) for pred in preds]\n",
        "\n",
        "\n",
        "  accuracy = metrics.accuracy_score(targets, outputs)\n",
        "  f1_score_micro = metrics.f1_score(targets, outputs, average='micro')\n",
        "  f1_score_macro = metrics.f1_score(targets, outputs, average='macro')\n",
        "\n",
        "  print(f\"F1 Score (Micro) = {f1_score_micro}\")\n",
        "  print(f\"F1 Score (Macro) = {f1_score_macro}\")\n",
        "\n",
        "  return"
      ],
      "metadata": {
        "id": "wzQc7GDWCkbX"
      },
      "execution_count": null,
      "outputs": []
    },
    {
      "cell_type": "code",
      "source": [
        "preds = []\n",
        "for idx, row in tqdm(valid_df.iterrows(), total=len(valid_df)):\n",
        "  desc = row['description']\n",
        "  labels = learner_inf.blurr_predict(desc)[0]['labels']\n",
        "  pred_colors = [0] * len(encode_color_types)\n",
        "  for label in labels:\n",
        "    pred_colors[encode_color_types[label]] = 1\n",
        "  preds.append(pred_colors)\n",
        "\n",
        "preds[0][:20]"
      ],
      "metadata": {
        "colab": {
          "base_uri": "https://localhost:8080/",
          "height": 66,
          "referenced_widgets": [
            "6024e224d12a4963b36af9a658a05afa",
            "62f66dcd79b04e008192481307c4913f",
            "437b13348522412492f5ace6546057d5",
            "cde4ab65dfa84ef3ad7a9b3fc0fc8c75",
            "c477b2666e644a148299d81822372bad",
            "f6c49760f0294db2a519b1aca3213549",
            "3c68969218504af78c5d6965bdaca4c6",
            "0bf58fd181454af4958282905428f46b",
            "2d914d4f9d1148d49eb839ea1b5ee094",
            "ab7d3a7a3f3f4d1ca7e5691dfbda28a0",
            "3ea7da45ec514a01b49e674e4315e974"
          ]
        },
        "id": "c4-5Qmr1C4aA",
        "outputId": "0ffc34ef-dd50-4f5e-d0d9-f53f3074a81f"
      },
      "execution_count": null,
      "outputs": [
        {
          "output_type": "display_data",
          "data": {
            "text/plain": [
              "  0%|          | 0/2120 [00:00<?, ?it/s]"
            ],
            "application/vnd.jupyter.widget-view+json": {
              "version_major": 2,
              "version_minor": 0,
              "model_id": "6024e224d12a4963b36af9a658a05afa"
            }
          },
          "metadata": {}
        },
        {
          "output_type": "execute_result",
          "data": {
            "text/plain": [
              "[1, 0, 0, 0, 0, 0, 0, 0, 1, 0, 0, 0, 0, 0, 0, 0, 0, 0, 0, 0]"
            ]
          },
          "metadata": {},
          "execution_count": 48
        }
      ]
    },
    {
      "cell_type": "code",
      "source": [
        "metric_measures(valid_df, preds)"
      ],
      "metadata": {
        "colab": {
          "base_uri": "https://localhost:8080/"
        },
        "id": "LefQDkZtDu7B",
        "outputId": "d207d2f9-b18a-4125-cb68-521ccc30b2ce"
      },
      "execution_count": null,
      "outputs": [
        {
          "output_type": "stream",
          "name": "stdout",
          "text": [
            "F1 Score (Micro) = 0.7058906228033178\n",
            "F1 Score (Macro) = 0.6126106404508097\n"
          ]
        }
      ]
    },
    {
      "cell_type": "markdown",
      "source": [
        "# Convert to ONNX"
      ],
      "metadata": {
        "id": "OGk37-eOI83k"
      }
    },
    {
      "cell_type": "markdown",
      "source": [
        "### ONNX\n",
        "ONNX (Open Neural Network Exchange) is a open standard for representing machine learning models.\n",
        "- It allows developers to move models between different frameworks (such as PyTorch, TensorFlow, and Caffe2) without losing performance or accuracy.\n",
        "ONNX makes it easier to build and run AI models on a variety of hardware, including GPUs, CPUs, and custom accelerators.\n",
        "- This standard helps eliminate the need for multiple conversion tools and provides a unified representation of the model across different tools and frameworks.\n",
        "- ONNX is being developed by a collaboration of companies including Microsoft, Facebook, Amazon, and IBM, among others, making it a well-supported and widely-adopted standard.\n",
        "- Converting to ONNX runtime often makes model faster."
      ],
      "metadata": {
        "id": "StfZ_qBHKKpJ"
      }
    },
    {
      "cell_type": "code",
      "source": [
        "model_path = \"models/rainbow-genre-cover-classifier-stage-01.pkl\"\n",
        "learner_inf = load_learner(model_path)"
      ],
      "metadata": {
        "id": "m1GEDa3iK6fp"
      },
      "execution_count": null,
      "outputs": []
    },
    {
      "cell_type": "code",
      "source": [
        "classifier = learner_inf.model.hf_model.eval()\n",
        "\n",
        "torch.onnx.export(\n",
        "    classifier,\n",
        "    torch.LongTensor([[0] * 512]),\n",
        "    'models/rainbow-genre-cover-classifier.onnx',\n",
        "    input_names=['input_ids'],\n",
        "    output_names=['output'],\n",
        "    opset_version=13,\n",
        "    dynamic_axes={\n",
        "        'input_ids': {0: 'batch_size', 1: 'sequence_len'},\n",
        "        'output': {0: 'batch_size'}\n",
        "    }\n",
        ")"
      ],
      "metadata": {
        "id": "L70lkPbHJAMP"
      },
      "execution_count": null,
      "outputs": []
    },
    {
      "cell_type": "code",
      "source": [
        "from onnxruntime.quantization import quantize_dynamic, QuantType\n",
        "\n",
        "onnx_model_path = 'models/rainbow-genre-cover-classifier.onnx'\n",
        "quantized_onnx_model_path = 'models/rainbow-genre-cover-classifier-quantized.onnx'\n",
        "\n",
        "quantize_dynamic(\n",
        "    onnx_model_path,\n",
        "    quantized_onnx_model_path,\n",
        "    weight_type=QuantType.QUInt8,\n",
        ")"
      ],
      "metadata": {
        "colab": {
          "base_uri": "https://localhost:8080/"
        },
        "id": "MlCiUB_6LPmO",
        "outputId": "2e11f7d2-c5ed-4e9a-f3b4-def8f3d113b5"
      },
      "execution_count": null,
      "outputs": [
        {
          "output_type": "stream",
          "name": "stdout",
          "text": [
            "Ignore MatMul due to non constant B: /[/roberta/encoder/layer.0/attention/self/MatMul]\n",
            "Ignore MatMul due to non constant B: /[/roberta/encoder/layer.0/attention/self/MatMul_1]\n",
            "Ignore MatMul due to non constant B: /[/roberta/encoder/layer.1/attention/self/MatMul]\n",
            "Ignore MatMul due to non constant B: /[/roberta/encoder/layer.1/attention/self/MatMul_1]\n",
            "Ignore MatMul due to non constant B: /[/roberta/encoder/layer.2/attention/self/MatMul]\n",
            "Ignore MatMul due to non constant B: /[/roberta/encoder/layer.2/attention/self/MatMul_1]\n",
            "Ignore MatMul due to non constant B: /[/roberta/encoder/layer.3/attention/self/MatMul]\n",
            "Ignore MatMul due to non constant B: /[/roberta/encoder/layer.3/attention/self/MatMul_1]\n",
            "Ignore MatMul due to non constant B: /[/roberta/encoder/layer.4/attention/self/MatMul]\n",
            "Ignore MatMul due to non constant B: /[/roberta/encoder/layer.4/attention/self/MatMul_1]\n",
            "Ignore MatMul due to non constant B: /[/roberta/encoder/layer.5/attention/self/MatMul]\n",
            "Ignore MatMul due to non constant B: /[/roberta/encoder/layer.5/attention/self/MatMul_1]\n"
          ]
        }
      ]
    },
    {
      "cell_type": "markdown",
      "source": [
        "# ONNX Inference"
      ],
      "metadata": {
        "id": "cXpFGJ4BLjjZ"
      }
    },
    {
      "cell_type": "markdown",
      "source": [
        "## Normal ONNX"
      ],
      "metadata": {
        "id": "dnAvM_OULzYi"
      }
    },
    {
      "cell_type": "code",
      "source": [
        "from google.colab import drive\n",
        "drive.mount('/content/drive')"
      ],
      "metadata": {
        "colab": {
          "base_uri": "https://localhost:8080/"
        },
        "id": "BMYSbwHynMvB",
        "outputId": "889b3cb1-1539-4b25-b7cc-4a22e3e80699"
      },
      "execution_count": null,
      "outputs": [
        {
          "output_type": "stream",
          "name": "stdout",
          "text": [
            "Drive already mounted at /content/drive; to attempt to forcibly remount, call drive.mount(\"/content/drive\", force_remount=True).\n"
          ]
        }
      ]
    },
    {
      "cell_type": "code",
      "source": [
        "%cd /content/drive/MyDrive/ml-classifier"
      ],
      "metadata": {
        "colab": {
          "base_uri": "https://localhost:8080/"
        },
        "id": "SLbSmn-4nND0",
        "outputId": "dc5cd7b7-b83e-4842-f24d-2a6665c5c3f4"
      },
      "execution_count": null,
      "outputs": [
        {
          "output_type": "stream",
          "name": "stdout",
          "text": [
            "/content/drive/MyDrive/ml-classifier\n"
          ]
        }
      ]
    },
    {
      "cell_type": "code",
      "source": [],
      "metadata": {
        "id": "ogcGJE8MoIB7"
      },
      "execution_count": null,
      "outputs": []
    },
    {
      "cell_type": "code",
      "source": [
        "import onnxruntime as rt\n",
        "from transformers import AutoTokenizer\n",
        "import torch\n",
        "\n",
        "tokenizer = AutoTokenizer.from_pretrained(\"distilroberta-base\")\n",
        "\n",
        "class_labels = list(encode_color_types.keys())\n",
        "\n",
        "# Set the providers parameter to use CPUExecutionProvider as fallback\n",
        "providers = ['CPUExecutionProvider']\n",
        "inf_session = rt.InferenceSession('models/rainbow-genre-cover-classifier.onnx', providers=providers)\n",
        "\n",
        "input_name = inf_session.get_inputs()[0].name\n",
        "output_name = inf_session.get_outputs()[0].name\n"
      ],
      "metadata": {
        "id": "e9AR1cLGpJWq"
      },
      "execution_count": null,
      "outputs": []
    },
    {
      "cell_type": "code",
      "source": [],
      "metadata": {
        "id": "UjFworX5pR-7"
      },
      "execution_count": null,
      "outputs": []
    },
    {
      "cell_type": "code",
      "source": [
        "preds = []\n",
        "for idx, row in tqdm(valid_df.iterrows(), total=valid_df.shape[0]):\n",
        "  desc = row['description']\n",
        "  input_ids = tokenizer(desc)['input_ids'][:512]\n",
        "\n",
        "  probs = inf_session.run([output_name], {input_name: [input_ids]})[0]\n",
        "  probs = torch.FloatTensor(probs)\n",
        "\n",
        "  masks = torch.sigmoid(probs) >= 0.5\n",
        "  labels = [class_labels[idx] for idx, mask in enumerate(masks[0]) if mask]\n",
        "\n",
        "  pred_colors = [0] * len(encode_color_types)\n",
        "  for label in labels:\n",
        "    pred_colors[encode_color_types[label]] = 1\n",
        "  preds.append(pred_colors)"
      ],
      "metadata": {
        "colab": {
          "base_uri": "https://localhost:8080/",
          "height": 49,
          "referenced_widgets": [
            "60a8d4e2846f4084be3619cafac37072",
            "bd745b024766483a869f9a0a11875549",
            "0ebf264eabb5496b99af3d66b0470e3d",
            "568b0f3af17b4069a195d8135f0f9d72",
            "fd1b3f4f170d4f509733967e2043bce2",
            "a7d53b12adb04789bab967f5f0e4e01c",
            "75efab4498b94312be3035fa26a32774",
            "4ccb725035c74d428bbaf687c5416869",
            "ccbcd70a3fa748ca994a1a1655968d9b",
            "767cd7f3e85b42a5a6119bf3d0844de4",
            "8409f5bef97440b7bbbc86915030d285"
          ]
        },
        "id": "CHNlselRMGCZ",
        "outputId": "7b617a58-ac84-4c7f-9002-280a00113130"
      },
      "execution_count": null,
      "outputs": [
        {
          "output_type": "display_data",
          "data": {
            "text/plain": [
              "  0%|          | 0/2120 [00:00<?, ?it/s]"
            ],
            "application/vnd.jupyter.widget-view+json": {
              "version_major": 2,
              "version_minor": 0,
              "model_id": "60a8d4e2846f4084be3619cafac37072"
            }
          },
          "metadata": {}
        }
      ]
    },
    {
      "cell_type": "code",
      "source": [
        "metric_measures(valid_df, preds)"
      ],
      "metadata": {
        "colab": {
          "base_uri": "https://localhost:8080/"
        },
        "id": "svMa5SB6NGVN",
        "outputId": "fe25383a-edd5-4078-cb2f-0f2bec6abef4"
      },
      "execution_count": null,
      "outputs": [
        {
          "output_type": "stream",
          "name": "stdout",
          "text": [
            "F1 Score (Micro) = 0.6973647125140925\n",
            "F1 Score (Macro) = 0.6004194903584532\n"
          ]
        }
      ]
    },
    {
      "cell_type": "markdown",
      "source": [
        "## Quantized ONNX"
      ],
      "metadata": {
        "id": "7X00cpvON8ja"
      }
    },
    {
      "cell_type": "code",
      "source": [
        "import onnxruntime as rt\n",
        "from transformers import AutoTokenizer\n",
        "import torch\n",
        "\n",
        "tokenizer = AutoTokenizer.from_pretrained(\"distilroberta-base\")\n",
        "\n",
        "class_labels = list(encode_color_types.keys())\n",
        "\n",
        "# Set the providers parameter to use CPUExecutionProvider as fallback\n",
        "providers = ['CPUExecutionProvider']\n",
        "inf_session = rt.InferenceSession('models/rainbow-genre-cover-classifier-quantized.onnx', providers=providers)\n",
        "\n",
        "input_name = inf_session.get_inputs()[0].name\n",
        "output_name = inf_session.get_outputs()[0].name"
      ],
      "metadata": {
        "id": "1w7ZUUIypzjb"
      },
      "execution_count": null,
      "outputs": []
    },
    {
      "cell_type": "code",
      "source": [
        "preds = []\n",
        "for idx, row in tqdm(valid_df.iterrows(), total=valid_df.shape[0]):\n",
        "  desc = row['description']\n",
        "  input_ids = tokenizer(desc)['input_ids'][:512]\n",
        "\n",
        "  probs = inf_session.run([output_name], {input_name: [input_ids]})[0]\n",
        "  probs = torch.FloatTensor(probs)\n",
        "\n",
        "  masks = torch.sigmoid(probs) >= 0.5\n",
        "  labels = [class_labels[idx] for idx, mask in enumerate(masks[0]) if mask]\n",
        "\n",
        "  pred_colors = [0] * len(encode_color_types)\n",
        "  for label in labels:\n",
        "    pred_colors[encode_color_types[label]] = 1\n",
        "  preds.append(pred_colors)"
      ],
      "metadata": {
        "colab": {
          "base_uri": "https://localhost:8080/",
          "height": 49,
          "referenced_widgets": [
            "9f6e6c6588744e88b2b53a0ba4ff1c06",
            "10dd8b97062a4e76acc4c151b6445806",
            "5ab7bbe29a3242a4a450332de19cd593",
            "308afce7a8c34a71a17cd9714bdbca08",
            "122736e15e5e43109149384e521036ba",
            "30974e8668fc48fd9116501c089b9b92",
            "2a2aaecbf2214e1191c40f392f7a7ac7",
            "a7cfb147d8ea4185981f180e65280b78",
            "b4282c41754a4dc49bf215488699fe9e",
            "22b52227ef054522821bd0466720887b",
            "e428b9d90f5d4f18ac76b2970742d3ee"
          ]
        },
        "id": "GnHUnQdFOECs",
        "outputId": "38dee386-43af-492e-d582-c978a8dfe572"
      },
      "execution_count": null,
      "outputs": [
        {
          "output_type": "display_data",
          "data": {
            "text/plain": [
              "  0%|          | 0/2120 [00:00<?, ?it/s]"
            ],
            "application/vnd.jupyter.widget-view+json": {
              "version_major": 2,
              "version_minor": 0,
              "model_id": "9f6e6c6588744e88b2b53a0ba4ff1c06"
            }
          },
          "metadata": {}
        }
      ]
    },
    {
      "cell_type": "code",
      "source": [
        "metric_measures(valid_df, preds) #"
      ],
      "metadata": {
        "colab": {
          "base_uri": "https://localhost:8080/"
        },
        "id": "HzqtaeWbOFmJ",
        "outputId": "242fbb93-ac7c-4e04-b6cc-ffefd6e1433e"
      },
      "execution_count": null,
      "outputs": [
        {
          "output_type": "stream",
          "name": "stdout",
          "text": [
            "F1 Score (Micro) = 0.6962127884446011\n",
            "F1 Score (Macro) = 0.5984456234321722\n"
          ]
        }
      ]
    }
  ]
}