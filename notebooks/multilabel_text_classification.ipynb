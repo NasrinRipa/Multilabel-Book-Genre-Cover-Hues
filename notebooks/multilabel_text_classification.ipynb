{
  "nbformat": 4,
  "nbformat_minor": 0,
  "metadata": {
    "colab": {
      "provenance": []
    },
    "kernelspec": {
      "name": "python3",
      "display_name": "Python 3"
    },
    "language_info": {
      "name": "python"
    },
    "accelerator": "GPU",
    "gpuClass": "standard"
  },
  "cells": [
    {
      "cell_type": "markdown",
      "source": [
        "# Multilabel Classification"
      ],
      "metadata": {
        "id": "tr_Pwjbd8kI8"
      }
    },
    {
      "cell_type": "markdown",
      "source": [
        "In multi-label classification, each sample can have multiple labels associated with it, as opposed to the traditional single-label classification where each sample can have only one label associated with it. <br/>\n",
        "\n",
        "This means that the output of a multi-label classifier is an array of probabilities, one for each label, indicating the probability of the input sample belonging to each label."
      ],
      "metadata": {
        "id": "mnNEuA7d8pXL"
      }
    },
    {
      "cell_type": "markdown",
      "source": [
        "# Setting Up"
      ],
      "metadata": {
        "id": "BMEIDP938McA"
      }
    },
    {
      "cell_type": "code",
      "execution_count": null,
      "metadata": {
        "id": "RaqQI47Lp3Vx",
        "colab": {
          "base_uri": "https://localhost:8080/"
        },
        "outputId": "bb0b1a5c-cb94-4844-b659-27e0f10caf07"
      },
      "outputs": [
        {
          "output_type": "stream",
          "name": "stdout",
          "text": [
            "/bin/bash: line 1: nvidia-smi: command not found\n"
          ]
        }
      ],
      "source": [
        "!nvidia-smi"
      ]
    },
    {
      "cell_type": "code",
      "source": [
        "%reload_ext autoreload\n",
        "%autoreload 2\n",
        "%matplotlib inline"
      ],
      "metadata": {
        "id": "nJGVEr878Rrs"
      },
      "execution_count": null,
      "outputs": []
    },
    {
      "cell_type": "code",
      "source": [
        "! pip install -q transformers[sentencepiece] fastbook fastai ohmeow-blurr nbdev"
      ],
      "metadata": {
        "id": "7C5qa-RD88iD",
        "colab": {
          "base_uri": "https://localhost:8080/"
        },
        "outputId": "184f2ed7-01aa-4835-e8f8-5becb1806724"
      },
      "execution_count": null,
      "outputs": [
        {
          "output_type": "stream",
          "name": "stdout",
          "text": [
            "\u001b[2K     \u001b[90m━━━━━━━━━━━━━━━━━━━━━━━━━━━━━━━━━━━━━━━━\u001b[0m \u001b[32m7.4/7.4 MB\u001b[0m \u001b[31m37.7 MB/s\u001b[0m eta \u001b[36m0:00:00\u001b[0m\n",
            "\u001b[2K     \u001b[90m━━━━━━━━━━━━━━━━━━━━━━━━━━━━━━━━━━━━━━\u001b[0m \u001b[32m719.8/719.8 kB\u001b[0m \u001b[31m29.2 MB/s\u001b[0m eta \u001b[36m0:00:00\u001b[0m\n",
            "\u001b[2K     \u001b[90m━━━━━━━━━━━━━━━━━━━━━━━━━━━━━━━━━━━━━━━━\u001b[0m \u001b[32m81.1/81.1 kB\u001b[0m \u001b[31m7.1 MB/s\u001b[0m eta \u001b[36m0:00:00\u001b[0m\n",
            "\u001b[2K     \u001b[90m━━━━━━━━━━━━━━━━━━━━━━━━━━━━━━━━━━━━━━━━\u001b[0m \u001b[32m64.8/64.8 kB\u001b[0m \u001b[31m6.2 MB/s\u001b[0m eta \u001b[36m0:00:00\u001b[0m\n",
            "\u001b[2K     \u001b[90m━━━━━━━━━━━━━━━━━━━━━━━━━━━━━━━━━━━━━━\u001b[0m \u001b[32m268.8/268.8 kB\u001b[0m \u001b[31m18.1 MB/s\u001b[0m eta \u001b[36m0:00:00\u001b[0m\n",
            "\u001b[2K     \u001b[90m━━━━━━━━━━━━━━━━━━━━━━━━━━━━━━━━━━━━━━━━\u001b[0m \u001b[32m7.8/7.8 MB\u001b[0m \u001b[31m48.0 MB/s\u001b[0m eta \u001b[36m0:00:00\u001b[0m\n",
            "\u001b[2K     \u001b[90m━━━━━━━━━━━━━━━━━━━━━━━━━━━━━━━━━━━━━━━━\u001b[0m \u001b[32m1.3/1.3 MB\u001b[0m \u001b[31m27.6 MB/s\u001b[0m eta \u001b[36m0:00:00\u001b[0m\n",
            "\u001b[2K     \u001b[90m━━━━━━━━━━━━━━━━━━━━━━━━━━━━━━━━━━━━━━━━\u001b[0m \u001b[32m1.3/1.3 MB\u001b[0m \u001b[31m26.1 MB/s\u001b[0m eta \u001b[36m0:00:00\u001b[0m\n",
            "\u001b[2K     \u001b[90m━━━━━━━━━━━━━━━━━━━━━━━━━━━━━━━━━━━━━━\u001b[0m \u001b[32m518.9/518.9 kB\u001b[0m \u001b[31m24.5 MB/s\u001b[0m eta \u001b[36m0:00:00\u001b[0m\n",
            "\u001b[2K     \u001b[90m━━━━━━━━━━━━━━━━━━━━━━━━━━━━━━━━━━━━━━━\u001b[0m \u001b[32m887.5/887.5 MB\u001b[0m \u001b[31m1.9 MB/s\u001b[0m eta \u001b[36m0:00:00\u001b[0m\n",
            "\u001b[2K     \u001b[90m━━━━━━━━━━━━━━━━━━━━━━━━━━━━━━━━━━━━━━━━\u001b[0m \u001b[32m43.6/43.6 kB\u001b[0m \u001b[31m4.4 MB/s\u001b[0m eta \u001b[36m0:00:00\u001b[0m\n",
            "\u001b[?25h  Preparing metadata (setup.py) ... \u001b[?25l\u001b[?25hdone\n",
            "  Preparing metadata (setup.py) ... \u001b[?25l\u001b[?25hdone\n",
            "\u001b[2K     \u001b[90m━━━━━━━━━━━━━━━━━━━━━━━━━━━━━━━━━━━━━━━━\u001b[0m \u001b[32m58.7/58.7 kB\u001b[0m \u001b[31m6.1 MB/s\u001b[0m eta \u001b[36m0:00:00\u001b[0m\n",
            "\u001b[2K     \u001b[90m━━━━━━━━━━━━━━━━━━━━━━━━━━━━━━━━━━━━━━━━\u001b[0m \u001b[32m82.1/82.1 kB\u001b[0m \u001b[31m7.9 MB/s\u001b[0m eta \u001b[36m0:00:00\u001b[0m\n",
            "\u001b[2K     \u001b[90m━━━━━━━━━━━━━━━━━━━━━━━━━━━━━━━━━━━━━━\u001b[0m \u001b[32m849.3/849.3 kB\u001b[0m \u001b[31m49.8 MB/s\u001b[0m eta \u001b[36m0:00:00\u001b[0m\n",
            "\u001b[2K     \u001b[90m━━━━━━━━━━━━━━━━━━━━━━━━━━━━━━━━━━━━━━━\u001b[0m \u001b[32m557.1/557.1 MB\u001b[0m \u001b[31m1.9 MB/s\u001b[0m eta \u001b[36m0:00:00\u001b[0m\n",
            "\u001b[2K     \u001b[90m━━━━━━━━━━━━━━━━━━━━━━━━━━━━━━━━━━━━━━━\u001b[0m \u001b[32m317.1/317.1 MB\u001b[0m \u001b[31m4.4 MB/s\u001b[0m eta \u001b[36m0:00:00\u001b[0m\n",
            "\u001b[2K     \u001b[90m━━━━━━━━━━━━━━━━━━━━━━━━━━━━━━━━━━━━━━━━\u001b[0m \u001b[32m21.0/21.0 MB\u001b[0m \u001b[31m40.3 MB/s\u001b[0m eta \u001b[36m0:00:00\u001b[0m\n",
            "\u001b[2K     \u001b[90m━━━━━━━━━━━━━━━━━━━━━━━━━━━━━━━━━━━━━━━━\u001b[0m \u001b[32m6.0/6.0 MB\u001b[0m \u001b[31m72.0 MB/s\u001b[0m eta \u001b[36m0:00:00\u001b[0m\n",
            "\u001b[2K     \u001b[90m━━━━━━━━━━━━━━━━━━━━━━━━━━━━━━━━━━━━━━━━\u001b[0m \u001b[32m6.0/6.0 MB\u001b[0m \u001b[31m70.6 MB/s\u001b[0m eta \u001b[36m0:00:00\u001b[0m\n",
            "\u001b[2K     \u001b[90m━━━━━━━━━━━━━━━━━━━━━━━━━━━━━━━━━━━━━━━━\u001b[0m \u001b[32m24.2/24.2 MB\u001b[0m \u001b[31m46.2 MB/s\u001b[0m eta \u001b[36m0:00:00\u001b[0m\n",
            "\u001b[2K     \u001b[90m━━━━━━━━━━━━━━━━━━━━━━━━━━━━━━━━━━━━━━\u001b[0m \u001b[32m115.3/115.3 kB\u001b[0m \u001b[31m12.7 MB/s\u001b[0m eta \u001b[36m0:00:00\u001b[0m\n",
            "\u001b[2K     \u001b[90m━━━━━━━━━━━━━━━━━━━━━━━━━━━━━━━━━━━━━━\u001b[0m \u001b[32m194.1/194.1 kB\u001b[0m \u001b[31m20.7 MB/s\u001b[0m eta \u001b[36m0:00:00\u001b[0m\n",
            "\u001b[2K     \u001b[90m━━━━━━━━━━━━━━━━━━━━━━━━━━━━━━━━━━━━━━\u001b[0m \u001b[32m134.8/134.8 kB\u001b[0m \u001b[31m14.8 MB/s\u001b[0m eta \u001b[36m0:00:00\u001b[0m\n",
            "\u001b[2K     \u001b[90m━━━━━━━━━━━━━━━━━━━━━━━━━━━━━━━━━━━━━━━━\u001b[0m \u001b[32m1.6/1.6 MB\u001b[0m \u001b[31m81.6 MB/s\u001b[0m eta \u001b[36m0:00:00\u001b[0m\n",
            "\u001b[?25h  Building wheel for rouge-score (setup.py) ... \u001b[?25l\u001b[?25hdone\n",
            "  Building wheel for seqeval (setup.py) ... \u001b[?25l\u001b[?25hdone\n",
            "\u001b[31mERROR: pip's dependency resolver does not currently take into account all the packages that are installed. This behaviour is the source of the following dependency conflicts.\n",
            "torchaudio 2.0.2+cu118 requires torch==2.0.1, but you have torch 1.13.1 which is incompatible.\n",
            "torchdata 0.6.1 requires torch==2.0.1, but you have torch 1.13.1 which is incompatible.\n",
            "torchtext 0.15.2 requires torch==2.0.1, but you have torch 1.13.1 which is incompatible.\u001b[0m\u001b[31m\n",
            "\u001b[0m"
          ]
        }
      ]
    },
    {
      "cell_type": "code",
      "source": [
        "import torch\n",
        "from transformers import AutoModelForSequenceClassification, AutoConfig\n",
        "from fastai.text.all import *\n",
        "from blurr.text.data.all import *\n",
        "from blurr.text.modeling.all import *"
      ],
      "metadata": {
        "id": "IE1vSUJf9Fxb"
      },
      "execution_count": null,
      "outputs": []
    },
    {
      "cell_type": "code",
      "source": [
        "from google.colab import drive\n",
        "drive.mount('/content/drive')"
      ],
      "metadata": {
        "colab": {
          "base_uri": "https://localhost:8080/"
        },
        "id": "HhA3IF-c9G7y",
        "outputId": "f1ed1931-4e3d-4cd5-ab8b-b2ac0083599e"
      },
      "execution_count": null,
      "outputs": [
        {
          "output_type": "stream",
          "name": "stdout",
          "text": [
            "Drive already mounted at /content/drive; to attempt to forcibly remount, call drive.mount(\"/content/drive\", force_remount=True).\n"
          ]
        }
      ]
    },
    {
      "cell_type": "code",
      "source": [
        "%cd /content/drive/MyDrive/ml-classifier"
      ],
      "metadata": {
        "colab": {
          "base_uri": "https://localhost:8080/"
        },
        "id": "9Y7NuszD9Iby",
        "outputId": "97a149bd-839f-4ba1-e15f-2a950e4641d6"
      },
      "execution_count": null,
      "outputs": [
        {
          "output_type": "stream",
          "name": "stdout",
          "text": [
            "/content/drive/MyDrive/ml-classifier\n"
          ]
        }
      ]
    },
    {
      "cell_type": "markdown",
      "source": [
        "# Data"
      ],
      "metadata": {
        "id": "2BdMKFKo_NBc"
      }
    },
    {
      "cell_type": "code",
      "source": [
        "df = pd.read_csv(\"book_details_with_50colors.csv\")\n",
        "df.head()"
      ],
      "metadata": {
        "colab": {
          "base_uri": "https://localhost:8080/",
          "height": 667
        },
        "id": "EYyD3GF5_Na8",
        "outputId": "35db812f-e2d3-4998-eb62-8d6d0e639bc2"
      },
      "execution_count": null,
      "outputs": [
        {
          "output_type": "execute_result",
          "data": {
            "text/plain": [
              "                                                                   title  \\\n",
              "0  Awakening Your Money Chakras Secrets to Attracting Wealth and Success   \n",
              "1                                                        Emotions A to Z   \n",
              "2                             The Art of Raise Capital for a New Venture   \n",
              "3                                                  райдуга навколо сонця   \n",
              "4                                      Sibiloi: The Genesis of Humanity?   \n",
              "\n",
              "                                                                                                                                                                                                                                                                                                                                                                                                                                                                                                                                                                                                               description  \\\n",
              "0  Welcome to our enlightening guide on \"Awakening Your Money Chakras: Secrets to Attracting Wealth and Success.\" If you've ever wondered how some people effortlessly attract abundance into their lives while others struggle, this book has the answers you seek!\\n\\nIn this empowering read, we delve into the fascinating world of chakras, the energy centers within us that influence our financial well-being. From the Root Chakra to the Crown Chakra, we explore how each one impacts our money mindset and ability to manifest prosperity.\\n\\nLearn how to identify blockages and imbalances that may have ...   \n",
              "1  \"The Empathy Weave: Embracing Emotional Intelligence for Meaningful Connections\" is a captivating and transformative exploration of emotional intelligence and empathy—a tapestry of understanding and compassion that weaves hearts together with profound human connections. In this enlightening book, readers embark on a journey of self-discovery and growth, unlocking the power of emotional intelligence to enhance personal relationships, professional success, and overall well-being.\\n\\nDrawing upon the rich tapestry of emotional intelligence, this book delves deep into the intricacies of self-a...   \n",
              "2  \"The Art of Raise Capital for Your New Venture\" is a practical and insightful guide that equips entrepreneurs with the knowledge and strategies needed to secure capital for their startup ventures. Authored with the understanding of the challenges faced by startup founders, this book serves as a valuable resource for aspiring entrepreneurs and seasoned founders alike.\\n\\nAt the core of successful fundraising lies the art of visionary storytelling. The book emphasizes the importance of articulating a powerful vision that resonates with potential investors. Through effective communication, en...   \n",
              "3                                                                                                                                                       Життя заможного бізнесмена Марка можна побачити лише у казках: квартири, дорогі автомобілі, красива дівчина. Проте одна подія змінює Марка: врятувавши дівчинку з полум'я та сам ледь не загинувши, він полишає все та вирішує піти у паломництво до Єрусалиму у пошуках відповідей на свої запитання. Шлях далекий та складний, сповнений пригод та небезпек. Але Марк впевнений, що там, біля Гробу Господнього, на нього чекає відповідь на найбільшу таємницю.   \n",
              "4                           ONE Mysterious belt in an antique shop in London is a compass to secret caves of the Amalek tribe in Sibiloi, Northern Kenya.\\n\\nFOUR Researchers want to unravel the truth: biologist Dr Martha Watkins, anthropologist Jim Trevor, and archeologists Dr Paul Brando from California, US, and Professor Simiyu from Kenya.\\n\\nTWO Extremist organisations want the truth buried forever: a religious sect and a terror organisation.\\n\\nDeep in the caves of Sibiloi in Turkana, Kenya, is the answer that has evaded researchers for ages: Sibiloi holds secrets of the genesis of humanity.   \n",
              "\n",
              "                                                                                                                                                                                                                 top_genres  \\\n",
              "0  [\" 'Nonfiction'\", \" 'Business & Economics'\", \" 'New Age'\", \" 'Meditation'\", \" 'Personal finance / money management'\", \" 'Religion & Spirituality'\", \" 'Body\", ' mind', \" & spirit'\", \" 'Inspiration & personal growth'\"]   \n",
              "1                                                                  [\" 'Nonfiction'\", \" 'Inspiration'\", \" 'General self-help'\", \" 'Self-improvement'\", \" 'Anxieties & Phobias'\", \"['Nonfiction'\", \" 'Anxieties & Phobias']\"]   \n",
              "2                                                                                                          [\" 'Business & Economics'\", \" 'Nonfiction'\", \" 'Starting up'\", \" 'Budgeting'\", \"['Nonfiction'\", \" 'Budgeting']\"]   \n",
              "3                                                                                                                                     [\" 'Adventure'\", \" 'Fiction'\", \" 'General'\", \" 'Travel'\", \"['Fiction'\", \" 'Travel']\"]   \n",
              "4                                                                                                                       [\" 'Fiction'\", \" 'Adventure'\", \" 'Science fiction'\", \" 'High tech'\", \"['Fiction'\", \" 'High tech']\"]   \n",
              "\n",
              "                                                                                                                        colors  \n",
              "0  ['firebrick', 'mediumseagreen', 'darkviolet', 'magenta', 'mediumblue', 'limegreen', 'seagreen', 'tomato', 'blue', 'silver']  \n",
              "1                                       ['firebrick', 'teal', 'mediumslateblue', 'darkturquoise', 'salmon', 'blue', 'crimson']  \n",
              "2                                                         ['mediumseagreen', 'firebrick', 'cyan', 'teal', 'blue', 'slategrey']  \n",
              "3                                                      ['salmon', 'slategrey', 'gold', 'darkviolet', 'cadetblue', 'indianred']  \n",
              "4                                                   ['slategrey', 'salmon', 'saddlebrown', 'salmon', 'cadetblue', 'firebrick']  "
            ],
            "text/html": [
              "\n",
              "\n",
              "  <div id=\"df-09bd366a-bfc1-470d-9636-b4b36e26a9e9\">\n",
              "    <div class=\"colab-df-container\">\n",
              "      <div>\n",
              "<style scoped>\n",
              "    .dataframe tbody tr th:only-of-type {\n",
              "        vertical-align: middle;\n",
              "    }\n",
              "\n",
              "    .dataframe tbody tr th {\n",
              "        vertical-align: top;\n",
              "    }\n",
              "\n",
              "    .dataframe thead th {\n",
              "        text-align: right;\n",
              "    }\n",
              "</style>\n",
              "<table border=\"1\" class=\"dataframe\">\n",
              "  <thead>\n",
              "    <tr style=\"text-align: right;\">\n",
              "      <th></th>\n",
              "      <th>title</th>\n",
              "      <th>description</th>\n",
              "      <th>top_genres</th>\n",
              "      <th>colors</th>\n",
              "    </tr>\n",
              "  </thead>\n",
              "  <tbody>\n",
              "    <tr>\n",
              "      <th>0</th>\n",
              "      <td>Awakening Your Money Chakras Secrets to Attracting Wealth and Success</td>\n",
              "      <td>Welcome to our enlightening guide on \"Awakening Your Money Chakras: Secrets to Attracting Wealth and Success.\" If you've ever wondered how some people effortlessly attract abundance into their lives while others struggle, this book has the answers you seek!\\n\\nIn this empowering read, we delve into the fascinating world of chakras, the energy centers within us that influence our financial well-being. From the Root Chakra to the Crown Chakra, we explore how each one impacts our money mindset and ability to manifest prosperity.\\n\\nLearn how to identify blockages and imbalances that may have ...</td>\n",
              "      <td>[\" 'Nonfiction'\", \" 'Business &amp; Economics'\", \" 'New Age'\", \" 'Meditation'\", \" 'Personal finance / money management'\", \" 'Religion &amp; Spirituality'\", \" 'Body\", ' mind', \" &amp; spirit'\", \" 'Inspiration &amp; personal growth'\"]</td>\n",
              "      <td>['firebrick', 'mediumseagreen', 'darkviolet', 'magenta', 'mediumblue', 'limegreen', 'seagreen', 'tomato', 'blue', 'silver']</td>\n",
              "    </tr>\n",
              "    <tr>\n",
              "      <th>1</th>\n",
              "      <td>Emotions A to Z</td>\n",
              "      <td>\"The Empathy Weave: Embracing Emotional Intelligence for Meaningful Connections\" is a captivating and transformative exploration of emotional intelligence and empathy—a tapestry of understanding and compassion that weaves hearts together with profound human connections. In this enlightening book, readers embark on a journey of self-discovery and growth, unlocking the power of emotional intelligence to enhance personal relationships, professional success, and overall well-being.\\n\\nDrawing upon the rich tapestry of emotional intelligence, this book delves deep into the intricacies of self-a...</td>\n",
              "      <td>[\" 'Nonfiction'\", \" 'Inspiration'\", \" 'General self-help'\", \" 'Self-improvement'\", \" 'Anxieties &amp; Phobias'\", \"['Nonfiction'\", \" 'Anxieties &amp; Phobias']\"]</td>\n",
              "      <td>['firebrick', 'teal', 'mediumslateblue', 'darkturquoise', 'salmon', 'blue', 'crimson']</td>\n",
              "    </tr>\n",
              "    <tr>\n",
              "      <th>2</th>\n",
              "      <td>The Art of Raise Capital for a New Venture</td>\n",
              "      <td>\"The Art of Raise Capital for Your New Venture\" is a practical and insightful guide that equips entrepreneurs with the knowledge and strategies needed to secure capital for their startup ventures. Authored with the understanding of the challenges faced by startup founders, this book serves as a valuable resource for aspiring entrepreneurs and seasoned founders alike.\\n\\nAt the core of successful fundraising lies the art of visionary storytelling. The book emphasizes the importance of articulating a powerful vision that resonates with potential investors. Through effective communication, en...</td>\n",
              "      <td>[\" 'Business &amp; Economics'\", \" 'Nonfiction'\", \" 'Starting up'\", \" 'Budgeting'\", \"['Nonfiction'\", \" 'Budgeting']\"]</td>\n",
              "      <td>['mediumseagreen', 'firebrick', 'cyan', 'teal', 'blue', 'slategrey']</td>\n",
              "    </tr>\n",
              "    <tr>\n",
              "      <th>3</th>\n",
              "      <td>райдуга навколо сонця</td>\n",
              "      <td>Життя заможного бізнесмена Марка можна побачити лише у казках: квартири, дорогі автомобілі, красива дівчина. Проте одна подія змінює Марка: врятувавши дівчинку з полум'я та сам ледь не загинувши, він полишає все та вирішує піти у паломництво до Єрусалиму у пошуках відповідей на свої запитання. Шлях далекий та складний, сповнений пригод та небезпек. Але Марк впевнений, що там, біля Гробу Господнього, на нього чекає відповідь на найбільшу таємницю.</td>\n",
              "      <td>[\" 'Adventure'\", \" 'Fiction'\", \" 'General'\", \" 'Travel'\", \"['Fiction'\", \" 'Travel']\"]</td>\n",
              "      <td>['salmon', 'slategrey', 'gold', 'darkviolet', 'cadetblue', 'indianred']</td>\n",
              "    </tr>\n",
              "    <tr>\n",
              "      <th>4</th>\n",
              "      <td>Sibiloi: The Genesis of Humanity?</td>\n",
              "      <td>ONE Mysterious belt in an antique shop in London is a compass to secret caves of the Amalek tribe in Sibiloi, Northern Kenya.\\n\\nFOUR Researchers want to unravel the truth: biologist Dr Martha Watkins, anthropologist Jim Trevor, and archeologists Dr Paul Brando from California, US, and Professor Simiyu from Kenya.\\n\\nTWO Extremist organisations want the truth buried forever: a religious sect and a terror organisation.\\n\\nDeep in the caves of Sibiloi in Turkana, Kenya, is the answer that has evaded researchers for ages: Sibiloi holds secrets of the genesis of humanity.</td>\n",
              "      <td>[\" 'Fiction'\", \" 'Adventure'\", \" 'Science fiction'\", \" 'High tech'\", \"['Fiction'\", \" 'High tech']\"]</td>\n",
              "      <td>['slategrey', 'salmon', 'saddlebrown', 'salmon', 'cadetblue', 'firebrick']</td>\n",
              "    </tr>\n",
              "  </tbody>\n",
              "</table>\n",
              "</div>\n",
              "      <button class=\"colab-df-convert\" onclick=\"convertToInteractive('df-09bd366a-bfc1-470d-9636-b4b36e26a9e9')\"\n",
              "              title=\"Convert this dataframe to an interactive table.\"\n",
              "              style=\"display:none;\">\n",
              "\n",
              "  <svg xmlns=\"http://www.w3.org/2000/svg\" height=\"24px\"viewBox=\"0 0 24 24\"\n",
              "       width=\"24px\">\n",
              "    <path d=\"M0 0h24v24H0V0z\" fill=\"none\"/>\n",
              "    <path d=\"M18.56 5.44l.94 2.06.94-2.06 2.06-.94-2.06-.94-.94-2.06-.94 2.06-2.06.94zm-11 1L8.5 8.5l.94-2.06 2.06-.94-2.06-.94L8.5 2.5l-.94 2.06-2.06.94zm10 10l.94 2.06.94-2.06 2.06-.94-2.06-.94-.94-2.06-.94 2.06-2.06.94z\"/><path d=\"M17.41 7.96l-1.37-1.37c-.4-.4-.92-.59-1.43-.59-.52 0-1.04.2-1.43.59L10.3 9.45l-7.72 7.72c-.78.78-.78 2.05 0 2.83L4 21.41c.39.39.9.59 1.41.59.51 0 1.02-.2 1.41-.59l7.78-7.78 2.81-2.81c.8-.78.8-2.07 0-2.86zM5.41 20L4 18.59l7.72-7.72 1.47 1.35L5.41 20z\"/>\n",
              "  </svg>\n",
              "      </button>\n",
              "\n",
              "\n",
              "\n",
              "    <div id=\"df-87123302-c21a-405a-a7c7-0735e6812c2c\">\n",
              "      <button class=\"colab-df-quickchart\" onclick=\"quickchart('df-87123302-c21a-405a-a7c7-0735e6812c2c')\"\n",
              "              title=\"Suggest charts.\"\n",
              "              style=\"display:none;\">\n",
              "\n",
              "<svg xmlns=\"http://www.w3.org/2000/svg\" height=\"24px\"viewBox=\"0 0 24 24\"\n",
              "     width=\"24px\">\n",
              "    <g>\n",
              "        <path d=\"M19 3H5c-1.1 0-2 .9-2 2v14c0 1.1.9 2 2 2h14c1.1 0 2-.9 2-2V5c0-1.1-.9-2-2-2zM9 17H7v-7h2v7zm4 0h-2V7h2v10zm4 0h-2v-4h2v4z\"/>\n",
              "    </g>\n",
              "</svg>\n",
              "      </button>\n",
              "    </div>\n",
              "\n",
              "<style>\n",
              "  .colab-df-quickchart {\n",
              "    background-color: #E8F0FE;\n",
              "    border: none;\n",
              "    border-radius: 50%;\n",
              "    cursor: pointer;\n",
              "    display: none;\n",
              "    fill: #1967D2;\n",
              "    height: 32px;\n",
              "    padding: 0 0 0 0;\n",
              "    width: 32px;\n",
              "  }\n",
              "\n",
              "  .colab-df-quickchart:hover {\n",
              "    background-color: #E2EBFA;\n",
              "    box-shadow: 0px 1px 2px rgba(60, 64, 67, 0.3), 0px 1px 3px 1px rgba(60, 64, 67, 0.15);\n",
              "    fill: #174EA6;\n",
              "  }\n",
              "\n",
              "  [theme=dark] .colab-df-quickchart {\n",
              "    background-color: #3B4455;\n",
              "    fill: #D2E3FC;\n",
              "  }\n",
              "\n",
              "  [theme=dark] .colab-df-quickchart:hover {\n",
              "    background-color: #434B5C;\n",
              "    box-shadow: 0px 1px 3px 1px rgba(0, 0, 0, 0.15);\n",
              "    filter: drop-shadow(0px 1px 2px rgba(0, 0, 0, 0.3));\n",
              "    fill: #FFFFFF;\n",
              "  }\n",
              "</style>\n",
              "\n",
              "    <script>\n",
              "      async function quickchart(key) {\n",
              "        const containerElement = document.querySelector('#' + key);\n",
              "        const charts = await google.colab.kernel.invokeFunction(\n",
              "            'suggestCharts', [key], {});\n",
              "      }\n",
              "    </script>\n",
              "\n",
              "      <script>\n",
              "\n",
              "function displayQuickchartButton(domScope) {\n",
              "  let quickchartButtonEl =\n",
              "    domScope.querySelector('#df-87123302-c21a-405a-a7c7-0735e6812c2c button.colab-df-quickchart');\n",
              "  quickchartButtonEl.style.display =\n",
              "    google.colab.kernel.accessAllowed ? 'block' : 'none';\n",
              "}\n",
              "\n",
              "        displayQuickchartButton(document);\n",
              "      </script>\n",
              "      <style>\n",
              "    .colab-df-container {\n",
              "      display:flex;\n",
              "      flex-wrap:wrap;\n",
              "      gap: 12px;\n",
              "    }\n",
              "\n",
              "    .colab-df-convert {\n",
              "      background-color: #E8F0FE;\n",
              "      border: none;\n",
              "      border-radius: 50%;\n",
              "      cursor: pointer;\n",
              "      display: none;\n",
              "      fill: #1967D2;\n",
              "      height: 32px;\n",
              "      padding: 0 0 0 0;\n",
              "      width: 32px;\n",
              "    }\n",
              "\n",
              "    .colab-df-convert:hover {\n",
              "      background-color: #E2EBFA;\n",
              "      box-shadow: 0px 1px 2px rgba(60, 64, 67, 0.3), 0px 1px 3px 1px rgba(60, 64, 67, 0.15);\n",
              "      fill: #174EA6;\n",
              "    }\n",
              "\n",
              "    [theme=dark] .colab-df-convert {\n",
              "      background-color: #3B4455;\n",
              "      fill: #D2E3FC;\n",
              "    }\n",
              "\n",
              "    [theme=dark] .colab-df-convert:hover {\n",
              "      background-color: #434B5C;\n",
              "      box-shadow: 0px 1px 3px 1px rgba(0, 0, 0, 0.15);\n",
              "      filter: drop-shadow(0px 1px 2px rgba(0, 0, 0, 0.3));\n",
              "      fill: #FFFFFF;\n",
              "    }\n",
              "  </style>\n",
              "\n",
              "      <script>\n",
              "        const buttonEl =\n",
              "          document.querySelector('#df-09bd366a-bfc1-470d-9636-b4b36e26a9e9 button.colab-df-convert');\n",
              "        buttonEl.style.display =\n",
              "          google.colab.kernel.accessAllowed ? 'block' : 'none';\n",
              "\n",
              "        async function convertToInteractive(key) {\n",
              "          const element = document.querySelector('#df-09bd366a-bfc1-470d-9636-b4b36e26a9e9');\n",
              "          const dataTable =\n",
              "            await google.colab.kernel.invokeFunction('convertToInteractive',\n",
              "                                                     [key], {});\n",
              "          if (!dataTable) return;\n",
              "\n",
              "          const docLinkHtml = 'Like what you see? Visit the ' +\n",
              "            '<a target=\"_blank\" href=https://colab.research.google.com/notebooks/data_table.ipynb>data table notebook</a>'\n",
              "            + ' to learn more about interactive tables.';\n",
              "          element.innerHTML = '';\n",
              "          dataTable['output_type'] = 'display_data';\n",
              "          await google.colab.output.renderOutput(dataTable, element);\n",
              "          const docLink = document.createElement('div');\n",
              "          docLink.innerHTML = docLinkHtml;\n",
              "          element.appendChild(docLink);\n",
              "        }\n",
              "      </script>\n",
              "    </div>\n",
              "  </div>\n"
            ]
          },
          "metadata": {},
          "execution_count": 16
        }
      ]
    },
    {
      "cell_type": "code",
      "source": [
        "df.shape"
      ],
      "metadata": {
        "colab": {
          "base_uri": "https://localhost:8080/"
        },
        "id": "f6o1buscBnm9",
        "outputId": "2f967c06-9ec7-4ac6-ee9d-f02d50cea9ec"
      },
      "execution_count": null,
      "outputs": [
        {
          "output_type": "execute_result",
          "data": {
            "text/plain": [
              "(21204, 4)"
            ]
          },
          "metadata": {},
          "execution_count": 17
        }
      ]
    },
    {
      "cell_type": "code",
      "source": [
        "df = df.dropna().reset_index(drop=True)\n",
        "df.shape"
      ],
      "metadata": {
        "colab": {
          "base_uri": "https://localhost:8080/"
        },
        "id": "pjYVobSMARF7",
        "outputId": "907cd6d6-e6e5-4647-cd08-635608e53a73"
      },
      "execution_count": null,
      "outputs": [
        {
          "output_type": "execute_result",
          "data": {
            "text/plain": [
              "(21204, 4)"
            ]
          },
          "metadata": {},
          "execution_count": 18
        }
      ]
    },
    {
      "cell_type": "code",
      "source": [
        "colors_list = df.colors.to_list()\n",
        "color_count = {}\n",
        "for colors in colors_list:\n",
        "  color_list = eval(colors)\n",
        "  for color in color_list:\n",
        "    if color in color_count.keys():\n",
        "      color_count[color] += 1\n",
        "    else:\n",
        "      color_count[color] = 1\n",
        "print(f\"Total number of colors for the total 7575 genres in the top_genres column: {len(color_count)}\")\n",
        "print(color_count)"
      ],
      "metadata": {
        "colab": {
          "base_uri": "https://localhost:8080/"
        },
        "id": "iPvxwr4__VYt",
        "outputId": "fb7c95ad-ec6d-48f8-b028-7543b60c16eb"
      },
      "execution_count": null,
      "outputs": [
        {
          "output_type": "stream",
          "name": "stdout",
          "text": [
            "Total number of colors for the total 7575 genres in the top_genres column: 58\n",
            "{'firebrick': 20592, 'mediumseagreen': 3674, 'darkviolet': 3306, 'magenta': 1827, 'mediumblue': 1402, 'limegreen': 4004, 'seagreen': 3068, 'tomato': 1973, 'blue': 14904, 'silver': 1257, 'teal': 1985, 'mediumslateblue': 2084, 'darkturquoise': 2408, 'salmon': 1668, 'crimson': 3066, 'cyan': 2643, 'slategrey': 4392, 'gold': 5111, 'cadetblue': 4252, 'indianred': 1177, 'saddlebrown': 1962, 'orangered': 3508, 'yellow': 5030, 'darkgoldenrod': 3043, 'orange': 915, 'mediumspringgreen': 1599, 'olive': 1505, 'darkorange': 2608, 'lavender': 1873, 'rosybrown': 1853, 'brown': 3034, 'pink': 2404, 'orchid': 1831, 'navy': 2251, 'indigo': 1944, 'royalblue': 2471, 'mediumvioletred': 2116, 'red': 3054, 'steelblue': 2618, 'deeppink': 2620, 'darkkhaki': 3061, 'palevioletred': 1290, 'chocolate': 1534, 'green': 2283, 'slateblue': 1418, 'coral': 1250, 'mediumorchid': 1480, 'turquoise': 1874, 'purple': 3674, 'lime': 2911, 'darkcyan': 1576, 'peru': 2826, 'sienna': 1134, 'deepskyblue': 1251, 'maroon': 2825, 'forestgreen': 1103, 'darkslategray': 1018, 'dodgerblue': 1208}\n"
          ]
        }
      ]
    },
    {
      "cell_type": "code",
      "source": [
        "threshold = int(len(df) * 0.01)\n",
        "rare_colors = [key for key, value in color_count.items() if value < threshold]\n",
        "len(rare_colors), rare_colors[:5]"
      ],
      "metadata": {
        "colab": {
          "base_uri": "https://localhost:8080/"
        },
        "id": "W3FCjoJg_YAn",
        "outputId": "435ad4fe-b155-4b34-f1d6-fd05bdd2e9db"
      },
      "execution_count": null,
      "outputs": [
        {
          "output_type": "execute_result",
          "data": {
            "text/plain": [
              "(0, [])"
            ]
          },
          "metadata": {},
          "execution_count": 23
        }
      ]
    },
    {
      "cell_type": "code",
      "source": [
        "colors_list = df.colors.to_list()\n",
        "revised_color_list = []\n",
        "indices_to_drop = []\n",
        "\n",
        "for idx, colors in enumerate(colors_list):\n",
        "  color_list = eval(colors)\n",
        "  revised_colors = []\n",
        "\n",
        "  for color in color_list:\n",
        "    if color not in rare_colors:\n",
        "      revised_colors.append(color)\n",
        "\n",
        "  if len(revised_colors) == 0:\n",
        "    indices_to_drop.append(idx)\n",
        "  else:\n",
        "    revised_color_list.append(revised_colors)\n",
        "\n",
        "df = df.drop(indices_to_drop).reset_index(drop=True)\n",
        "df.shape"
      ],
      "metadata": {
        "colab": {
          "base_uri": "https://localhost:8080/"
        },
        "id": "KuqB3iep_x-6",
        "outputId": "93e46305-861b-47c6-bcfc-15b1803d7ecb"
      },
      "execution_count": null,
      "outputs": [
        {
          "output_type": "execute_result",
          "data": {
            "text/plain": [
              "(21204, 4)"
            ]
          },
          "metadata": {},
          "execution_count": 24
        }
      ]
    },
    {
      "cell_type": "code",
      "source": [
        "df['revised_colors'] = revised_color_list"
      ],
      "metadata": {
        "id": "w2wkEqFdA4l0"
      },
      "execution_count": null,
      "outputs": []
    },
    {
      "cell_type": "code",
      "source": [
        "df.tail()"
      ],
      "metadata": {
        "colab": {
          "base_uri": "https://localhost:8080/",
          "height": 632
        },
        "id": "YGIQixGyH8NJ",
        "outputId": "0fe066cd-5444-4b58-f966-ee411b2385ca"
      },
      "execution_count": null,
      "outputs": [
        {
          "output_type": "execute_result",
          "data": {
            "text/plain": [
              "                                     title  \\\n",
              "21199                           Annie John   \n",
              "21200                          Cancer Ward   \n",
              "21201    The Resuscitation of a Hanged Man   \n",
              "21202                 The Complete Stories   \n",
              "21203  Everything That Rises Must Converge   \n",
              "\n",
              "                                                                                                                                                                                                                                                                                                                                                                                                                                                                                                                                                                                                                   description  \\\n",
              "21199  The essential coming-of-age novel by Jamaica Kincaid, Annie John is a haunting and provocative story of a young girl growing up on the island of Antigua. Kincaid's novel focuses on a universal, tragic, and often comic theme: the loss of childhood. Annie's voice—urgent, demanding to be heard—is one that will not soon be forgotten by readers.\\n\\nAn adored only child, Annie has until recently lived an idyllic life. She is inseparable from her beautiful mother, a powerful presence, who is the very center of the little girl's existence. Loved and cherished, Annie grows and thrives within her mo...   \n",
              "21200  Cancer Ward examines the relationship of a group of people in the cancer ward of a provincial Soviet hospital in 1955, two years after Stalin's death. We see them under normal circumstances, and also reexamined at the eleventh hour of illness. Together they represent a remarkable cross-section of contemporary Russian characters and attitudes. The experiences of the central character, Oleg Kostoglotov, closely reflect the author's own: Solzhenitsyn himself became a patient in a cancer ward in the mid-1950s, on his release from a labor camp, and later recovered. Translated by Nicholas Bethel...   \n",
              "21201                                                                                                                                                                                                                                                                                                                                                                                                                                Resuscitation of a Hanged Man is Denis Johnson's most fully realized novel to date, an enthralling and shattering reading experience, which probes the mysteries of faith, hope and love.   \n",
              "21202  Winner of the National Book Award\\n\\nThe publication of this extraordinary volume firmly established Flannery O'Connor's monumental contribution to American fiction.\\n\\nThere are thirty-one stories here in all, including twelve that do not appear in the only two story collections O'Connor put together in her short lifetime--Everything That Rises Must Converge and A Good Man Is Hard to Find.\\n\\nO'Connor published her first story, \"The Geranium,\" in 1946, while she was working on her master's degree at the University of Iowa. Arranged chronologically, this collection shows that her last stor...   \n",
              "21203                                                                                                                                                                            Flannery O'Connor was working on Everything That Rises Must Converge at the time of her death. This collection is an exquisite legacy from a genius of the American short story, in which she scrutinizes territory familiar to her readers: race, faith, and morality. The stories encompass the comic and the tragic, the beautiful and the grotesque; each carries her highly individual stamp and could have been written by no one else.   \n",
              "\n",
              "                                                                                                top_genres  \\\n",
              "21199       [\"['Fiction'\", \" 'Literary'\", \" 'English literature'\", \" 'American and Canadian literature']\"]   \n",
              "21200                                               [\"['Fiction'\", \" 'Literary'\", \" 'Slavic literature']\"]   \n",
              "21201       [\"['Fiction'\", \" 'Literary'\", \" 'English literature'\", \" 'American and Canadian literature']\"]   \n",
              "21202  [\"['Fiction'\", \" 'Short stories'\", \" 'English literature'\", \" 'American and Canadian literature']\"]   \n",
              "21203  [\"['Fiction'\", \" 'Short stories'\", \" 'English literature'\", \" 'American and Canadian literature']\"]   \n",
              "\n",
              "                                                         colors  \\\n",
              "21199            ['cadetblue', 'peru', 'orchid', 'saddlebrown']   \n",
              "21200                   ['cadetblue', 'peru', 'mediumseagreen']   \n",
              "21201            ['cadetblue', 'peru', 'orchid', 'saddlebrown']   \n",
              "21202  ['cadetblue', 'mediumseagreen', 'orchid', 'saddlebrown']   \n",
              "21203  ['cadetblue', 'mediumseagreen', 'orchid', 'saddlebrown']   \n",
              "\n",
              "                                         revised_colors  \n",
              "21199            [cadetblue, peru, orchid, saddlebrown]  \n",
              "21200                 [cadetblue, peru, mediumseagreen]  \n",
              "21201            [cadetblue, peru, orchid, saddlebrown]  \n",
              "21202  [cadetblue, mediumseagreen, orchid, saddlebrown]  \n",
              "21203  [cadetblue, mediumseagreen, orchid, saddlebrown]  "
            ],
            "text/html": [
              "\n",
              "\n",
              "  <div id=\"df-98dd3626-2b75-4886-9f32-3487ac2f12f7\">\n",
              "    <div class=\"colab-df-container\">\n",
              "      <div>\n",
              "<style scoped>\n",
              "    .dataframe tbody tr th:only-of-type {\n",
              "        vertical-align: middle;\n",
              "    }\n",
              "\n",
              "    .dataframe tbody tr th {\n",
              "        vertical-align: top;\n",
              "    }\n",
              "\n",
              "    .dataframe thead th {\n",
              "        text-align: right;\n",
              "    }\n",
              "</style>\n",
              "<table border=\"1\" class=\"dataframe\">\n",
              "  <thead>\n",
              "    <tr style=\"text-align: right;\">\n",
              "      <th></th>\n",
              "      <th>title</th>\n",
              "      <th>description</th>\n",
              "      <th>top_genres</th>\n",
              "      <th>colors</th>\n",
              "      <th>revised_colors</th>\n",
              "    </tr>\n",
              "  </thead>\n",
              "  <tbody>\n",
              "    <tr>\n",
              "      <th>21199</th>\n",
              "      <td>Annie John</td>\n",
              "      <td>The essential coming-of-age novel by Jamaica Kincaid, Annie John is a haunting and provocative story of a young girl growing up on the island of Antigua. Kincaid's novel focuses on a universal, tragic, and often comic theme: the loss of childhood. Annie's voice—urgent, demanding to be heard—is one that will not soon be forgotten by readers.\\n\\nAn adored only child, Annie has until recently lived an idyllic life. She is inseparable from her beautiful mother, a powerful presence, who is the very center of the little girl's existence. Loved and cherished, Annie grows and thrives within her mo...</td>\n",
              "      <td>[\"['Fiction'\", \" 'Literary'\", \" 'English literature'\", \" 'American and Canadian literature']\"]</td>\n",
              "      <td>['cadetblue', 'peru', 'orchid', 'saddlebrown']</td>\n",
              "      <td>[cadetblue, peru, orchid, saddlebrown]</td>\n",
              "    </tr>\n",
              "    <tr>\n",
              "      <th>21200</th>\n",
              "      <td>Cancer Ward</td>\n",
              "      <td>Cancer Ward examines the relationship of a group of people in the cancer ward of a provincial Soviet hospital in 1955, two years after Stalin's death. We see them under normal circumstances, and also reexamined at the eleventh hour of illness. Together they represent a remarkable cross-section of contemporary Russian characters and attitudes. The experiences of the central character, Oleg Kostoglotov, closely reflect the author's own: Solzhenitsyn himself became a patient in a cancer ward in the mid-1950s, on his release from a labor camp, and later recovered. Translated by Nicholas Bethel...</td>\n",
              "      <td>[\"['Fiction'\", \" 'Literary'\", \" 'Slavic literature']\"]</td>\n",
              "      <td>['cadetblue', 'peru', 'mediumseagreen']</td>\n",
              "      <td>[cadetblue, peru, mediumseagreen]</td>\n",
              "    </tr>\n",
              "    <tr>\n",
              "      <th>21201</th>\n",
              "      <td>The Resuscitation of a Hanged Man</td>\n",
              "      <td>Resuscitation of a Hanged Man is Denis Johnson's most fully realized novel to date, an enthralling and shattering reading experience, which probes the mysteries of faith, hope and love.</td>\n",
              "      <td>[\"['Fiction'\", \" 'Literary'\", \" 'English literature'\", \" 'American and Canadian literature']\"]</td>\n",
              "      <td>['cadetblue', 'peru', 'orchid', 'saddlebrown']</td>\n",
              "      <td>[cadetblue, peru, orchid, saddlebrown]</td>\n",
              "    </tr>\n",
              "    <tr>\n",
              "      <th>21202</th>\n",
              "      <td>The Complete Stories</td>\n",
              "      <td>Winner of the National Book Award\\n\\nThe publication of this extraordinary volume firmly established Flannery O'Connor's monumental contribution to American fiction.\\n\\nThere are thirty-one stories here in all, including twelve that do not appear in the only two story collections O'Connor put together in her short lifetime--Everything That Rises Must Converge and A Good Man Is Hard to Find.\\n\\nO'Connor published her first story, \"The Geranium,\" in 1946, while she was working on her master's degree at the University of Iowa. Arranged chronologically, this collection shows that her last stor...</td>\n",
              "      <td>[\"['Fiction'\", \" 'Short stories'\", \" 'English literature'\", \" 'American and Canadian literature']\"]</td>\n",
              "      <td>['cadetblue', 'mediumseagreen', 'orchid', 'saddlebrown']</td>\n",
              "      <td>[cadetblue, mediumseagreen, orchid, saddlebrown]</td>\n",
              "    </tr>\n",
              "    <tr>\n",
              "      <th>21203</th>\n",
              "      <td>Everything That Rises Must Converge</td>\n",
              "      <td>Flannery O'Connor was working on Everything That Rises Must Converge at the time of her death. This collection is an exquisite legacy from a genius of the American short story, in which she scrutinizes territory familiar to her readers: race, faith, and morality. The stories encompass the comic and the tragic, the beautiful and the grotesque; each carries her highly individual stamp and could have been written by no one else.</td>\n",
              "      <td>[\"['Fiction'\", \" 'Short stories'\", \" 'English literature'\", \" 'American and Canadian literature']\"]</td>\n",
              "      <td>['cadetblue', 'mediumseagreen', 'orchid', 'saddlebrown']</td>\n",
              "      <td>[cadetblue, mediumseagreen, orchid, saddlebrown]</td>\n",
              "    </tr>\n",
              "  </tbody>\n",
              "</table>\n",
              "</div>\n",
              "      <button class=\"colab-df-convert\" onclick=\"convertToInteractive('df-98dd3626-2b75-4886-9f32-3487ac2f12f7')\"\n",
              "              title=\"Convert this dataframe to an interactive table.\"\n",
              "              style=\"display:none;\">\n",
              "\n",
              "  <svg xmlns=\"http://www.w3.org/2000/svg\" height=\"24px\"viewBox=\"0 0 24 24\"\n",
              "       width=\"24px\">\n",
              "    <path d=\"M0 0h24v24H0V0z\" fill=\"none\"/>\n",
              "    <path d=\"M18.56 5.44l.94 2.06.94-2.06 2.06-.94-2.06-.94-.94-2.06-.94 2.06-2.06.94zm-11 1L8.5 8.5l.94-2.06 2.06-.94-2.06-.94L8.5 2.5l-.94 2.06-2.06.94zm10 10l.94 2.06.94-2.06 2.06-.94-2.06-.94-.94-2.06-.94 2.06-2.06.94z\"/><path d=\"M17.41 7.96l-1.37-1.37c-.4-.4-.92-.59-1.43-.59-.52 0-1.04.2-1.43.59L10.3 9.45l-7.72 7.72c-.78.78-.78 2.05 0 2.83L4 21.41c.39.39.9.59 1.41.59.51 0 1.02-.2 1.41-.59l7.78-7.78 2.81-2.81c.8-.78.8-2.07 0-2.86zM5.41 20L4 18.59l7.72-7.72 1.47 1.35L5.41 20z\"/>\n",
              "  </svg>\n",
              "      </button>\n",
              "\n",
              "\n",
              "\n",
              "    <div id=\"df-bfb41544-5b3f-4ab5-a1e3-5e6c5372c3a1\">\n",
              "      <button class=\"colab-df-quickchart\" onclick=\"quickchart('df-bfb41544-5b3f-4ab5-a1e3-5e6c5372c3a1')\"\n",
              "              title=\"Suggest charts.\"\n",
              "              style=\"display:none;\">\n",
              "\n",
              "<svg xmlns=\"http://www.w3.org/2000/svg\" height=\"24px\"viewBox=\"0 0 24 24\"\n",
              "     width=\"24px\">\n",
              "    <g>\n",
              "        <path d=\"M19 3H5c-1.1 0-2 .9-2 2v14c0 1.1.9 2 2 2h14c1.1 0 2-.9 2-2V5c0-1.1-.9-2-2-2zM9 17H7v-7h2v7zm4 0h-2V7h2v10zm4 0h-2v-4h2v4z\"/>\n",
              "    </g>\n",
              "</svg>\n",
              "      </button>\n",
              "    </div>\n",
              "\n",
              "<style>\n",
              "  .colab-df-quickchart {\n",
              "    background-color: #E8F0FE;\n",
              "    border: none;\n",
              "    border-radius: 50%;\n",
              "    cursor: pointer;\n",
              "    display: none;\n",
              "    fill: #1967D2;\n",
              "    height: 32px;\n",
              "    padding: 0 0 0 0;\n",
              "    width: 32px;\n",
              "  }\n",
              "\n",
              "  .colab-df-quickchart:hover {\n",
              "    background-color: #E2EBFA;\n",
              "    box-shadow: 0px 1px 2px rgba(60, 64, 67, 0.3), 0px 1px 3px 1px rgba(60, 64, 67, 0.15);\n",
              "    fill: #174EA6;\n",
              "  }\n",
              "\n",
              "  [theme=dark] .colab-df-quickchart {\n",
              "    background-color: #3B4455;\n",
              "    fill: #D2E3FC;\n",
              "  }\n",
              "\n",
              "  [theme=dark] .colab-df-quickchart:hover {\n",
              "    background-color: #434B5C;\n",
              "    box-shadow: 0px 1px 3px 1px rgba(0, 0, 0, 0.15);\n",
              "    filter: drop-shadow(0px 1px 2px rgba(0, 0, 0, 0.3));\n",
              "    fill: #FFFFFF;\n",
              "  }\n",
              "</style>\n",
              "\n",
              "    <script>\n",
              "      async function quickchart(key) {\n",
              "        const containerElement = document.querySelector('#' + key);\n",
              "        const charts = await google.colab.kernel.invokeFunction(\n",
              "            'suggestCharts', [key], {});\n",
              "      }\n",
              "    </script>\n",
              "\n",
              "      <script>\n",
              "\n",
              "function displayQuickchartButton(domScope) {\n",
              "  let quickchartButtonEl =\n",
              "    domScope.querySelector('#df-bfb41544-5b3f-4ab5-a1e3-5e6c5372c3a1 button.colab-df-quickchart');\n",
              "  quickchartButtonEl.style.display =\n",
              "    google.colab.kernel.accessAllowed ? 'block' : 'none';\n",
              "}\n",
              "\n",
              "        displayQuickchartButton(document);\n",
              "      </script>\n",
              "      <style>\n",
              "    .colab-df-container {\n",
              "      display:flex;\n",
              "      flex-wrap:wrap;\n",
              "      gap: 12px;\n",
              "    }\n",
              "\n",
              "    .colab-df-convert {\n",
              "      background-color: #E8F0FE;\n",
              "      border: none;\n",
              "      border-radius: 50%;\n",
              "      cursor: pointer;\n",
              "      display: none;\n",
              "      fill: #1967D2;\n",
              "      height: 32px;\n",
              "      padding: 0 0 0 0;\n",
              "      width: 32px;\n",
              "    }\n",
              "\n",
              "    .colab-df-convert:hover {\n",
              "      background-color: #E2EBFA;\n",
              "      box-shadow: 0px 1px 2px rgba(60, 64, 67, 0.3), 0px 1px 3px 1px rgba(60, 64, 67, 0.15);\n",
              "      fill: #174EA6;\n",
              "    }\n",
              "\n",
              "    [theme=dark] .colab-df-convert {\n",
              "      background-color: #3B4455;\n",
              "      fill: #D2E3FC;\n",
              "    }\n",
              "\n",
              "    [theme=dark] .colab-df-convert:hover {\n",
              "      background-color: #434B5C;\n",
              "      box-shadow: 0px 1px 3px 1px rgba(0, 0, 0, 0.15);\n",
              "      filter: drop-shadow(0px 1px 2px rgba(0, 0, 0, 0.3));\n",
              "      fill: #FFFFFF;\n",
              "    }\n",
              "  </style>\n",
              "\n",
              "      <script>\n",
              "        const buttonEl =\n",
              "          document.querySelector('#df-98dd3626-2b75-4886-9f32-3487ac2f12f7 button.colab-df-convert');\n",
              "        buttonEl.style.display =\n",
              "          google.colab.kernel.accessAllowed ? 'block' : 'none';\n",
              "\n",
              "        async function convertToInteractive(key) {\n",
              "          const element = document.querySelector('#df-98dd3626-2b75-4886-9f32-3487ac2f12f7');\n",
              "          const dataTable =\n",
              "            await google.colab.kernel.invokeFunction('convertToInteractive',\n",
              "                                                     [key], {});\n",
              "          if (!dataTable) return;\n",
              "\n",
              "          const docLinkHtml = 'Like what you see? Visit the ' +\n",
              "            '<a target=\"_blank\" href=https://colab.research.google.com/notebooks/data_table.ipynb>data table notebook</a>'\n",
              "            + ' to learn more about interactive tables.';\n",
              "          element.innerHTML = '';\n",
              "          dataTable['output_type'] = 'display_data';\n",
              "          await google.colab.output.renderOutput(dataTable, element);\n",
              "          const docLink = document.createElement('div');\n",
              "          docLink.innerHTML = docLinkHtml;\n",
              "          element.appendChild(docLink);\n",
              "        }\n",
              "      </script>\n",
              "    </div>\n",
              "  </div>\n"
            ]
          },
          "metadata": {},
          "execution_count": 26
        }
      ]
    },
    {
      "cell_type": "code",
      "source": [
        "revised_colors_list = df.revised_colors.to_list()\n",
        "revised_color_count = {}\n",
        "for colors in revised_colors_list:\n",
        "  color_list = colors\n",
        "  for color in color_list:\n",
        "    if color in revised_color_count.keys():\n",
        "      revised_color_count[color] += 1\n",
        "    else:\n",
        "      revised_color_count[color] = 1\n",
        "print(f\"Number of genre-colors: {len(revised_color_count)}\")\n",
        "print(revised_color_count)"
      ],
      "metadata": {
        "colab": {
          "base_uri": "https://localhost:8080/"
        },
        "id": "bSfkyG4zBFw9",
        "outputId": "a6627578-a6dd-4500-c919-9c544ac6d5c9"
      },
      "execution_count": null,
      "outputs": [
        {
          "output_type": "stream",
          "name": "stdout",
          "text": [
            "Number of genre-colors: 58\n",
            "{'firebrick': 20592, 'mediumseagreen': 3674, 'darkviolet': 3306, 'magenta': 1827, 'mediumblue': 1402, 'limegreen': 4004, 'seagreen': 3068, 'tomato': 1973, 'blue': 14904, 'silver': 1257, 'teal': 1985, 'mediumslateblue': 2084, 'darkturquoise': 2408, 'salmon': 1668, 'crimson': 3066, 'cyan': 2643, 'slategrey': 4392, 'gold': 5111, 'cadetblue': 4252, 'indianred': 1177, 'saddlebrown': 1962, 'orangered': 3508, 'yellow': 5030, 'darkgoldenrod': 3043, 'orange': 915, 'mediumspringgreen': 1599, 'olive': 1505, 'darkorange': 2608, 'lavender': 1873, 'rosybrown': 1853, 'brown': 3034, 'pink': 2404, 'orchid': 1831, 'navy': 2251, 'indigo': 1944, 'royalblue': 2471, 'mediumvioletred': 2116, 'red': 3054, 'steelblue': 2618, 'deeppink': 2620, 'darkkhaki': 3061, 'palevioletred': 1290, 'chocolate': 1534, 'green': 2283, 'slateblue': 1418, 'coral': 1250, 'mediumorchid': 1480, 'turquoise': 1874, 'purple': 3674, 'lime': 2911, 'darkcyan': 1576, 'peru': 2826, 'sienna': 1134, 'deepskyblue': 1251, 'maroon': 2825, 'forestgreen': 1103, 'darkslategray': 1018, 'dodgerblue': 1208}\n"
          ]
        }
      ]
    },
    {
      "cell_type": "code",
      "source": [
        "encode_color_types = { key: idx for idx, (key, value) in enumerate(revised_color_count.items())}\n",
        "with open(\"color_types_encoded50.json\", \"w\") as fp:\n",
        "  json.dump(encode_color_types, fp)"
      ],
      "metadata": {
        "id": "77hW5uGTRz2u"
      },
      "execution_count": null,
      "outputs": []
    },
    {
      "cell_type": "code",
      "source": [
        "# We need this because for multilabel classification all genres have possibility to be present in the predictions\n",
        "categorical_color_list = []\n",
        "revised_colors_list = df.revised_colors.to_list()\n",
        "\n",
        "for revised_colors in revised_colors_list:\n",
        "  categorical_list = [0] * len(encode_color_types)\n",
        "  for color in revised_colors:\n",
        "    color_type_index = encode_color_types[color]\n",
        "    categorical_list[color_type_index] = 1\n",
        "  categorical_color_list.append(categorical_list)\n",
        "\n",
        "categorical_color_list[3][:23]"
      ],
      "metadata": {
        "colab": {
          "base_uri": "https://localhost:8080/"
        },
        "id": "OvQ3vjQTSrKO",
        "outputId": "5631bdb1-f08a-4cab-b9be-66ea047210cf"
      },
      "execution_count": null,
      "outputs": [
        {
          "output_type": "execute_result",
          "data": {
            "text/plain": [
              "[0, 0, 1, 0, 0, 0, 0, 0, 0, 0, 0, 0, 0, 1, 0, 0, 1, 1, 1, 1, 0, 0, 0]"
            ]
          },
          "metadata": {},
          "execution_count": 38
        }
      ]
    },
    {
      "cell_type": "code",
      "source": [
        "df['color_cat_list'] = categorical_color_list\n",
        "df.head()"
      ],
      "metadata": {
        "colab": {
          "base_uri": "https://localhost:8080/",
          "height": 979
        },
        "id": "MVllFU9VT6fu",
        "outputId": "e9860153-1dd1-4906-9d84-bfadf364fca6"
      },
      "execution_count": null,
      "outputs": [
        {
          "output_type": "execute_result",
          "data": {
            "text/plain": [
              "                                                                   title  \\\n",
              "0  Awakening Your Money Chakras Secrets to Attracting Wealth and Success   \n",
              "1                                                        Emotions A to Z   \n",
              "2                             The Art of Raise Capital for a New Venture   \n",
              "3                                                  райдуга навколо сонця   \n",
              "4                                      Sibiloi: The Genesis of Humanity?   \n",
              "\n",
              "                                                                                                                                                                                                                                                                                                                                                                                                                                                                                                                                                                                                               description  \\\n",
              "0  Welcome to our enlightening guide on \"Awakening Your Money Chakras: Secrets to Attracting Wealth and Success.\" If you've ever wondered how some people effortlessly attract abundance into their lives while others struggle, this book has the answers you seek!\\n\\nIn this empowering read, we delve into the fascinating world of chakras, the energy centers within us that influence our financial well-being. From the Root Chakra to the Crown Chakra, we explore how each one impacts our money mindset and ability to manifest prosperity.\\n\\nLearn how to identify blockages and imbalances that may have ...   \n",
              "1  \"The Empathy Weave: Embracing Emotional Intelligence for Meaningful Connections\" is a captivating and transformative exploration of emotional intelligence and empathy—a tapestry of understanding and compassion that weaves hearts together with profound human connections. In this enlightening book, readers embark on a journey of self-discovery and growth, unlocking the power of emotional intelligence to enhance personal relationships, professional success, and overall well-being.\\n\\nDrawing upon the rich tapestry of emotional intelligence, this book delves deep into the intricacies of self-a...   \n",
              "2  \"The Art of Raise Capital for Your New Venture\" is a practical and insightful guide that equips entrepreneurs with the knowledge and strategies needed to secure capital for their startup ventures. Authored with the understanding of the challenges faced by startup founders, this book serves as a valuable resource for aspiring entrepreneurs and seasoned founders alike.\\n\\nAt the core of successful fundraising lies the art of visionary storytelling. The book emphasizes the importance of articulating a powerful vision that resonates with potential investors. Through effective communication, en...   \n",
              "3                                                                                                                                                       Життя заможного бізнесмена Марка можна побачити лише у казках: квартири, дорогі автомобілі, красива дівчина. Проте одна подія змінює Марка: врятувавши дівчинку з полум'я та сам ледь не загинувши, він полишає все та вирішує піти у паломництво до Єрусалиму у пошуках відповідей на свої запитання. Шлях далекий та складний, сповнений пригод та небезпек. Але Марк впевнений, що там, біля Гробу Господнього, на нього чекає відповідь на найбільшу таємницю.   \n",
              "4                           ONE Mysterious belt in an antique shop in London is a compass to secret caves of the Amalek tribe in Sibiloi, Northern Kenya.\\n\\nFOUR Researchers want to unravel the truth: biologist Dr Martha Watkins, anthropologist Jim Trevor, and archeologists Dr Paul Brando from California, US, and Professor Simiyu from Kenya.\\n\\nTWO Extremist organisations want the truth buried forever: a religious sect and a terror organisation.\\n\\nDeep in the caves of Sibiloi in Turkana, Kenya, is the answer that has evaded researchers for ages: Sibiloi holds secrets of the genesis of humanity.   \n",
              "\n",
              "                                                                                                                                                                                                                 top_genres  \\\n",
              "0  [\" 'Nonfiction'\", \" 'Business & Economics'\", \" 'New Age'\", \" 'Meditation'\", \" 'Personal finance / money management'\", \" 'Religion & Spirituality'\", \" 'Body\", ' mind', \" & spirit'\", \" 'Inspiration & personal growth'\"]   \n",
              "1                                                                  [\" 'Nonfiction'\", \" 'Inspiration'\", \" 'General self-help'\", \" 'Self-improvement'\", \" 'Anxieties & Phobias'\", \"['Nonfiction'\", \" 'Anxieties & Phobias']\"]   \n",
              "2                                                                                                          [\" 'Business & Economics'\", \" 'Nonfiction'\", \" 'Starting up'\", \" 'Budgeting'\", \"['Nonfiction'\", \" 'Budgeting']\"]   \n",
              "3                                                                                                                                     [\" 'Adventure'\", \" 'Fiction'\", \" 'General'\", \" 'Travel'\", \"['Fiction'\", \" 'Travel']\"]   \n",
              "4                                                                                                                       [\" 'Fiction'\", \" 'Adventure'\", \" 'Science fiction'\", \" 'High tech'\", \"['Fiction'\", \" 'High tech']\"]   \n",
              "\n",
              "                                                                                                                        colors  \\\n",
              "0  ['firebrick', 'mediumseagreen', 'darkviolet', 'magenta', 'mediumblue', 'limegreen', 'seagreen', 'tomato', 'blue', 'silver']   \n",
              "1                                       ['firebrick', 'teal', 'mediumslateblue', 'darkturquoise', 'salmon', 'blue', 'crimson']   \n",
              "2                                                         ['mediumseagreen', 'firebrick', 'cyan', 'teal', 'blue', 'slategrey']   \n",
              "3                                                      ['salmon', 'slategrey', 'gold', 'darkviolet', 'cadetblue', 'indianred']   \n",
              "4                                                   ['slategrey', 'salmon', 'saddlebrown', 'salmon', 'cadetblue', 'firebrick']   \n",
              "\n",
              "                                                                                            revised_colors  \\\n",
              "0  [firebrick, mediumseagreen, darkviolet, magenta, mediumblue, limegreen, seagreen, tomato, blue, silver]   \n",
              "1                                 [firebrick, teal, mediumslateblue, darkturquoise, salmon, blue, crimson]   \n",
              "2                                                 [mediumseagreen, firebrick, cyan, teal, blue, slategrey]   \n",
              "3                                              [salmon, slategrey, gold, darkviolet, cadetblue, indianred]   \n",
              "4                                           [slategrey, salmon, saddlebrown, salmon, cadetblue, firebrick]   \n",
              "\n",
              "                                                                                                                                                                   color_cat_list  \n",
              "0  [1, 1, 1, 1, 1, 1, 1, 1, 1, 1, 0, 0, 0, 0, 0, 0, 0, 0, 0, 0, 0, 0, 0, 0, 0, 0, 0, 0, 0, 0, 0, 0, 0, 0, 0, 0, 0, 0, 0, 0, 0, 0, 0, 0, 0, 0, 0, 0, 0, 0, 0, 0, 0, 0, 0, 0, 0, 0]  \n",
              "1  [1, 0, 0, 0, 0, 0, 0, 0, 1, 0, 1, 1, 1, 1, 1, 0, 0, 0, 0, 0, 0, 0, 0, 0, 0, 0, 0, 0, 0, 0, 0, 0, 0, 0, 0, 0, 0, 0, 0, 0, 0, 0, 0, 0, 0, 0, 0, 0, 0, 0, 0, 0, 0, 0, 0, 0, 0, 0]  \n",
              "2  [1, 1, 0, 0, 0, 0, 0, 0, 1, 0, 1, 0, 0, 0, 0, 1, 1, 0, 0, 0, 0, 0, 0, 0, 0, 0, 0, 0, 0, 0, 0, 0, 0, 0, 0, 0, 0, 0, 0, 0, 0, 0, 0, 0, 0, 0, 0, 0, 0, 0, 0, 0, 0, 0, 0, 0, 0, 0]  \n",
              "3  [0, 0, 1, 0, 0, 0, 0, 0, 0, 0, 0, 0, 0, 1, 0, 0, 1, 1, 1, 1, 0, 0, 0, 0, 0, 0, 0, 0, 0, 0, 0, 0, 0, 0, 0, 0, 0, 0, 0, 0, 0, 0, 0, 0, 0, 0, 0, 0, 0, 0, 0, 0, 0, 0, 0, 0, 0, 0]  \n",
              "4  [1, 0, 0, 0, 0, 0, 0, 0, 0, 0, 0, 0, 0, 1, 0, 0, 1, 0, 1, 0, 1, 0, 0, 0, 0, 0, 0, 0, 0, 0, 0, 0, 0, 0, 0, 0, 0, 0, 0, 0, 0, 0, 0, 0, 0, 0, 0, 0, 0, 0, 0, 0, 0, 0, 0, 0, 0, 0]  "
            ],
            "text/html": [
              "\n",
              "\n",
              "  <div id=\"df-0ff7a83d-197c-4478-8f91-782ce3fc8f9b\">\n",
              "    <div class=\"colab-df-container\">\n",
              "      <div>\n",
              "<style scoped>\n",
              "    .dataframe tbody tr th:only-of-type {\n",
              "        vertical-align: middle;\n",
              "    }\n",
              "\n",
              "    .dataframe tbody tr th {\n",
              "        vertical-align: top;\n",
              "    }\n",
              "\n",
              "    .dataframe thead th {\n",
              "        text-align: right;\n",
              "    }\n",
              "</style>\n",
              "<table border=\"1\" class=\"dataframe\">\n",
              "  <thead>\n",
              "    <tr style=\"text-align: right;\">\n",
              "      <th></th>\n",
              "      <th>title</th>\n",
              "      <th>description</th>\n",
              "      <th>top_genres</th>\n",
              "      <th>colors</th>\n",
              "      <th>revised_colors</th>\n",
              "      <th>color_cat_list</th>\n",
              "    </tr>\n",
              "  </thead>\n",
              "  <tbody>\n",
              "    <tr>\n",
              "      <th>0</th>\n",
              "      <td>Awakening Your Money Chakras Secrets to Attracting Wealth and Success</td>\n",
              "      <td>Welcome to our enlightening guide on \"Awakening Your Money Chakras: Secrets to Attracting Wealth and Success.\" If you've ever wondered how some people effortlessly attract abundance into their lives while others struggle, this book has the answers you seek!\\n\\nIn this empowering read, we delve into the fascinating world of chakras, the energy centers within us that influence our financial well-being. From the Root Chakra to the Crown Chakra, we explore how each one impacts our money mindset and ability to manifest prosperity.\\n\\nLearn how to identify blockages and imbalances that may have ...</td>\n",
              "      <td>[\" 'Nonfiction'\", \" 'Business &amp; Economics'\", \" 'New Age'\", \" 'Meditation'\", \" 'Personal finance / money management'\", \" 'Religion &amp; Spirituality'\", \" 'Body\", ' mind', \" &amp; spirit'\", \" 'Inspiration &amp; personal growth'\"]</td>\n",
              "      <td>['firebrick', 'mediumseagreen', 'darkviolet', 'magenta', 'mediumblue', 'limegreen', 'seagreen', 'tomato', 'blue', 'silver']</td>\n",
              "      <td>[firebrick, mediumseagreen, darkviolet, magenta, mediumblue, limegreen, seagreen, tomato, blue, silver]</td>\n",
              "      <td>[1, 1, 1, 1, 1, 1, 1, 1, 1, 1, 0, 0, 0, 0, 0, 0, 0, 0, 0, 0, 0, 0, 0, 0, 0, 0, 0, 0, 0, 0, 0, 0, 0, 0, 0, 0, 0, 0, 0, 0, 0, 0, 0, 0, 0, 0, 0, 0, 0, 0, 0, 0, 0, 0, 0, 0, 0, 0]</td>\n",
              "    </tr>\n",
              "    <tr>\n",
              "      <th>1</th>\n",
              "      <td>Emotions A to Z</td>\n",
              "      <td>\"The Empathy Weave: Embracing Emotional Intelligence for Meaningful Connections\" is a captivating and transformative exploration of emotional intelligence and empathy—a tapestry of understanding and compassion that weaves hearts together with profound human connections. In this enlightening book, readers embark on a journey of self-discovery and growth, unlocking the power of emotional intelligence to enhance personal relationships, professional success, and overall well-being.\\n\\nDrawing upon the rich tapestry of emotional intelligence, this book delves deep into the intricacies of self-a...</td>\n",
              "      <td>[\" 'Nonfiction'\", \" 'Inspiration'\", \" 'General self-help'\", \" 'Self-improvement'\", \" 'Anxieties &amp; Phobias'\", \"['Nonfiction'\", \" 'Anxieties &amp; Phobias']\"]</td>\n",
              "      <td>['firebrick', 'teal', 'mediumslateblue', 'darkturquoise', 'salmon', 'blue', 'crimson']</td>\n",
              "      <td>[firebrick, teal, mediumslateblue, darkturquoise, salmon, blue, crimson]</td>\n",
              "      <td>[1, 0, 0, 0, 0, 0, 0, 0, 1, 0, 1, 1, 1, 1, 1, 0, 0, 0, 0, 0, 0, 0, 0, 0, 0, 0, 0, 0, 0, 0, 0, 0, 0, 0, 0, 0, 0, 0, 0, 0, 0, 0, 0, 0, 0, 0, 0, 0, 0, 0, 0, 0, 0, 0, 0, 0, 0, 0]</td>\n",
              "    </tr>\n",
              "    <tr>\n",
              "      <th>2</th>\n",
              "      <td>The Art of Raise Capital for a New Venture</td>\n",
              "      <td>\"The Art of Raise Capital for Your New Venture\" is a practical and insightful guide that equips entrepreneurs with the knowledge and strategies needed to secure capital for their startup ventures. Authored with the understanding of the challenges faced by startup founders, this book serves as a valuable resource for aspiring entrepreneurs and seasoned founders alike.\\n\\nAt the core of successful fundraising lies the art of visionary storytelling. The book emphasizes the importance of articulating a powerful vision that resonates with potential investors. Through effective communication, en...</td>\n",
              "      <td>[\" 'Business &amp; Economics'\", \" 'Nonfiction'\", \" 'Starting up'\", \" 'Budgeting'\", \"['Nonfiction'\", \" 'Budgeting']\"]</td>\n",
              "      <td>['mediumseagreen', 'firebrick', 'cyan', 'teal', 'blue', 'slategrey']</td>\n",
              "      <td>[mediumseagreen, firebrick, cyan, teal, blue, slategrey]</td>\n",
              "      <td>[1, 1, 0, 0, 0, 0, 0, 0, 1, 0, 1, 0, 0, 0, 0, 1, 1, 0, 0, 0, 0, 0, 0, 0, 0, 0, 0, 0, 0, 0, 0, 0, 0, 0, 0, 0, 0, 0, 0, 0, 0, 0, 0, 0, 0, 0, 0, 0, 0, 0, 0, 0, 0, 0, 0, 0, 0, 0]</td>\n",
              "    </tr>\n",
              "    <tr>\n",
              "      <th>3</th>\n",
              "      <td>райдуга навколо сонця</td>\n",
              "      <td>Життя заможного бізнесмена Марка можна побачити лише у казках: квартири, дорогі автомобілі, красива дівчина. Проте одна подія змінює Марка: врятувавши дівчинку з полум'я та сам ледь не загинувши, він полишає все та вирішує піти у паломництво до Єрусалиму у пошуках відповідей на свої запитання. Шлях далекий та складний, сповнений пригод та небезпек. Але Марк впевнений, що там, біля Гробу Господнього, на нього чекає відповідь на найбільшу таємницю.</td>\n",
              "      <td>[\" 'Adventure'\", \" 'Fiction'\", \" 'General'\", \" 'Travel'\", \"['Fiction'\", \" 'Travel']\"]</td>\n",
              "      <td>['salmon', 'slategrey', 'gold', 'darkviolet', 'cadetblue', 'indianred']</td>\n",
              "      <td>[salmon, slategrey, gold, darkviolet, cadetblue, indianred]</td>\n",
              "      <td>[0, 0, 1, 0, 0, 0, 0, 0, 0, 0, 0, 0, 0, 1, 0, 0, 1, 1, 1, 1, 0, 0, 0, 0, 0, 0, 0, 0, 0, 0, 0, 0, 0, 0, 0, 0, 0, 0, 0, 0, 0, 0, 0, 0, 0, 0, 0, 0, 0, 0, 0, 0, 0, 0, 0, 0, 0, 0]</td>\n",
              "    </tr>\n",
              "    <tr>\n",
              "      <th>4</th>\n",
              "      <td>Sibiloi: The Genesis of Humanity?</td>\n",
              "      <td>ONE Mysterious belt in an antique shop in London is a compass to secret caves of the Amalek tribe in Sibiloi, Northern Kenya.\\n\\nFOUR Researchers want to unravel the truth: biologist Dr Martha Watkins, anthropologist Jim Trevor, and archeologists Dr Paul Brando from California, US, and Professor Simiyu from Kenya.\\n\\nTWO Extremist organisations want the truth buried forever: a religious sect and a terror organisation.\\n\\nDeep in the caves of Sibiloi in Turkana, Kenya, is the answer that has evaded researchers for ages: Sibiloi holds secrets of the genesis of humanity.</td>\n",
              "      <td>[\" 'Fiction'\", \" 'Adventure'\", \" 'Science fiction'\", \" 'High tech'\", \"['Fiction'\", \" 'High tech']\"]</td>\n",
              "      <td>['slategrey', 'salmon', 'saddlebrown', 'salmon', 'cadetblue', 'firebrick']</td>\n",
              "      <td>[slategrey, salmon, saddlebrown, salmon, cadetblue, firebrick]</td>\n",
              "      <td>[1, 0, 0, 0, 0, 0, 0, 0, 0, 0, 0, 0, 0, 1, 0, 0, 1, 0, 1, 0, 1, 0, 0, 0, 0, 0, 0, 0, 0, 0, 0, 0, 0, 0, 0, 0, 0, 0, 0, 0, 0, 0, 0, 0, 0, 0, 0, 0, 0, 0, 0, 0, 0, 0, 0, 0, 0, 0]</td>\n",
              "    </tr>\n",
              "  </tbody>\n",
              "</table>\n",
              "</div>\n",
              "      <button class=\"colab-df-convert\" onclick=\"convertToInteractive('df-0ff7a83d-197c-4478-8f91-782ce3fc8f9b')\"\n",
              "              title=\"Convert this dataframe to an interactive table.\"\n",
              "              style=\"display:none;\">\n",
              "\n",
              "  <svg xmlns=\"http://www.w3.org/2000/svg\" height=\"24px\"viewBox=\"0 0 24 24\"\n",
              "       width=\"24px\">\n",
              "    <path d=\"M0 0h24v24H0V0z\" fill=\"none\"/>\n",
              "    <path d=\"M18.56 5.44l.94 2.06.94-2.06 2.06-.94-2.06-.94-.94-2.06-.94 2.06-2.06.94zm-11 1L8.5 8.5l.94-2.06 2.06-.94-2.06-.94L8.5 2.5l-.94 2.06-2.06.94zm10 10l.94 2.06.94-2.06 2.06-.94-2.06-.94-.94-2.06-.94 2.06-2.06.94z\"/><path d=\"M17.41 7.96l-1.37-1.37c-.4-.4-.92-.59-1.43-.59-.52 0-1.04.2-1.43.59L10.3 9.45l-7.72 7.72c-.78.78-.78 2.05 0 2.83L4 21.41c.39.39.9.59 1.41.59.51 0 1.02-.2 1.41-.59l7.78-7.78 2.81-2.81c.8-.78.8-2.07 0-2.86zM5.41 20L4 18.59l7.72-7.72 1.47 1.35L5.41 20z\"/>\n",
              "  </svg>\n",
              "      </button>\n",
              "\n",
              "\n",
              "\n",
              "    <div id=\"df-ad1f609f-02c8-4035-8acc-2fdebd27ba51\">\n",
              "      <button class=\"colab-df-quickchart\" onclick=\"quickchart('df-ad1f609f-02c8-4035-8acc-2fdebd27ba51')\"\n",
              "              title=\"Suggest charts.\"\n",
              "              style=\"display:none;\">\n",
              "\n",
              "<svg xmlns=\"http://www.w3.org/2000/svg\" height=\"24px\"viewBox=\"0 0 24 24\"\n",
              "     width=\"24px\">\n",
              "    <g>\n",
              "        <path d=\"M19 3H5c-1.1 0-2 .9-2 2v14c0 1.1.9 2 2 2h14c1.1 0 2-.9 2-2V5c0-1.1-.9-2-2-2zM9 17H7v-7h2v7zm4 0h-2V7h2v10zm4 0h-2v-4h2v4z\"/>\n",
              "    </g>\n",
              "</svg>\n",
              "      </button>\n",
              "    </div>\n",
              "\n",
              "<style>\n",
              "  .colab-df-quickchart {\n",
              "    background-color: #E8F0FE;\n",
              "    border: none;\n",
              "    border-radius: 50%;\n",
              "    cursor: pointer;\n",
              "    display: none;\n",
              "    fill: #1967D2;\n",
              "    height: 32px;\n",
              "    padding: 0 0 0 0;\n",
              "    width: 32px;\n",
              "  }\n",
              "\n",
              "  .colab-df-quickchart:hover {\n",
              "    background-color: #E2EBFA;\n",
              "    box-shadow: 0px 1px 2px rgba(60, 64, 67, 0.3), 0px 1px 3px 1px rgba(60, 64, 67, 0.15);\n",
              "    fill: #174EA6;\n",
              "  }\n",
              "\n",
              "  [theme=dark] .colab-df-quickchart {\n",
              "    background-color: #3B4455;\n",
              "    fill: #D2E3FC;\n",
              "  }\n",
              "\n",
              "  [theme=dark] .colab-df-quickchart:hover {\n",
              "    background-color: #434B5C;\n",
              "    box-shadow: 0px 1px 3px 1px rgba(0, 0, 0, 0.15);\n",
              "    filter: drop-shadow(0px 1px 2px rgba(0, 0, 0, 0.3));\n",
              "    fill: #FFFFFF;\n",
              "  }\n",
              "</style>\n",
              "\n",
              "    <script>\n",
              "      async function quickchart(key) {\n",
              "        const containerElement = document.querySelector('#' + key);\n",
              "        const charts = await google.colab.kernel.invokeFunction(\n",
              "            'suggestCharts', [key], {});\n",
              "      }\n",
              "    </script>\n",
              "\n",
              "      <script>\n",
              "\n",
              "function displayQuickchartButton(domScope) {\n",
              "  let quickchartButtonEl =\n",
              "    domScope.querySelector('#df-ad1f609f-02c8-4035-8acc-2fdebd27ba51 button.colab-df-quickchart');\n",
              "  quickchartButtonEl.style.display =\n",
              "    google.colab.kernel.accessAllowed ? 'block' : 'none';\n",
              "}\n",
              "\n",
              "        displayQuickchartButton(document);\n",
              "      </script>\n",
              "      <style>\n",
              "    .colab-df-container {\n",
              "      display:flex;\n",
              "      flex-wrap:wrap;\n",
              "      gap: 12px;\n",
              "    }\n",
              "\n",
              "    .colab-df-convert {\n",
              "      background-color: #E8F0FE;\n",
              "      border: none;\n",
              "      border-radius: 50%;\n",
              "      cursor: pointer;\n",
              "      display: none;\n",
              "      fill: #1967D2;\n",
              "      height: 32px;\n",
              "      padding: 0 0 0 0;\n",
              "      width: 32px;\n",
              "    }\n",
              "\n",
              "    .colab-df-convert:hover {\n",
              "      background-color: #E2EBFA;\n",
              "      box-shadow: 0px 1px 2px rgba(60, 64, 67, 0.3), 0px 1px 3px 1px rgba(60, 64, 67, 0.15);\n",
              "      fill: #174EA6;\n",
              "    }\n",
              "\n",
              "    [theme=dark] .colab-df-convert {\n",
              "      background-color: #3B4455;\n",
              "      fill: #D2E3FC;\n",
              "    }\n",
              "\n",
              "    [theme=dark] .colab-df-convert:hover {\n",
              "      background-color: #434B5C;\n",
              "      box-shadow: 0px 1px 3px 1px rgba(0, 0, 0, 0.15);\n",
              "      filter: drop-shadow(0px 1px 2px rgba(0, 0, 0, 0.3));\n",
              "      fill: #FFFFFF;\n",
              "    }\n",
              "  </style>\n",
              "\n",
              "      <script>\n",
              "        const buttonEl =\n",
              "          document.querySelector('#df-0ff7a83d-197c-4478-8f91-782ce3fc8f9b button.colab-df-convert');\n",
              "        buttonEl.style.display =\n",
              "          google.colab.kernel.accessAllowed ? 'block' : 'none';\n",
              "\n",
              "        async function convertToInteractive(key) {\n",
              "          const element = document.querySelector('#df-0ff7a83d-197c-4478-8f91-782ce3fc8f9b');\n",
              "          const dataTable =\n",
              "            await google.colab.kernel.invokeFunction('convertToInteractive',\n",
              "                                                     [key], {});\n",
              "          if (!dataTable) return;\n",
              "\n",
              "          const docLinkHtml = 'Like what you see? Visit the ' +\n",
              "            '<a target=\"_blank\" href=https://colab.research.google.com/notebooks/data_table.ipynb>data table notebook</a>'\n",
              "            + ' to learn more about interactive tables.';\n",
              "          element.innerHTML = '';\n",
              "          dataTable['output_type'] = 'display_data';\n",
              "          await google.colab.output.renderOutput(dataTable, element);\n",
              "          const docLink = document.createElement('div');\n",
              "          docLink.innerHTML = docLinkHtml;\n",
              "          element.appendChild(docLink);\n",
              "        }\n",
              "      </script>\n",
              "    </div>\n",
              "  </div>\n"
            ]
          },
          "metadata": {},
          "execution_count": 39
        }
      ]
    },
    {
      "cell_type": "markdown",
      "source": [
        "# Dataloaders and Modeling"
      ],
      "metadata": {
        "id": "0iivDahQUQXM"
      }
    },
    {
      "cell_type": "code",
      "source": [
        "labels = list(encode_color_types.keys())"
      ],
      "metadata": {
        "id": "Xvhlz53fU5Pr"
      },
      "execution_count": null,
      "outputs": []
    },
    {
      "cell_type": "code",
      "source": [
        "model_name = \"distilroberta-base\"\n",
        "model_cls = AutoModelForSequenceClassification\n",
        "config = AutoConfig.from_pretrained(model_name)\n",
        "config.num_labels = len(labels)\n",
        "\n",
        "hf_arch, hf_config, hf_tokenizer, hf_model = get_hf_objects(model_name, model_cls=model_cls, config=config)\n",
        "hf_model.config.problem_type = \"multi_label_classification\""
      ],
      "metadata": {
        "id": "_H_vlv8RUUpc"
      },
      "execution_count": null,
      "outputs": []
    },
    {
      "cell_type": "code",
      "source": [
        "blocks = (TextBlock(hf_arch, hf_config, hf_tokenizer, hf_model), MultiCategoryBlock(encoded=True,vocab=labels))\n",
        "dblock = DataBlock(blocks=blocks, get_x=ColReader('description'), get_y=ColReader('color_cat_list'), splitter=RandomSplitter(valid_pct=0.1, seed=42))"
      ],
      "metadata": {
        "id": "GZlQWjktUo68"
      },
      "execution_count": null,
      "outputs": []
    },
    {
      "cell_type": "code",
      "source": [
        "dls = dblock.dataloaders(df, bs=32)\n",
        "torch.save(dls, \"dataloaders/dls-rainbow-genre-cover-ml-classifier50.pkl\")"
      ],
      "metadata": {
        "id": "MssGyiB5VBa4"
      },
      "execution_count": null,
      "outputs": []
    },
    {
      "cell_type": "code",
      "source": [
        "# dls = torch.load(\"dataloaders/dls-multilabel-book-classifier.pkl\")"
      ],
      "metadata": {
        "id": "CrUFMjsDVPWk"
      },
      "execution_count": null,
      "outputs": []
    },
    {
      "cell_type": "code",
      "source": [
        "dls.vocab"
      ],
      "metadata": {
        "colab": {
          "base_uri": "https://localhost:8080/"
        },
        "id": "2MaVIXp7VTsF",
        "outputId": "62b9c0ee-2c40-4264-f87f-5ee08d18c103"
      },
      "execution_count": null,
      "outputs": [
        {
          "output_type": "execute_result",
          "data": {
            "text/plain": [
              "['firebrick', 'mediumseagreen', 'darkviolet', 'magenta', 'mediumblue', 'limegreen', 'seagreen', 'tomato', 'blue', 'silver', 'teal', 'mediumslateblue', 'darkturquoise', 'salmon', 'crimson', 'cyan', 'slategrey', 'gold', 'cadetblue', 'indianred', 'saddlebrown', 'orangered', 'yellow', 'darkgoldenrod', 'orange', 'mediumspringgreen', 'olive', 'darkorange', 'lavender', 'rosybrown', 'brown', 'pink', 'orchid', 'navy', 'indigo', 'royalblue', 'mediumvioletred', 'red', 'steelblue', 'deeppink', 'darkkhaki', 'palevioletred', 'chocolate', 'green', 'slateblue', 'coral', 'mediumorchid', 'turquoise', 'purple', 'lime', 'darkcyan', 'peru', 'sienna', 'deepskyblue', 'maroon', 'forestgreen', 'darkslategray', 'dodgerblue']"
            ]
          },
          "metadata": {},
          "execution_count": 44
        }
      ]
    },
    {
      "cell_type": "code",
      "source": [
        "dls.show_batch(dataloaders=dls, max_n=4, trunc_at=512)"
      ],
      "metadata": {
        "colab": {
          "base_uri": "https://localhost:8080/",
          "height": 331
        },
        "id": "Em7boTDGVhb1",
        "outputId": "2ddc7658-f00e-44be-9100-f977e499dcf4"
      },
      "execution_count": null,
      "outputs": [
        {
          "output_type": "display_data",
          "data": {
            "text/plain": [
              "<IPython.core.display.HTML object>"
            ],
            "text/html": [
              "<table border=\"1\" class=\"dataframe\">\n",
              "  <thead>\n",
              "    <tr style=\"text-align: right;\">\n",
              "      <th></th>\n",
              "      <th>text</th>\n",
              "      <th>target</th>\n",
              "    </tr>\n",
              "  </thead>\n",
              "  <tbody>\n",
              "    <tr>\n",
              "      <th>0</th>\n",
              "      <td>২০০৫ সালে ময়মনসিঙহ মেডিক্যাল কলেজের ছাত্র মেহদি হাসান খান ও তার বন্ধুদের প্রতিষ্ঠান অমিক্রণ ল্যাব অভ্র বাংলা টাইপিং সফটওয়্যারের মাধ্যমে বাংলা ভাষা অনলাইনে উন্মুক্ত করেন। অভ্রর ইউনিকোড শক্তিতে খুলে যায় বাংলা ভাষায় সৃষ্টিশীলতার অবারিত সম্ভবনার দুয়ার�</td>\n",
              "      <td>[firebrick, limegreen, seagreen, tomato, blue, orange, indigo, royalblue, darkkhaki, mediumorchid]</td>\n",
              "    </tr>\n",
              "    <tr>\n",
              "      <th>1</th>\n",
              "      <td>В молодой семье родился ребёнок. Это огромная радость и счастье родителям. Хорошо, когда папа и мама в ребёнке души не чают. Но в жизни разных людей не всё одинаково складывается.  Бывает так, что с рождением ребёнка на почве зарождающихся сомнений мнительный папаша утверждает: «Ну не похож на меня-и всё!», и история с рождением первенца принимает скандальный оборот вплоть до обвинений в измене. И здесь без проведения генетической экспертизы не обойтись! \\n  Да,</td>\n",
              "      <td>[cyan, olive, red, lime]</td>\n",
              "    </tr>\n",
              "    <tr>\n",
              "      <th>2</th>\n",
              "      <td>માનવતા ચેતનાના પ્રથમ વિકાસથી સમજી ગઈ છે કે કેટલીક મહત્વપૂર્ણ ઘટનાઓ તકને કારણે નથી. ન સમજાય તેવી ઘટનાઓ ઉચ્ચ દાર્શનિક અથવા દૈવી સ્તરના સંકેતો છે. આ બુદ્ધિ માનવ અંતઃકરણ સાથે વાતચીત કરવા માંગે છે.\\n\\nક</td>\n",
              "      <td>[firebrick, blue, darkturquoise, yellow, royalblue, chocolate, turquoise, sienna]</td>\n",
              "    </tr>\n",
              "    <tr>\n",
              "      <th>3</th>\n",
              "      <td>गायन वादन एवं नृत्य इन तीनों कलाओं के समावेश को संगीतज्ञों ने संगीत कहा है। संगीत एक ललित कला है। जिसे अन्य ललित कलाओं में सर्वश्रेष्ठ स्थान प्राप्त है। संगीत मन के भावों को प्रकट करने का सबसे अच्छा साधन माना जाता है। संगीत कला मुख्य रूप से प्रयोगात्मक कला है। जिसका उद्देश्य मन के भावों को बड़ी सहजता और मधुर ढंग से परिमार्जित कर उ</td>\n",
              "      <td>[firebrick, blue, silver, cyan, gold, pink, deeppink, darkkhaki, slateblue, turquoise]</td>\n",
              "    </tr>\n",
              "  </tbody>\n",
              "</table>"
            ]
          },
          "metadata": {}
        }
      ]
    },
    {
      "cell_type": "code",
      "source": [
        "doc(accuracy_multi)"
      ],
      "metadata": {
        "colab": {
          "base_uri": "https://localhost:8080/",
          "height": 155
        },
        "id": "iW0G7xLnX8rt",
        "outputId": "6bd930ca-ca36-46bc-e82c-41747dd1cbff"
      },
      "execution_count": null,
      "outputs": [
        {
          "output_type": "display_data",
          "data": {
            "text/plain": [
              "<IPython.core.display.HTML object>"
            ],
            "text/html": [
              "<hr/>\n",
              "<h3>accuracy_multi</h3>\n",
              "<blockquote><pre><code>accuracy_multi(inp, targ, thresh=0.5, sigmoid=True)</code></pre></blockquote><p>Compute accuracy when `inp` and `targ` are the same size.</p>\n",
              "<p><a href=\"https://docs.fast.ai/metrics.html#accuracy_multi\" target=\"_blank\" rel=\"noreferrer noopener\">Show in docs</a></p>"
            ]
          },
          "metadata": {}
        }
      ]
    },
    {
      "cell_type": "code",
      "source": [
        "model = BaseModelWrapper(hf_model)\n",
        "\n",
        "acc_02 = partial(accuracy_multi, thresh=0.2)\n",
        "\n",
        "learner = Learner(dls,\n",
        "                  model,\n",
        "                  opt_func=partial(OptimWrapper, opt=torch.optim.AdamW),\n",
        "                  loss_func=BCEWithLogitsLossFlat(),\n",
        "                  metrics=[acc_02],\n",
        "                  cbs=[BaseModelCallback],\n",
        "                  splitter=blurr_splitter\n",
        "                  ).to_fp16()"
      ],
      "metadata": {
        "id": "Rdftrmy8Vp6m"
      },
      "execution_count": null,
      "outputs": []
    },
    {
      "cell_type": "markdown",
      "source": [
        "# Stage - 0"
      ],
      "metadata": {
        "id": "ZPvvzNxSV0t9"
      }
    },
    {
      "cell_type": "code",
      "source": [
        "learner.freeze()"
      ],
      "metadata": {
        "id": "ty81uoBYVzmE"
      },
      "execution_count": null,
      "outputs": []
    },
    {
      "cell_type": "code",
      "source": [
        "learner.lr_find(suggest_funcs=[slide, valley])"
      ],
      "metadata": {
        "colab": {
          "base_uri": "https://localhost:8080/",
          "height": 471
        },
        "id": "I4rArCNEV3SE",
        "outputId": "fa7dca31-6167-40e4-ad7d-b6375a3e7a5a"
      },
      "execution_count": null,
      "outputs": [
        {
          "output_type": "display_data",
          "data": {
            "text/plain": [
              "<IPython.core.display.HTML object>"
            ],
            "text/html": [
              "\n",
              "<style>\n",
              "    /* Turns off some styling */\n",
              "    progress {\n",
              "        /* gets rid of default border in Firefox and Opera. */\n",
              "        border: none;\n",
              "        /* Needs to be in here for Safari polyfill so background images work as expected. */\n",
              "        background-size: auto;\n",
              "    }\n",
              "    progress:not([value]), progress:not([value])::-webkit-progress-bar {\n",
              "        background: repeating-linear-gradient(45deg, #7e7e7e, #7e7e7e 10px, #5c5c5c 10px, #5c5c5c 20px);\n",
              "    }\n",
              "    .progress-bar-interrupted, .progress-bar-interrupted::-webkit-progress-bar {\n",
              "        background: #F44336;\n",
              "    }\n",
              "</style>\n"
            ]
          },
          "metadata": {}
        },
        {
          "output_type": "display_data",
          "data": {
            "text/plain": [
              "<IPython.core.display.HTML object>"
            ],
            "text/html": []
          },
          "metadata": {}
        },
        {
          "output_type": "execute_result",
          "data": {
            "text/plain": [
              "SuggestedLRs(slide=0.002511886414140463, valley=9.999999747378752e-06)"
            ]
          },
          "metadata": {},
          "execution_count": 66
        },
        {
          "output_type": "display_data",
          "data": {
            "text/plain": [
              "<Figure size 640x480 with 1 Axes>"
            ],
            "image/png": "[encoded data removed]"
          },
          "metadata": {}
        }
      ]
    },
    {
      "cell_type": "code",
      "source": [
        "learner.fit_one_cycle(6,2.73e-5)"
      ],
      "metadata": {
        "colab": {
          "base_uri": "https://localhost:8080/",
          "height": 238
        },
        "id": "f5EZdBxuWAo9",
        "outputId": "79cbd7aa-d4af-41d4-a0f5-e73389793f3f"
      },
      "execution_count": null,
      "outputs": [
        {
          "output_type": "display_data",
          "data": {
            "text/plain": [
              "<IPython.core.display.HTML object>"
            ],
            "text/html": [
              "\n",
              "<style>\n",
              "    /* Turns off some styling */\n",
              "    progress {\n",
              "        /* gets rid of default border in Firefox and Opera. */\n",
              "        border: none;\n",
              "        /* Needs to be in here for Safari polyfill so background images work as expected. */\n",
              "        background-size: auto;\n",
              "    }\n",
              "    progress:not([value]), progress:not([value])::-webkit-progress-bar {\n",
              "        background: repeating-linear-gradient(45deg, #7e7e7e, #7e7e7e 10px, #5c5c5c 10px, #5c5c5c 20px);\n",
              "    }\n",
              "    .progress-bar-interrupted, .progress-bar-interrupted::-webkit-progress-bar {\n",
              "        background: #F44336;\n",
              "    }\n",
              "</style>\n"
            ]
          },
          "metadata": {}
        },
        {
          "output_type": "display_data",
          "data": {
            "text/plain": [
              "<IPython.core.display.HTML object>"
            ],
            "text/html": [
              "<table border=\"1\" class=\"dataframe\">\n",
              "  <thead>\n",
              "    <tr style=\"text-align: left;\">\n",
              "      <th>epoch</th>\n",
              "      <th>train_loss</th>\n",
              "      <th>valid_loss</th>\n",
              "      <th>accuracy_multi</th>\n",
              "      <th>time</th>\n",
              "    </tr>\n",
              "  </thead>\n",
              "  <tbody>\n",
              "    <tr>\n",
              "      <td>0</td>\n",
              "      <td>0.269278</td>\n",
              "      <td>0.292663</td>\n",
              "      <td>0.863037</td>\n",
              "      <td>03:21</td>\n",
              "    </tr>\n",
              "    <tr>\n",
              "      <td>1</td>\n",
              "      <td>0.272292</td>\n",
              "      <td>0.292315</td>\n",
              "      <td>0.862801</td>\n",
              "      <td>03:23</td>\n",
              "    </tr>\n",
              "    <tr>\n",
              "      <td>2</td>\n",
              "      <td>0.267617</td>\n",
              "      <td>0.292101</td>\n",
              "      <td>0.863256</td>\n",
              "      <td>03:22</td>\n",
              "    </tr>\n",
              "    <tr>\n",
              "      <td>3</td>\n",
              "      <td>0.271310</td>\n",
              "      <td>0.291755</td>\n",
              "      <td>0.863232</td>\n",
              "      <td>03:21</td>\n",
              "    </tr>\n",
              "    <tr>\n",
              "      <td>4</td>\n",
              "      <td>0.268951</td>\n",
              "      <td>0.292089</td>\n",
              "      <td>0.862134</td>\n",
              "      <td>03:24</td>\n",
              "    </tr>\n",
              "    <tr>\n",
              "      <td>5</td>\n",
              "      <td>0.268869</td>\n",
              "      <td>0.292105</td>\n",
              "      <td>0.862224</td>\n",
              "      <td>03:20</td>\n",
              "    </tr>\n",
              "  </tbody>\n",
              "</table>"
            ]
          },
          "metadata": {}
        }
      ]
    },
    {
      "cell_type": "code",
      "source": [
        "learner.save(\"rainbow-genre-cover-classifier-stage-00\")"
      ],
      "metadata": {
        "colab": {
          "base_uri": "https://localhost:8080/"
        },
        "id": "SPWUiFE5WFcA",
        "outputId": "0dab501d-d1cd-4482-da52-d58614508fef"
      },
      "execution_count": null,
      "outputs": [
        {
          "output_type": "execute_result",
          "data": {
            "text/plain": [
              "Path('models/rainbow-genre-cover-classifier-stage-00.pth')"
            ]
          },
          "metadata": {},
          "execution_count": 68
        }
      ]
    },
    {
      "cell_type": "code",
      "source": [
        "learner.export(\"models/rainbow-genre-cover-classifier-stage-00.pkl\")"
      ],
      "metadata": {
        "id": "jtaeu-V_WK89"
      },
      "execution_count": null,
      "outputs": []
    },
    {
      "cell_type": "markdown",
      "source": [
        "# Stage - 1"
      ],
      "metadata": {
        "id": "grdg5-CTWMe1"
      }
    },
    {
      "cell_type": "code",
      "source": [
        "# learner.load(\"book-classifier-stage-0\")"
      ],
      "metadata": {
        "id": "tDSMlbBiWN31"
      },
      "execution_count": null,
      "outputs": []
    },
    {
      "cell_type": "code",
      "source": [
        "learner.unfreeze()"
      ],
      "metadata": {
        "id": "hIRcNyH8WRHP"
      },
      "execution_count": null,
      "outputs": []
    },
    {
      "cell_type": "code",
      "source": [
        "learner.lr_find(suggest_funcs=[slide, valley])"
      ],
      "metadata": {
        "colab": {
          "base_uri": "https://localhost:8080/",
          "height": 471
        },
        "id": "J9c73oaBWSbY",
        "outputId": "ba4dc024-12c0-4c25-f34d-02fc349abb12"
      },
      "execution_count": null,
      "outputs": [
        {
          "output_type": "display_data",
          "data": {
            "text/plain": [
              "<IPython.core.display.HTML object>"
            ],
            "text/html": [
              "\n",
              "<style>\n",
              "    /* Turns off some styling */\n",
              "    progress {\n",
              "        /* gets rid of default border in Firefox and Opera. */\n",
              "        border: none;\n",
              "        /* Needs to be in here for Safari polyfill so background images work as expected. */\n",
              "        background-size: auto;\n",
              "    }\n",
              "    progress:not([value]), progress:not([value])::-webkit-progress-bar {\n",
              "        background: repeating-linear-gradient(45deg, #7e7e7e, #7e7e7e 10px, #5c5c5c 10px, #5c5c5c 20px);\n",
              "    }\n",
              "    .progress-bar-interrupted, .progress-bar-interrupted::-webkit-progress-bar {\n",
              "        background: #F44336;\n",
              "    }\n",
              "</style>\n"
            ]
          },
          "metadata": {}
        },
        {
          "output_type": "display_data",
          "data": {
            "text/plain": [
              "<IPython.core.display.HTML object>"
            ],
            "text/html": []
          },
          "metadata": {}
        },
        {
          "output_type": "execute_result",
          "data": {
            "text/plain": [
              "SuggestedLRs(slide=0.0014454397605732083, valley=2.0892961401841603e-05)"
            ]
          },
          "metadata": {},
          "execution_count": 71
        },
        {
          "output_type": "display_data",
          "data": {
            "text/plain": [
              "<Figure size 640x480 with 1 Axes>"
            ],
            "image/png": "[encoded data removed]"
          },
          "metadata": {}
        }
      ]
    },
    {
      "cell_type": "code",
      "source": [
        "learner.fit_one_cycle(9,slice(2.8e-4, 2.7e-5))"
      ],
      "metadata": {
        "colab": {
          "base_uri": "https://localhost:8080/",
          "height": 332
        },
        "id": "FWTIFBbPWUNW",
        "outputId": "6a33de09-58ba-41ac-9597-587a9579d205"
      },
      "execution_count": null,
      "outputs": [
        {
          "output_type": "display_data",
          "data": {
            "text/plain": [
              "<IPython.core.display.HTML object>"
            ],
            "text/html": [
              "\n",
              "<style>\n",
              "    /* Turns off some styling */\n",
              "    progress {\n",
              "        /* gets rid of default border in Firefox and Opera. */\n",
              "        border: none;\n",
              "        /* Needs to be in here for Safari polyfill so background images work as expected. */\n",
              "        background-size: auto;\n",
              "    }\n",
              "    progress:not([value]), progress:not([value])::-webkit-progress-bar {\n",
              "        background: repeating-linear-gradient(45deg, #7e7e7e, #7e7e7e 10px, #5c5c5c 10px, #5c5c5c 20px);\n",
              "    }\n",
              "    .progress-bar-interrupted, .progress-bar-interrupted::-webkit-progress-bar {\n",
              "        background: #F44336;\n",
              "    }\n",
              "</style>\n"
            ]
          },
          "metadata": {}
        },
        {
          "output_type": "display_data",
          "data": {
            "text/plain": [
              "<IPython.core.display.HTML object>"
            ],
            "text/html": [
              "<table border=\"1\" class=\"dataframe\">\n",
              "  <thead>\n",
              "    <tr style=\"text-align: left;\">\n",
              "      <th>epoch</th>\n",
              "      <th>train_loss</th>\n",
              "      <th>valid_loss</th>\n",
              "      <th>accuracy_multi</th>\n",
              "      <th>time</th>\n",
              "    </tr>\n",
              "  </thead>\n",
              "  <tbody>\n",
              "    <tr>\n",
              "      <td>0</td>\n",
              "      <td>0.266582</td>\n",
              "      <td>0.282549</td>\n",
              "      <td>0.870885</td>\n",
              "      <td>03:40</td>\n",
              "    </tr>\n",
              "    <tr>\n",
              "      <td>1</td>\n",
              "      <td>0.249498</td>\n",
              "      <td>0.274961</td>\n",
              "      <td>0.871576</td>\n",
              "      <td>03:40</td>\n",
              "    </tr>\n",
              "    <tr>\n",
              "      <td>2</td>\n",
              "      <td>0.230604</td>\n",
              "      <td>0.258963</td>\n",
              "      <td>0.871722</td>\n",
              "      <td>03:39</td>\n",
              "    </tr>\n",
              "    <tr>\n",
              "      <td>3</td>\n",
              "      <td>0.206663</td>\n",
              "      <td>0.252315</td>\n",
              "      <td>0.875960</td>\n",
              "      <td>03:39</td>\n",
              "    </tr>\n",
              "    <tr>\n",
              "      <td>4</td>\n",
              "      <td>0.189388</td>\n",
              "      <td>0.246209</td>\n",
              "      <td>0.888069</td>\n",
              "      <td>03:39</td>\n",
              "    </tr>\n",
              "    <tr>\n",
              "      <td>5</td>\n",
              "      <td>0.172620</td>\n",
              "      <td>0.243560</td>\n",
              "      <td>0.885020</td>\n",
              "      <td>03:42</td>\n",
              "    </tr>\n",
              "    <tr>\n",
              "      <td>6</td>\n",
              "      <td>0.159215</td>\n",
              "      <td>0.242750</td>\n",
              "      <td>0.888679</td>\n",
              "      <td>03:38</td>\n",
              "    </tr>\n",
              "    <tr>\n",
              "      <td>7</td>\n",
              "      <td>0.155261</td>\n",
              "      <td>0.242017</td>\n",
              "      <td>0.889314</td>\n",
              "      <td>03:41</td>\n",
              "    </tr>\n",
              "    <tr>\n",
              "      <td>8</td>\n",
              "      <td>0.152586</td>\n",
              "      <td>0.241875</td>\n",
              "      <td>0.889972</td>\n",
              "      <td>03:42</td>\n",
              "    </tr>\n",
              "  </tbody>\n",
              "</table>"
            ]
          },
          "metadata": {}
        }
      ]
    },
    {
      "cell_type": "code",
      "source": [
        "learner.fit_one_cycle(3,slice(2.8e-4, 2.7e-5))"
      ],
      "metadata": {
        "colab": {
          "base_uri": "https://localhost:8080/",
          "height": 143
        },
        "id": "bdv4mhlty2D9",
        "outputId": "dfa183be-2d9d-4cbb-f49c-a2923ea330f1"
      },
      "execution_count": null,
      "outputs": [
        {
          "output_type": "display_data",
          "data": {
            "text/plain": [
              "<IPython.core.display.HTML object>"
            ],
            "text/html": [
              "\n",
              "<style>\n",
              "    /* Turns off some styling */\n",
              "    progress {\n",
              "        /* gets rid of default border in Firefox and Opera. */\n",
              "        border: none;\n",
              "        /* Needs to be in here for Safari polyfill so background images work as expected. */\n",
              "        background-size: auto;\n",
              "    }\n",
              "    progress:not([value]), progress:not([value])::-webkit-progress-bar {\n",
              "        background: repeating-linear-gradient(45deg, #7e7e7e, #7e7e7e 10px, #5c5c5c 10px, #5c5c5c 20px);\n",
              "    }\n",
              "    .progress-bar-interrupted, .progress-bar-interrupted::-webkit-progress-bar {\n",
              "        background: #F44336;\n",
              "    }\n",
              "</style>\n"
            ]
          },
          "metadata": {}
        },
        {
          "output_type": "display_data",
          "data": {
            "text/plain": [
              "<IPython.core.display.HTML object>"
            ],
            "text/html": [
              "<table border=\"1\" class=\"dataframe\">\n",
              "  <thead>\n",
              "    <tr style=\"text-align: left;\">\n",
              "      <th>epoch</th>\n",
              "      <th>train_loss</th>\n",
              "      <th>valid_loss</th>\n",
              "      <th>accuracy_multi</th>\n",
              "      <th>time</th>\n",
              "    </tr>\n",
              "  </thead>\n",
              "  <tbody>\n",
              "    <tr>\n",
              "      <td>0</td>\n",
              "      <td>0.159651</td>\n",
              "      <td>0.244502</td>\n",
              "      <td>0.890477</td>\n",
              "      <td>03:39</td>\n",
              "    </tr>\n",
              "    <tr>\n",
              "      <td>1</td>\n",
              "      <td>0.143981</td>\n",
              "      <td>0.239151</td>\n",
              "      <td>0.893998</td>\n",
              "      <td>03:40</td>\n",
              "    </tr>\n",
              "    <tr>\n",
              "      <td>2</td>\n",
              "      <td>0.128787</td>\n",
              "      <td>0.238788</td>\n",
              "      <td>0.895299</td>\n",
              "      <td>03:43</td>\n",
              "    </tr>\n",
              "  </tbody>\n",
              "</table>"
            ]
          },
          "metadata": {}
        }
      ]
    },
    {
      "cell_type": "code",
      "source": [
        "learner.fit_one_cycle(3,slice(2.8e-4, 2.7e-5))"
      ],
      "metadata": {
        "colab": {
          "base_uri": "https://localhost:8080/",
          "height": 143
        },
        "id": "ftfx-K2h1kAs",
        "outputId": "416c01d2-96ca-4dbf-97d0-a4c92ab09ce1"
      },
      "execution_count": null,
      "outputs": [
        {
          "output_type": "display_data",
          "data": {
            "text/plain": [
              "<IPython.core.display.HTML object>"
            ],
            "text/html": [
              "\n",
              "<style>\n",
              "    /* Turns off some styling */\n",
              "    progress {\n",
              "        /* gets rid of default border in Firefox and Opera. */\n",
              "        border: none;\n",
              "        /* Needs to be in here for Safari polyfill so background images work as expected. */\n",
              "        background-size: auto;\n",
              "    }\n",
              "    progress:not([value]), progress:not([value])::-webkit-progress-bar {\n",
              "        background: repeating-linear-gradient(45deg, #7e7e7e, #7e7e7e 10px, #5c5c5c 10px, #5c5c5c 20px);\n",
              "    }\n",
              "    .progress-bar-interrupted, .progress-bar-interrupted::-webkit-progress-bar {\n",
              "        background: #F44336;\n",
              "    }\n",
              "</style>\n"
            ]
          },
          "metadata": {}
        },
        {
          "output_type": "display_data",
          "data": {
            "text/plain": [
              "<IPython.core.display.HTML object>"
            ],
            "text/html": [
              "<table border=\"1\" class=\"dataframe\">\n",
              "  <thead>\n",
              "    <tr style=\"text-align: left;\">\n",
              "      <th>epoch</th>\n",
              "      <th>train_loss</th>\n",
              "      <th>valid_loss</th>\n",
              "      <th>accuracy_multi</th>\n",
              "      <th>time</th>\n",
              "    </tr>\n",
              "  </thead>\n",
              "  <tbody>\n",
              "    <tr>\n",
              "      <td>0</td>\n",
              "      <td>0.132719</td>\n",
              "      <td>0.240620</td>\n",
              "      <td>0.898089</td>\n",
              "      <td>03:41</td>\n",
              "    </tr>\n",
              "    <tr>\n",
              "      <td>1</td>\n",
              "      <td>0.120202</td>\n",
              "      <td>0.239232</td>\n",
              "      <td>0.902920</td>\n",
              "      <td>03:41</td>\n",
              "    </tr>\n",
              "    <tr>\n",
              "      <td>2</td>\n",
              "      <td>0.104777</td>\n",
              "      <td>0.237899</td>\n",
              "      <td>0.901407</td>\n",
              "      <td>03:40</td>\n",
              "    </tr>\n",
              "  </tbody>\n",
              "</table>"
            ]
          },
          "metadata": {}
        }
      ]
    },
    {
      "cell_type": "code",
      "source": [
        "learner.fit_one_cycle(3,slice(2.8e-4, 2.7e-5))"
      ],
      "metadata": {
        "colab": {
          "base_uri": "https://localhost:8080/",
          "height": 143
        },
        "id": "y5eXco_S4Nk7",
        "outputId": "cd898e95-de3c-4bb2-9c34-283e3bc55c45"
      },
      "execution_count": null,
      "outputs": [
        {
          "output_type": "display_data",
          "data": {
            "text/plain": [
              "<IPython.core.display.HTML object>"
            ],
            "text/html": [
              "\n",
              "<style>\n",
              "    /* Turns off some styling */\n",
              "    progress {\n",
              "        /* gets rid of default border in Firefox and Opera. */\n",
              "        border: none;\n",
              "        /* Needs to be in here for Safari polyfill so background images work as expected. */\n",
              "        background-size: auto;\n",
              "    }\n",
              "    progress:not([value]), progress:not([value])::-webkit-progress-bar {\n",
              "        background: repeating-linear-gradient(45deg, #7e7e7e, #7e7e7e 10px, #5c5c5c 10px, #5c5c5c 20px);\n",
              "    }\n",
              "    .progress-bar-interrupted, .progress-bar-interrupted::-webkit-progress-bar {\n",
              "        background: #F44336;\n",
              "    }\n",
              "</style>\n"
            ]
          },
          "metadata": {}
        },
        {
          "output_type": "display_data",
          "data": {
            "text/plain": [
              "<IPython.core.display.HTML object>"
            ],
            "text/html": [
              "<table border=\"1\" class=\"dataframe\">\n",
              "  <thead>\n",
              "    <tr style=\"text-align: left;\">\n",
              "      <th>epoch</th>\n",
              "      <th>train_loss</th>\n",
              "      <th>valid_loss</th>\n",
              "      <th>accuracy_multi</th>\n",
              "      <th>time</th>\n",
              "    </tr>\n",
              "  </thead>\n",
              "  <tbody>\n",
              "    <tr>\n",
              "      <td>0</td>\n",
              "      <td>0.109206</td>\n",
              "      <td>0.242693</td>\n",
              "      <td>0.900325</td>\n",
              "      <td>03:41</td>\n",
              "    </tr>\n",
              "    <tr>\n",
              "      <td>1</td>\n",
              "      <td>0.100410</td>\n",
              "      <td>0.241451</td>\n",
              "      <td>0.904351</td>\n",
              "      <td>03:38</td>\n",
              "    </tr>\n",
              "    <tr>\n",
              "      <td>2</td>\n",
              "      <td>0.083521</td>\n",
              "      <td>0.239692</td>\n",
              "      <td>0.906230</td>\n",
              "      <td>03:40</td>\n",
              "    </tr>\n",
              "  </tbody>\n",
              "</table>"
            ]
          },
          "metadata": {}
        }
      ]
    },
    {
      "cell_type": "code",
      "source": [
        "learner.save(\"rainbow-genre-cover-classifier-stage-01\")"
      ],
      "metadata": {
        "colab": {
          "base_uri": "https://localhost:8080/"
        },
        "id": "b-J5n553WZz3",
        "outputId": "c8cb786f-8e5d-4571-b8e0-d602fbc066f6"
      },
      "execution_count": null,
      "outputs": [
        {
          "output_type": "execute_result",
          "data": {
            "text/plain": [
              "Path('models/rainbow-genre-cover-classifier-stage-01.pth')"
            ]
          },
          "metadata": {},
          "execution_count": 77
        }
      ]
    },
    {
      "cell_type": "code",
      "source": [
        "learner.export(\"models/rainbow-genre-cover-classifier-stage-01.pkl\")"
      ],
      "metadata": {
        "id": "rMd7GV5PWayd"
      },
      "execution_count": null,
      "outputs": []
    }
  ]
}